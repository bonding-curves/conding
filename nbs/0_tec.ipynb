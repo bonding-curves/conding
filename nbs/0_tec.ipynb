{
 "cells": [
  {
   "cell_type": "code",
   "execution_count": 35,
   "metadata": {},
   "outputs": [
    {
     "name": "stdout",
     "output_type": "stream",
     "text": [
      "The autoreload extension is already loaded. To reload it, use:\n",
      "  %reload_ext autoreload\n"
     ]
    }
   ],
   "source": [
    "%load_ext autoreload\n",
    "%autoreload 2"
   ]
  },
  {
   "cell_type": "markdown",
   "metadata": {},
   "source": [
    "# TEC Dune Dashboard\n",
    "\n",
    "> Python wrapper around the TEC dune analytics dashboards"
   ]
  },
  {
   "cell_type": "code",
   "execution_count": 36,
   "metadata": {},
   "outputs": [],
   "source": [
    "#| default_exp tec"
   ]
  },
  {
   "cell_type": "code",
   "execution_count": 37,
   "metadata": {},
   "outputs": [],
   "source": [
    "#| hide\n",
    "import pandas as pd\n",
    "import hvplot.pandas\n",
    "import numpy as np"
   ]
  },
  {
   "cell_type": "code",
   "execution_count": 38,
   "metadata": {},
   "outputs": [],
   "source": [
    "from conding.dune import DuneWrapper"
   ]
  },
  {
   "cell_type": "code",
   "execution_count": 39,
   "metadata": {},
   "outputs": [],
   "source": [
    "#| export\n",
    "class TECDashboard(DuneWrapper):\n",
    "    \"Interface to the TEC Dune Analytics dashboard.\"\n",
    "    # def __init__(self, dune: DuneAnalytics):\n",
    "    #     super(TECDashboard, self).__init__()\n",
    "\n",
    "    # def holders_distribution(self):\n",
    "    #     df = self.fetch_query_results(1898888)\n",
    "    #     return df\n",
    "    \n",
    "    # def holders_and_supply(self):\n",
    "    #     df = self.fetch_query_results(1898886)\n",
    "    #     return df\n",
    "    \n",
    "    # def holders_over_time(self):\n",
    "    #     df = self.fetch_query_results(1898887)\n",
    "    #     return df\n",
    "    \n",
    "    def price_chart(self):\n",
    "        df = self.fetch_query_results(1898885, [])\n",
    "        return df\n",
    "    \n",
    "    def abc_tributes(self):\n",
    "        df = self.fetch_query_results(1646841, [])\n",
    "        return df"
   ]
  },
  {
   "cell_type": "markdown",
   "metadata": {},
   "source": [
    "Initialize TEC Dashboard Client"
   ]
  },
  {
   "cell_type": "code",
   "execution_count": 40,
   "metadata": {},
   "outputs": [],
   "source": [
    "tec = TECDashboard()"
   ]
  },
  {
   "cell_type": "code",
   "execution_count": 41,
   "metadata": {},
   "outputs": [
    {
     "name": "stderr",
     "output_type": "stream",
     "text": [
      "2023-04-13 19:54:27,128 INFO dune_client.base_client waiting for query execution 01GXXZGAFT4SHX0R6ENGJECJP5 to complete: ExecutionState.EXECUTING\n"
     ]
    }
   ],
   "source": [
    "# Update queries\n",
    "\n",
    "df_price_chart = tec.price_chart()\n",
    "df_abc_tributes = tec.abc_tributes()"
   ]
  },
  {
   "cell_type": "code",
   "execution_count": null,
   "metadata": {},
   "outputs": [
    {
     "data": {
      "text/html": [
       "<div>\n",
       "<style scoped>\n",
       "    .dataframe tbody tr th:only-of-type {\n",
       "        vertical-align: middle;\n",
       "    }\n",
       "\n",
       "    .dataframe tbody tr th {\n",
       "        vertical-align: top;\n",
       "    }\n",
       "\n",
       "    .dataframe thead th {\n",
       "        text-align: right;\n",
       "    }\n",
       "</style>\n",
       "<table border=\"1\" class=\"dataframe\">\n",
       "  <thead>\n",
       "    <tr style=\"text-align: right;\">\n",
       "      <th></th>\n",
       "      <th>block_date</th>\n",
       "      <th>avg_mint_price</th>\n",
       "      <th>avg_burn_price</th>\n",
       "      <th>avg_mkt_price</th>\n",
       "    </tr>\n",
       "  </thead>\n",
       "  <tbody>\n",
       "    <tr>\n",
       "      <th>0</th>\n",
       "      <td>2022-01-25T00:00:00Z</td>\n",
       "      <td>1.956345888613234</td>\n",
       "      <td>2.2216159017515933</td>\n",
       "      <td>2.305089988880045</td>\n",
       "    </tr>\n",
       "    <tr>\n",
       "      <th>1</th>\n",
       "      <td>2022-01-26T00:00:00Z</td>\n",
       "      <td>2.893025644547676</td>\n",
       "      <td>2.2216159017515933</td>\n",
       "      <td>2.5920101807901506</td>\n",
       "    </tr>\n",
       "    <tr>\n",
       "      <th>2</th>\n",
       "      <td>2022-01-27T00:00:00Z</td>\n",
       "      <td>2.864333966225624</td>\n",
       "      <td>2.2216159017515933</td>\n",
       "      <td>2.5403510974065853</td>\n",
       "    </tr>\n",
       "    <tr>\n",
       "      <th>3</th>\n",
       "      <td>2022-01-28T00:00:00Z</td>\n",
       "      <td>2.8263603268647635</td>\n",
       "      <td>2.24996276540192</td>\n",
       "      <td>2.4776305971040147</td>\n",
       "    </tr>\n",
       "    <tr>\n",
       "      <th>4</th>\n",
       "      <td>2022-01-29T00:00:00Z</td>\n",
       "      <td>2.9437308337890533</td>\n",
       "      <td>2.2504243681326854</td>\n",
       "      <td>2.683241567655875</td>\n",
       "    </tr>\n",
       "  </tbody>\n",
       "</table>\n",
       "</div>"
      ],
      "text/plain": [
       "             block_date      avg_mint_price      avg_burn_price  \\\n",
       "0  2022-01-25T00:00:00Z   1.956345888613234  2.2216159017515933   \n",
       "1  2022-01-26T00:00:00Z   2.893025644547676  2.2216159017515933   \n",
       "2  2022-01-27T00:00:00Z   2.864333966225624  2.2216159017515933   \n",
       "3  2022-01-28T00:00:00Z  2.8263603268647635    2.24996276540192   \n",
       "4  2022-01-29T00:00:00Z  2.9437308337890533  2.2504243681326854   \n",
       "\n",
       "        avg_mkt_price  \n",
       "0   2.305089988880045  \n",
       "1  2.5920101807901506  \n",
       "2  2.5403510974065853  \n",
       "3  2.4776305971040147  \n",
       "4   2.683241567655875  "
      ]
     },
     "execution_count": 18,
     "metadata": {},
     "output_type": "execute_result"
    }
   ],
   "source": [
    "df_price_chart = df_price_chart.replace('<nil>',np.nan).bfill()\n",
    "df_price_chart.head()"
   ]
  },
  {
   "cell_type": "code",
   "execution_count": null,
   "metadata": {},
   "outputs": [],
   "source": [
    "df_price_chart['block_date']=pd.to_datetime(df_price_chart['block_date'])\n",
    "df_price_chart[['avg_mkt_price', 'avg_mint_price', 'avg_burn_price']]=df_price_chart[['avg_mkt_price', 'avg_mint_price', 'avg_burn_price']].astype(float)\n"
   ]
  },
  {
   "cell_type": "code",
   "execution_count": null,
   "metadata": {},
   "outputs": [
    {
     "data": {},
     "metadata": {},
     "output_type": "display_data"
    },
    {
     "data": {
      "application/vnd.holoviews_exec.v0+json": "",
      "text/html": [
       "<div id='1864'>\n",
       "  <div class=\"bk-root\" id=\"dab78428-cd9a-4d80-ac29-99f469cdccb7\" data-root-id=\"1864\"></div>\n",
       "</div>\n",
       "<script type=\"application/javascript\">(function(root) {\n",
       "  function embed_document(root) {\n",
       "    var docs_json = {\"fa62c5da-02af-4d4a-96c0-0919dec7c8f9\":{\"defs\":[{\"extends\":null,\"module\":null,\"name\":\"ReactiveHTML1\",\"overrides\":[],\"properties\":[]},{\"extends\":null,\"module\":null,\"name\":\"FlexBox1\",\"overrides\":[],\"properties\":[{\"default\":\"flex-start\",\"kind\":null,\"name\":\"align_content\"},{\"default\":\"flex-start\",\"kind\":null,\"name\":\"align_items\"},{\"default\":\"row\",\"kind\":null,\"name\":\"flex_direction\"},{\"default\":\"wrap\",\"kind\":null,\"name\":\"flex_wrap\"},{\"default\":\"flex-start\",\"kind\":null,\"name\":\"justify_content\"}]},{\"extends\":null,\"module\":null,\"name\":\"GridStack1\",\"overrides\":[],\"properties\":[{\"default\":\"warn\",\"kind\":null,\"name\":\"mode\"},{\"default\":null,\"kind\":null,\"name\":\"ncols\"},{\"default\":null,\"kind\":null,\"name\":\"nrows\"},{\"default\":true,\"kind\":null,\"name\":\"allow_resize\"},{\"default\":true,\"kind\":null,\"name\":\"allow_drag\"},{\"default\":[],\"kind\":null,\"name\":\"state\"}]},{\"extends\":null,\"module\":null,\"name\":\"click1\",\"overrides\":[],\"properties\":[{\"default\":\"\",\"kind\":null,\"name\":\"terminal_output\"},{\"default\":\"\",\"kind\":null,\"name\":\"debug_name\"},{\"default\":0,\"kind\":null,\"name\":\"clears\"}]},{\"extends\":null,\"module\":null,\"name\":\"NotificationAreaBase1\",\"overrides\":[],\"properties\":[{\"default\":\"bottom-right\",\"kind\":null,\"name\":\"position\"},{\"default\":0,\"kind\":null,\"name\":\"_clear\"}]},{\"extends\":null,\"module\":null,\"name\":\"NotificationArea1\",\"overrides\":[],\"properties\":[{\"default\":[],\"kind\":null,\"name\":\"notifications\"},{\"default\":\"bottom-right\",\"kind\":null,\"name\":\"position\"},{\"default\":0,\"kind\":null,\"name\":\"_clear\"},{\"default\":[{\"background\":\"#ffc107\",\"icon\":{\"className\":\"fas fa-exclamation-triangle\",\"color\":\"white\",\"tagName\":\"i\"},\"type\":\"warning\"},{\"background\":\"#007bff\",\"icon\":{\"className\":\"fas fa-info-circle\",\"color\":\"white\",\"tagName\":\"i\"},\"type\":\"info\"}],\"kind\":null,\"name\":\"types\"}]},{\"extends\":null,\"module\":null,\"name\":\"Notification\",\"overrides\":[],\"properties\":[{\"default\":null,\"kind\":null,\"name\":\"background\"},{\"default\":3000,\"kind\":null,\"name\":\"duration\"},{\"default\":null,\"kind\":null,\"name\":\"icon\"},{\"default\":\"\",\"kind\":null,\"name\":\"message\"},{\"default\":null,\"kind\":null,\"name\":\"notification_type\"},{\"default\":false,\"kind\":null,\"name\":\"_destroyed\"}]},{\"extends\":null,\"module\":null,\"name\":\"TemplateActions1\",\"overrides\":[],\"properties\":[{\"default\":0,\"kind\":null,\"name\":\"open_modal\"},{\"default\":0,\"kind\":null,\"name\":\"close_modal\"}]},{\"extends\":null,\"module\":null,\"name\":\"MaterialTemplateActions1\",\"overrides\":[],\"properties\":[{\"default\":0,\"kind\":null,\"name\":\"open_modal\"},{\"default\":0,\"kind\":null,\"name\":\"close_modal\"}]}],\"roots\":{\"references\":[{\"attributes\":{\"days\":[1,15]},\"id\":\"1930\",\"type\":\"DaysTicker\"},{\"attributes\":{\"axis_label\":\"block_date\",\"coordinates\":null,\"formatter\":{\"id\":\"1901\"},\"group\":null,\"major_label_policy\":{\"id\":\"1902\"},\"ticker\":{\"id\":\"1880\"}},\"id\":\"1879\",\"type\":\"DatetimeAxis\"},{\"attributes\":{},\"id\":\"1940\",\"type\":\"Selection\"},{\"attributes\":{},\"id\":\"1974\",\"type\":\"Selection\"},{\"attributes\":{\"data\":{\"Variable\":[\"avg_mint_price\",\"avg_mint_price\",\"avg_mint_price\",\"avg_mint_price\",\"avg_mint_price\",\"avg_mint_price\",\"avg_mint_price\",\"avg_mint_price\",\"avg_mint_price\",\"avg_mint_price\",\"avg_mint_price\",\"avg_mint_price\",\"avg_mint_price\",\"avg_mint_price\",\"avg_mint_price\",\"avg_mint_price\",\"avg_mint_price\",\"avg_mint_price\",\"avg_mint_price\",\"avg_mint_price\",\"avg_mint_price\",\"avg_mint_price\",\"avg_mint_price\",\"avg_mint_price\",\"avg_mint_price\",\"avg_mint_price\",\"avg_mint_price\",\"avg_mint_price\",\"avg_mint_price\",\"avg_mint_price\",\"avg_mint_price\",\"avg_mint_price\",\"avg_mint_price\",\"avg_mint_price\",\"avg_mint_price\",\"avg_mint_price\",\"avg_mint_price\",\"avg_mint_price\",\"avg_mint_price\",\"avg_mint_price\",\"avg_mint_price\",\"avg_mint_price\",\"avg_mint_price\",\"avg_mint_price\",\"avg_mint_price\",\"avg_mint_price\",\"avg_mint_price\",\"avg_mint_price\",\"avg_mint_price\",\"avg_mint_price\",\"avg_mint_price\",\"avg_mint_price\",\"avg_mint_price\",\"avg_mint_price\",\"avg_mint_price\",\"avg_mint_price\",\"avg_mint_price\",\"avg_mint_price\",\"avg_mint_price\",\"avg_mint_price\",\"avg_mint_price\",\"avg_mint_price\",\"avg_mint_price\",\"avg_mint_price\",\"avg_mint_price\",\"avg_mint_price\",\"avg_mint_price\",\"avg_mint_price\",\"avg_mint_price\",\"avg_mint_price\",\"avg_mint_price\",\"avg_mint_price\",\"avg_mint_price\",\"avg_mint_price\",\"avg_mint_price\",\"avg_mint_price\",\"avg_mint_price\",\"avg_mint_price\",\"avg_mint_price\",\"avg_mint_price\",\"avg_mint_price\",\"avg_mint_price\",\"avg_mint_price\",\"avg_mint_price\",\"avg_mint_price\",\"avg_mint_price\",\"avg_mint_price\",\"avg_mint_price\",\"avg_mint_price\",\"avg_mint_price\",\"avg_mint_price\",\"avg_mint_price\",\"avg_mint_price\",\"avg_mint_price\",\"avg_mint_price\",\"avg_mint_price\",\"avg_mint_price\",\"avg_mint_price\",\"avg_mint_price\",\"avg_mint_price\",\"avg_mint_price\",\"avg_mint_price\",\"avg_mint_price\",\"avg_mint_price\",\"avg_mint_price\",\"avg_mint_price\",\"avg_mint_price\",\"avg_mint_price\",\"avg_mint_price\",\"avg_mint_price\",\"avg_mint_price\",\"avg_mint_price\",\"avg_mint_price\",\"avg_mint_price\",\"avg_mint_price\",\"avg_mint_price\",\"avg_mint_price\",\"avg_mint_price\",\"avg_mint_price\",\"avg_mint_price\",\"avg_mint_price\",\"avg_mint_price\",\"avg_mint_price\",\"avg_mint_price\",\"avg_mint_price\",\"avg_mint_price\",\"avg_mint_price\",\"avg_mint_price\",\"avg_mint_price\",\"avg_mint_price\",\"avg_mint_price\",\"avg_mint_price\",\"avg_mint_price\",\"avg_mint_price\",\"avg_mint_price\",\"avg_mint_price\",\"avg_mint_price\",\"avg_mint_price\",\"avg_mint_price\",\"avg_mint_price\",\"avg_mint_price\",\"avg_mint_price\",\"avg_mint_price\",\"avg_mint_price\",\"avg_mint_price\",\"avg_mint_price\",\"avg_mint_price\",\"avg_mint_price\",\"avg_mint_price\",\"avg_mint_price\",\"avg_mint_price\",\"avg_mint_price\",\"avg_mint_price\",\"avg_mint_price\",\"avg_mint_price\",\"avg_mint_price\",\"avg_mint_price\",\"avg_mint_price\",\"avg_mint_price\",\"avg_mint_price\",\"avg_mint_price\",\"avg_mint_price\",\"avg_mint_price\",\"avg_mint_price\",\"avg_mint_price\",\"avg_mint_price\",\"avg_mint_price\",\"avg_mint_price\",\"avg_mint_price\",\"avg_mint_price\",\"avg_mint_price\",\"avg_mint_price\",\"avg_mint_price\",\"avg_mint_price\",\"avg_mint_price\",\"avg_mint_price\",\"avg_mint_price\",\"avg_mint_price\",\"avg_mint_price\",\"avg_mint_price\",\"avg_mint_price\",\"avg_mint_price\",\"avg_mint_price\",\"avg_mint_price\",\"avg_mint_price\",\"avg_mint_price\",\"avg_mint_price\",\"avg_mint_price\",\"avg_mint_price\",\"avg_mint_price\",\"avg_mint_price\",\"avg_mint_price\",\"avg_mint_price\",\"avg_mint_price\",\"avg_mint_price\",\"avg_mint_price\",\"avg_mint_price\",\"avg_mint_price\",\"avg_mint_price\",\"avg_mint_price\",\"avg_mint_price\",\"avg_mint_price\",\"avg_mint_price\",\"avg_mint_price\",\"avg_mint_price\",\"avg_mint_price\",\"avg_mint_price\",\"avg_mint_price\",\"avg_mint_price\",\"avg_mint_price\",\"avg_mint_price\",\"avg_mint_price\",\"avg_mint_price\",\"avg_mint_price\",\"avg_mint_price\",\"avg_mint_price\",\"avg_mint_price\",\"avg_mint_price\",\"avg_mint_price\",\"avg_mint_price\",\"avg_mint_price\",\"avg_mint_price\",\"avg_mint_price\",\"avg_mint_price\",\"avg_mint_price\",\"avg_mint_price\",\"avg_mint_price\",\"avg_mint_price\",\"avg_mint_price\",\"avg_mint_price\",\"avg_mint_price\",\"avg_mint_price\",\"avg_mint_price\",\"avg_mint_price\",\"avg_mint_price\",\"avg_mint_price\",\"avg_mint_price\",\"avg_mint_price\",\"avg_mint_price\",\"avg_mint_price\",\"avg_mint_price\",\"avg_mint_price\",\"avg_mint_price\",\"avg_mint_price\",\"avg_mint_price\",\"avg_mint_price\",\"avg_mint_price\",\"avg_mint_price\",\"avg_mint_price\",\"avg_mint_price\",\"avg_mint_price\",\"avg_mint_price\",\"avg_mint_price\",\"avg_mint_price\",\"avg_mint_price\",\"avg_mint_price\",\"avg_mint_price\",\"avg_mint_price\",\"avg_mint_price\",\"avg_mint_price\",\"avg_mint_price\",\"avg_mint_price\",\"avg_mint_price\",\"avg_mint_price\",\"avg_mint_price\",\"avg_mint_price\",\"avg_mint_price\",\"avg_mint_price\",\"avg_mint_price\",\"avg_mint_price\",\"avg_mint_price\",\"avg_mint_price\",\"avg_mint_price\",\"avg_mint_price\",\"avg_mint_price\",\"avg_mint_price\",\"avg_mint_price\",\"avg_mint_price\",\"avg_mint_price\",\"avg_mint_price\",\"avg_mint_price\",\"avg_mint_price\",\"avg_mint_price\",\"avg_mint_price\",\"avg_mint_price\",\"avg_mint_price\",\"avg_mint_price\",\"avg_mint_price\",\"avg_mint_price\",\"avg_mint_price\",\"avg_mint_price\",\"avg_mint_price\",\"avg_mint_price\",\"avg_mint_price\",\"avg_mint_price\",\"avg_mint_price\",\"avg_mint_price\",\"avg_mint_price\",\"avg_mint_price\",\"avg_mint_price\",\"avg_mint_price\",\"avg_mint_price\",\"avg_mint_price\",\"avg_mint_price\",\"avg_mint_price\",\"avg_mint_price\",\"avg_mint_price\",\"avg_mint_price\",\"avg_mint_price\",\"avg_mint_price\",\"avg_mint_price\",\"avg_mint_price\",\"avg_mint_price\",\"avg_mint_price\",\"avg_mint_price\",\"avg_mint_price\",\"avg_mint_price\",\"avg_mint_price\",\"avg_mint_price\",\"avg_mint_price\",\"avg_mint_price\",\"avg_mint_price\",\"avg_mint_price\",\"avg_mint_price\",\"avg_mint_price\",\"avg_mint_price\",\"avg_mint_price\",\"avg_mint_price\",\"avg_mint_price\",\"avg_mint_price\",\"avg_mint_price\",\"avg_mint_price\",\"avg_mint_price\",\"avg_mint_price\",\"avg_mint_price\",\"avg_mint_price\",\"avg_mint_price\",\"avg_mint_price\",\"avg_mint_price\",\"avg_mint_price\",\"avg_mint_price\",\"avg_mint_price\",\"avg_mint_price\",\"avg_mint_price\",\"avg_mint_price\",\"avg_mint_price\",\"avg_mint_price\",\"avg_mint_price\",\"avg_mint_price\",\"avg_mint_price\",\"avg_mint_price\",\"avg_mint_price\",\"avg_mint_price\",\"avg_mint_price\",\"avg_mint_price\",\"avg_mint_price\",\"avg_mint_price\",\"avg_mint_price\",\"avg_mint_price\",\"avg_mint_price\",\"avg_mint_price\",\"avg_mint_price\",\"avg_mint_price\",\"avg_mint_price\",\"avg_mint_price\",\"avg_mint_price\",\"avg_mint_price\",\"avg_mint_price\",\"avg_mint_price\",\"avg_mint_price\",\"avg_mint_price\",\"avg_mint_price\",\"avg_mint_price\",\"avg_mint_price\",\"avg_mint_price\",\"avg_mint_price\",\"avg_mint_price\",\"avg_mint_price\",\"avg_mint_price\",\"avg_mint_price\",\"avg_mint_price\",\"avg_mint_price\",\"avg_mint_price\",\"avg_mint_price\",\"avg_mint_price\",\"avg_mint_price\",\"avg_mint_price\",\"avg_mint_price\",\"avg_mint_price\",\"avg_mint_price\",\"avg_mint_price\",\"avg_mint_price\",\"avg_mint_price\",\"avg_mint_price\",\"avg_mint_price\",\"avg_mint_price\",\"avg_mint_price\",\"avg_mint_price\",\"avg_mint_price\",\"avg_mint_price\",\"avg_mint_price\",\"avg_mint_price\",\"avg_mint_price\",\"avg_mint_price\",\"avg_mint_price\",\"avg_mint_price\",\"avg_mint_price\",\"avg_mint_price\",\"avg_mint_price\",\"avg_mint_price\",\"avg_mint_price\",\"avg_mint_price\",\"avg_mint_price\",\"avg_mint_price\",\"avg_mint_price\",\"avg_mint_price\",\"avg_mint_price\",\"avg_mint_price\",\"avg_mint_price\",\"avg_mint_price\",\"avg_mint_price\",\"avg_mint_price\",\"avg_mint_price\",\"avg_mint_price\",\"avg_mint_price\",\"avg_mint_price\",\"avg_mint_price\",\"avg_mint_price\",\"avg_mint_price\",\"avg_mint_price\",\"avg_mint_price\",\"avg_mint_price\",\"avg_mint_price\",\"avg_mint_price\",\"avg_mint_price\",\"avg_mint_price\",\"avg_mint_price\",\"avg_mint_price\",\"avg_mint_price\",\"avg_mint_price\",\"avg_mint_price\",\"avg_mint_price\",\"avg_mint_price\"],\"block_date\":{\"__ndarray__\":\"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\",\"dtype\":\"float64\",\"order\":\"little\",\"shape\":[443]},\"value\":{\"__ndarray__\":\"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\",\"dtype\":\"float64\",\"order\":\"little\",\"shape\":[443]}},\"selected\":{\"id\":\"1940\"},\"selection_policy\":{\"id\":\"1956\"}},\"id\":\"1939\",\"type\":\"ColumnDataSource\"},{\"attributes\":{\"base\":60,\"mantissas\":[1,2,5,10,15,20,30],\"max_interval\":1800000.0,\"min_interval\":1000.0,\"num_minor_ticks\":0},\"id\":\"1925\",\"type\":\"AdaptiveTicker\"},{\"attributes\":{\"line_alpha\":0.2,\"line_color\":\"#fc4f30\",\"line_width\":2,\"x\":{\"field\":\"block_date\"},\"y\":{\"field\":\"value\"}},\"id\":\"1944\",\"type\":\"Line\"},{\"attributes\":{\"line_alpha\":0.2,\"line_color\":\"#e5ae38\",\"line_width\":2,\"x\":{\"field\":\"block_date\"},\"y\":{\"field\":\"value\"}},\"id\":\"1978\",\"type\":\"Line\"},{\"attributes\":{\"base\":24,\"mantissas\":[1,2,4,6,8,12],\"max_interval\":43200000.0,\"min_interval\":3600000.0,\"num_minor_ticks\":0},\"id\":\"1926\",\"type\":\"AdaptiveTicker\"},{\"attributes\":{\"days\":[1,8,15,22]},\"id\":\"1929\",\"type\":\"DaysTicker\"},{\"attributes\":{\"months\":[0,2,4,6,8,10]},\"id\":\"1932\",\"type\":\"MonthsTicker\"},{\"attributes\":{\"source\":{\"id\":\"1939\"}},\"id\":\"1946\",\"type\":\"CDSView\"},{\"attributes\":{\"source\":{\"id\":\"1973\"}},\"id\":\"1980\",\"type\":\"CDSView\"},{\"attributes\":{\"days\":[1,2,3,4,5,6,7,8,9,10,11,12,13,14,15,16,17,18,19,20,21,22,23,24,25,26,27,28,29,30,31]},\"id\":\"1927\",\"type\":\"DaysTicker\"},{\"attributes\":{\"days\":[1,4,7,10,13,16,19,22,25,28]},\"id\":\"1928\",\"type\":\"DaysTicker\"},{\"attributes\":{\"months\":[0,4,8]},\"id\":\"1933\",\"type\":\"MonthsTicker\"},{\"attributes\":{\"label\":{\"value\":\"avg_mint_price\"},\"renderers\":[{\"id\":\"1945\"}]},\"id\":\"1971\",\"type\":\"LegendItem\"},{\"attributes\":{\"months\":[0,1,2,3,4,5,6,7,8,9,10,11]},\"id\":\"1931\",\"type\":\"MonthsTicker\"},{\"attributes\":{\"children\":[{\"id\":\"1870\"}],\"height\":300,\"margin\":[0,0,0,0],\"name\":\"Row01558\",\"sizing_mode\":\"fixed\",\"tags\":[\"embedded\"],\"width\":700},\"id\":\"1864\",\"type\":\"Row\"},{\"attributes\":{\"months\":[0,6]},\"id\":\"1934\",\"type\":\"MonthsTicker\"},{\"attributes\":{\"mantissas\":[1,2,5],\"max_interval\":500.0,\"num_minor_ticks\":0},\"id\":\"1924\",\"type\":\"AdaptiveTicker\"},{\"attributes\":{\"callback\":null,\"formatters\":{\"@{block_date}\":\"datetime\"},\"renderers\":[{\"id\":\"1912\"},{\"id\":\"1945\"},{\"id\":\"1979\"}],\"tags\":[\"hv_created\"],\"tooltips\":[[\"Variable\",\"@{Variable}\"],[\"block_date\",\"@{block_date}{%F %T}\"],[\"value\",\"@{value}\"]]},\"id\":\"1867\",\"type\":\"HoverTool\"},{\"attributes\":{\"line_color\":\"#fc4f30\",\"line_width\":2,\"x\":{\"field\":\"block_date\"},\"y\":{\"field\":\"value\"}},\"id\":\"1942\",\"type\":\"Line\"},{\"attributes\":{\"coordinates\":null,\"data_source\":{\"id\":\"1939\"},\"glyph\":{\"id\":\"1942\"},\"group\":null,\"hover_glyph\":null,\"muted_glyph\":{\"id\":\"1944\"},\"nonselection_glyph\":{\"id\":\"1943\"},\"selection_glyph\":{\"id\":\"1972\"},\"view\":{\"id\":\"1946\"}},\"id\":\"1945\",\"type\":\"GlyphRenderer\"},{\"attributes\":{\"coordinates\":null,\"group\":null,\"text\":\"TEC Price Chart\",\"text_color\":\"black\",\"text_font_size\":\"12pt\"},\"id\":\"1871\",\"type\":\"Title\"},{\"attributes\":{},\"id\":\"1956\",\"type\":\"UnionRenderers\"},{\"attributes\":{},\"id\":\"1902\",\"type\":\"AllLabels\"},{\"attributes\":{},\"id\":\"1875\",\"type\":\"LinearScale\"},{\"attributes\":{\"line_alpha\":0.1,\"line_color\":\"#fc4f30\",\"line_width\":2,\"x\":{\"field\":\"block_date\"},\"y\":{\"field\":\"value\"}},\"id\":\"1943\",\"type\":\"Line\"},{\"attributes\":{\"num_minor_ticks\":5,\"tickers\":[{\"id\":\"1924\"},{\"id\":\"1925\"},{\"id\":\"1926\"},{\"id\":\"1927\"},{\"id\":\"1928\"},{\"id\":\"1929\"},{\"id\":\"1930\"},{\"id\":\"1931\"},{\"id\":\"1932\"},{\"id\":\"1933\"},{\"id\":\"1934\"},{\"id\":\"1935\"}]},\"id\":\"1880\",\"type\":\"DatetimeTicker\"},{\"attributes\":{\"end\":1681344000000.0,\"reset_end\":1681344000000.0,\"reset_start\":1643068800000.0,\"start\":1643068800000.0,\"tags\":[[[\"block_date\",\"block_date\",null]]]},\"id\":\"1865\",\"type\":\"Range1d\"},{\"attributes\":{\"axis_label\":\"\",\"coordinates\":null,\"formatter\":{\"id\":\"1904\"},\"group\":null,\"major_label_policy\":{\"id\":\"1905\"},\"ticker\":{\"id\":\"1884\"}},\"id\":\"1883\",\"type\":\"LinearAxis\"},{\"attributes\":{},\"id\":\"1877\",\"type\":\"LinearScale\"},{\"attributes\":{},\"id\":\"1888\",\"type\":\"PanTool\"},{\"attributes\":{\"axis\":{\"id\":\"1879\"},\"coordinates\":null,\"grid_line_color\":null,\"group\":null,\"ticker\":null},\"id\":\"1882\",\"type\":\"Grid\"},{\"attributes\":{\"line_color\":\"#30a2da\",\"line_width\":2,\"x\":{\"field\":\"block_date\"},\"y\":{\"field\":\"value\"}},\"id\":\"1938\",\"type\":\"Line\"},{\"attributes\":{\"axis\":{\"id\":\"1883\"},\"coordinates\":null,\"dimension\":1,\"grid_line_color\":null,\"group\":null,\"ticker\":null},\"id\":\"1886\",\"type\":\"Grid\"},{\"attributes\":{\"data\":{\"Variable\":[\"avg_burn_price\",\"avg_burn_price\",\"avg_burn_price\",\"avg_burn_price\",\"avg_burn_price\",\"avg_burn_price\",\"avg_burn_price\",\"avg_burn_price\",\"avg_burn_price\",\"avg_burn_price\",\"avg_burn_price\",\"avg_burn_price\",\"avg_burn_price\",\"avg_burn_price\",\"avg_burn_price\",\"avg_burn_price\",\"avg_burn_price\",\"avg_burn_price\",\"avg_burn_price\",\"avg_burn_price\",\"avg_burn_price\",\"avg_burn_price\",\"avg_burn_price\",\"avg_burn_price\",\"avg_burn_price\",\"avg_burn_price\",\"avg_burn_price\",\"avg_burn_price\",\"avg_burn_price\",\"avg_burn_price\",\"avg_burn_price\",\"avg_burn_price\",\"avg_burn_price\",\"avg_burn_price\",\"avg_burn_price\",\"avg_burn_price\",\"avg_burn_price\",\"avg_burn_price\",\"avg_burn_price\",\"avg_burn_price\",\"avg_burn_price\",\"avg_burn_price\",\"avg_burn_price\",\"avg_burn_price\",\"avg_burn_price\",\"avg_burn_price\",\"avg_burn_price\",\"avg_burn_price\",\"avg_burn_price\",\"avg_burn_price\",\"avg_burn_price\",\"avg_burn_price\",\"avg_burn_price\",\"avg_burn_price\",\"avg_burn_price\",\"avg_burn_price\",\"avg_burn_price\",\"avg_burn_price\",\"avg_burn_price\",\"avg_burn_price\",\"avg_burn_price\",\"avg_burn_price\",\"avg_burn_price\",\"avg_burn_price\",\"avg_burn_price\",\"avg_burn_price\",\"avg_burn_price\",\"avg_burn_price\",\"avg_burn_price\",\"avg_burn_price\",\"avg_burn_price\",\"avg_burn_price\",\"avg_burn_price\",\"avg_burn_price\",\"avg_burn_price\",\"avg_burn_price\",\"avg_burn_price\",\"avg_burn_price\",\"avg_burn_price\",\"avg_burn_price\",\"avg_burn_price\",\"avg_burn_price\",\"avg_burn_price\",\"avg_burn_price\",\"avg_burn_price\",\"avg_burn_price\",\"avg_burn_price\",\"avg_burn_price\",\"avg_burn_price\",\"avg_burn_price\",\"avg_burn_price\",\"avg_burn_price\",\"avg_burn_price\",\"avg_burn_price\",\"avg_burn_price\",\"avg_burn_price\",\"avg_burn_price\",\"avg_burn_price\",\"avg_burn_price\",\"avg_burn_price\",\"avg_burn_price\",\"avg_burn_price\",\"avg_burn_price\",\"avg_burn_price\",\"avg_burn_price\",\"avg_burn_price\",\"avg_burn_price\",\"avg_burn_price\",\"avg_burn_price\",\"avg_burn_price\",\"avg_burn_price\",\"avg_burn_price\",\"avg_burn_price\",\"avg_burn_price\",\"avg_burn_price\",\"avg_burn_price\",\"avg_burn_price\",\"avg_burn_price\",\"avg_burn_price\",\"avg_burn_price\",\"avg_burn_price\",\"avg_burn_price\",\"avg_burn_price\",\"avg_burn_price\",\"avg_burn_price\",\"avg_burn_price\",\"avg_burn_price\",\"avg_burn_price\",\"avg_burn_price\",\"avg_burn_price\",\"avg_burn_price\",\"avg_burn_price\",\"avg_burn_price\",\"avg_burn_price\",\"avg_burn_price\",\"avg_burn_price\",\"avg_burn_price\",\"avg_burn_price\",\"avg_burn_price\",\"avg_burn_price\",\"avg_burn_price\",\"avg_burn_price\",\"avg_burn_price\",\"avg_burn_price\",\"avg_burn_price\",\"avg_burn_price\",\"avg_burn_price\",\"avg_burn_price\",\"avg_burn_price\",\"avg_burn_price\",\"avg_burn_price\",\"avg_burn_price\",\"avg_burn_price\",\"avg_burn_price\",\"avg_burn_price\",\"avg_burn_price\",\"avg_burn_price\",\"avg_burn_price\",\"avg_burn_price\",\"avg_burn_price\",\"avg_burn_price\",\"avg_burn_price\",\"avg_burn_price\",\"avg_burn_price\",\"avg_burn_price\",\"avg_burn_price\",\"avg_burn_price\",\"avg_burn_price\",\"avg_burn_price\",\"avg_burn_price\",\"avg_burn_price\",\"avg_burn_price\",\"avg_burn_price\",\"avg_burn_price\",\"avg_burn_price\",\"avg_burn_price\",\"avg_burn_price\",\"avg_burn_price\",\"avg_burn_price\",\"avg_burn_price\",\"avg_burn_price\",\"avg_burn_price\",\"avg_burn_price\",\"avg_burn_price\",\"avg_burn_price\",\"avg_burn_price\",\"avg_burn_price\",\"avg_burn_price\",\"avg_burn_price\",\"avg_burn_price\",\"avg_burn_price\",\"avg_burn_price\",\"avg_burn_price\",\"avg_burn_price\",\"avg_burn_price\",\"avg_burn_price\",\"avg_burn_price\",\"avg_burn_price\",\"avg_burn_price\",\"avg_burn_price\",\"avg_burn_price\",\"avg_burn_price\",\"avg_burn_price\",\"avg_burn_price\",\"avg_burn_price\",\"avg_burn_price\",\"avg_burn_price\",\"avg_burn_price\",\"avg_burn_price\",\"avg_burn_price\",\"avg_burn_price\",\"avg_burn_price\",\"avg_burn_price\",\"avg_burn_price\",\"avg_burn_price\",\"avg_burn_price\",\"avg_burn_price\",\"avg_burn_price\",\"avg_burn_price\",\"avg_burn_price\",\"avg_burn_price\",\"avg_burn_price\",\"avg_burn_price\",\"avg_burn_price\",\"avg_burn_price\",\"avg_burn_price\",\"avg_burn_price\",\"avg_burn_price\",\"avg_burn_price\",\"avg_burn_price\",\"avg_burn_price\",\"avg_burn_price\",\"avg_burn_price\",\"avg_burn_price\",\"avg_burn_price\",\"avg_burn_price\",\"avg_burn_price\",\"avg_burn_price\",\"avg_burn_price\",\"avg_burn_price\",\"avg_burn_price\",\"avg_burn_price\",\"avg_burn_price\",\"avg_burn_price\",\"avg_burn_price\",\"avg_burn_price\",\"avg_burn_price\",\"avg_burn_price\",\"avg_burn_price\",\"avg_burn_price\",\"avg_burn_price\",\"avg_burn_price\",\"avg_burn_price\",\"avg_burn_price\",\"avg_burn_price\",\"avg_burn_price\",\"avg_burn_price\",\"avg_burn_price\",\"avg_burn_price\",\"avg_burn_price\",\"avg_burn_price\",\"avg_burn_price\",\"avg_burn_price\",\"avg_burn_price\",\"avg_burn_price\",\"avg_burn_price\",\"avg_burn_price\",\"avg_burn_price\",\"avg_burn_price\",\"avg_burn_price\",\"avg_burn_price\",\"avg_burn_price\",\"avg_burn_price\",\"avg_burn_price\",\"avg_burn_price\",\"avg_burn_price\",\"avg_burn_price\",\"avg_burn_price\",\"avg_burn_price\",\"avg_burn_price\",\"avg_burn_price\",\"avg_burn_price\",\"avg_burn_price\",\"avg_burn_price\",\"avg_burn_price\",\"avg_burn_price\",\"avg_burn_price\",\"avg_burn_price\",\"avg_burn_price\",\"avg_burn_price\",\"avg_burn_price\",\"avg_burn_price\",\"avg_burn_price\",\"avg_burn_price\",\"avg_burn_price\",\"avg_burn_price\",\"avg_burn_price\",\"avg_burn_price\",\"avg_burn_price\",\"avg_burn_price\",\"avg_burn_price\",\"avg_burn_price\",\"avg_burn_price\",\"avg_burn_price\",\"avg_burn_price\",\"avg_burn_price\",\"avg_burn_price\",\"avg_burn_price\",\"avg_burn_price\",\"avg_burn_price\",\"avg_burn_price\",\"avg_burn_price\",\"avg_burn_price\",\"avg_burn_price\",\"avg_burn_price\",\"avg_burn_price\",\"avg_burn_price\",\"avg_burn_price\",\"avg_burn_price\",\"avg_burn_price\",\"avg_burn_price\",\"avg_burn_price\",\"avg_burn_price\",\"avg_burn_price\",\"avg_burn_price\",\"avg_burn_price\",\"avg_burn_price\",\"avg_burn_price\",\"avg_burn_price\",\"avg_burn_price\",\"avg_burn_price\",\"avg_burn_price\",\"avg_burn_price\",\"avg_burn_price\",\"avg_burn_price\",\"avg_burn_price\",\"avg_burn_price\",\"avg_burn_price\",\"avg_burn_price\",\"avg_burn_price\",\"avg_burn_price\",\"avg_burn_price\",\"avg_burn_price\",\"avg_burn_price\",\"avg_burn_price\",\"avg_burn_price\",\"avg_burn_price\",\"avg_burn_price\",\"avg_burn_price\",\"avg_burn_price\",\"avg_burn_price\",\"avg_burn_price\",\"avg_burn_price\",\"avg_burn_price\",\"avg_burn_price\",\"avg_burn_price\",\"avg_burn_price\",\"avg_burn_price\",\"avg_burn_price\",\"avg_burn_price\",\"avg_burn_price\",\"avg_burn_price\",\"avg_burn_price\",\"avg_burn_price\",\"avg_burn_price\",\"avg_burn_price\",\"avg_burn_price\",\"avg_burn_price\",\"avg_burn_price\",\"avg_burn_price\",\"avg_burn_price\",\"avg_burn_price\",\"avg_burn_price\",\"avg_burn_price\",\"avg_burn_price\",\"avg_burn_price\",\"avg_burn_price\",\"avg_burn_price\",\"avg_burn_price\",\"avg_burn_price\",\"avg_burn_price\",\"avg_burn_price\",\"avg_burn_price\",\"avg_burn_price\",\"avg_burn_price\",\"avg_burn_price\",\"avg_burn_price\",\"avg_burn_price\",\"avg_burn_price\",\"avg_burn_price\",\"avg_burn_price\",\"avg_burn_price\",\"avg_burn_price\",\"avg_burn_price\",\"avg_burn_price\",\"avg_burn_price\",\"avg_burn_price\",\"avg_burn_price\",\"avg_burn_price\",\"avg_burn_price\",\"avg_burn_price\",\"avg_burn_price\",\"avg_burn_price\",\"avg_burn_price\",\"avg_burn_price\",\"avg_burn_price\",\"avg_burn_price\",\"avg_burn_price\",\"avg_burn_price\",\"avg_burn_price\",\"avg_burn_price\",\"avg_burn_price\",\"avg_burn_price\",\"avg_burn_price\",\"avg_burn_price\",\"avg_burn_price\",\"avg_burn_price\",\"avg_burn_price\",\"avg_burn_price\",\"avg_burn_price\",\"avg_burn_price\",\"avg_burn_price\",\"avg_burn_price\",\"avg_burn_price\",\"avg_burn_price\",\"avg_burn_price\",\"avg_burn_price\",\"avg_burn_price\",\"avg_burn_price\",\"avg_burn_price\",\"avg_burn_price\",\"avg_burn_price\",\"avg_burn_price\",\"avg_burn_price\",\"avg_burn_price\",\"avg_burn_price\",\"avg_burn_price\",\"avg_burn_price\",\"avg_burn_price\",\"avg_burn_price\",\"avg_burn_price\",\"avg_burn_price\",\"avg_burn_price\"],\"block_date\":{\"__ndarray__\":\"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\",\"dtype\":\"float64\",\"order\":\"little\",\"shape\":[443]},\"value\":{\"__ndarray__\":\"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\",\"dtype\":\"float64\",\"order\":\"little\",\"shape\":[443]}},\"selected\":{\"id\":\"1974\"},\"selection_policy\":{\"id\":\"1992\"}},\"id\":\"1973\",\"type\":\"ColumnDataSource\"},{\"attributes\":{},\"id\":\"1884\",\"type\":\"BasicTicker\"},{\"attributes\":{\"line_color\":\"#fc4f30\",\"line_width\":2,\"x\":{\"field\":\"block_date\"},\"y\":{\"field\":\"value\"}},\"id\":\"1972\",\"type\":\"Line\"},{\"attributes\":{},\"id\":\"1889\",\"type\":\"WheelZoomTool\"},{\"attributes\":{\"end\":3.1864726320905166,\"reset_end\":3.1864726320905166,\"reset_start\":0.27862076132431923,\"start\":0.27862076132431923,\"tags\":[[[\"value\",\"value\",null]]]},\"id\":\"1866\",\"type\":\"Range1d\"},{\"attributes\":{},\"id\":\"1887\",\"type\":\"SaveTool\"},{\"attributes\":{\"overlay\":{\"id\":\"1892\"}},\"id\":\"1890\",\"type\":\"BoxZoomTool\"},{\"attributes\":{},\"id\":\"1921\",\"type\":\"UnionRenderers\"},{\"attributes\":{},\"id\":\"1891\",\"type\":\"ResetTool\"},{\"attributes\":{\"bottom_units\":\"screen\",\"coordinates\":null,\"fill_alpha\":0.5,\"fill_color\":\"lightgrey\",\"group\":null,\"left_units\":\"screen\",\"level\":\"overlay\",\"line_alpha\":1.0,\"line_color\":\"black\",\"line_dash\":[4,4],\"line_width\":2,\"right_units\":\"screen\",\"syncable\":false,\"top_units\":\"screen\"},\"id\":\"1892\",\"type\":\"BoxAnnotation\"},{\"attributes\":{\"line_alpha\":0.1,\"line_color\":\"#e5ae38\",\"line_width\":2,\"x\":{\"field\":\"block_date\"},\"y\":{\"field\":\"value\"}},\"id\":\"1977\",\"type\":\"Line\"},{\"attributes\":{},\"id\":\"1904\",\"type\":\"BasicTickFormatter\"},{\"attributes\":{\"coordinates\":null,\"data_source\":{\"id\":\"1973\"},\"glyph\":{\"id\":\"1976\"},\"group\":null,\"hover_glyph\":null,\"muted_glyph\":{\"id\":\"1978\"},\"nonselection_glyph\":{\"id\":\"1977\"},\"selection_glyph\":{\"id\":\"2008\"},\"view\":{\"id\":\"1980\"}},\"id\":\"1979\",\"type\":\"GlyphRenderer\"},{\"attributes\":{\"line_color\":\"#e5ae38\",\"line_width\":2,\"x\":{\"field\":\"block_date\"},\"y\":{\"field\":\"value\"}},\"id\":\"1976\",\"type\":\"Line\"},{\"attributes\":{\"line_color\":\"#e5ae38\",\"line_width\":2,\"x\":{\"field\":\"block_date\"},\"y\":{\"field\":\"value\"}},\"id\":\"2008\",\"type\":\"Line\"},{\"attributes\":{\"active_drag\":{\"id\":\"1888\"},\"active_scroll\":{\"id\":\"1889\"},\"tools\":[{\"id\":\"1867\"},{\"id\":\"1887\"},{\"id\":\"1888\"},{\"id\":\"1889\"},{\"id\":\"1890\"},{\"id\":\"1891\"}]},\"id\":\"1893\",\"type\":\"Toolbar\"},{\"attributes\":{},\"id\":\"1935\",\"type\":\"YearsTicker\"},{\"attributes\":{\"coordinates\":null,\"data_source\":{\"id\":\"1906\"},\"glyph\":{\"id\":\"1909\"},\"group\":null,\"hover_glyph\":null,\"muted_glyph\":{\"id\":\"1911\"},\"nonselection_glyph\":{\"id\":\"1910\"},\"selection_glyph\":{\"id\":\"1938\"},\"view\":{\"id\":\"1913\"}},\"id\":\"1912\",\"type\":\"GlyphRenderer\"},{\"attributes\":{},\"id\":\"1905\",\"type\":\"AllLabels\"},{\"attributes\":{\"click_policy\":\"mute\",\"coordinates\":null,\"group\":null,\"items\":[{\"id\":\"1937\"},{\"id\":\"1971\"},{\"id\":\"2007\"}],\"location\":[0,0],\"title\":\"Variable\"},\"id\":\"1936\",\"type\":\"Legend\"},{\"attributes\":{\"source\":{\"id\":\"1906\"}},\"id\":\"1913\",\"type\":\"CDSView\"},{\"attributes\":{\"label\":{\"value\":\"avg_mkt_price\"},\"renderers\":[{\"id\":\"1912\"}]},\"id\":\"1937\",\"type\":\"LegendItem\"},{\"attributes\":{},\"id\":\"1901\",\"type\":\"DatetimeTickFormatter\"},{\"attributes\":{\"line_alpha\":0.2,\"line_color\":\"#30a2da\",\"line_width\":2,\"x\":{\"field\":\"block_date\"},\"y\":{\"field\":\"value\"}},\"id\":\"1911\",\"type\":\"Line\"},{\"attributes\":{\"line_alpha\":0.1,\"line_color\":\"#30a2da\",\"line_width\":2,\"x\":{\"field\":\"block_date\"},\"y\":{\"field\":\"value\"}},\"id\":\"1910\",\"type\":\"Line\"},{\"attributes\":{\"below\":[{\"id\":\"1879\"}],\"center\":[{\"id\":\"1882\"},{\"id\":\"1886\"}],\"height\":300,\"left\":[{\"id\":\"1883\"}],\"margin\":[5,5,5,5],\"min_border_bottom\":10,\"min_border_left\":10,\"min_border_right\":10,\"min_border_top\":10,\"renderers\":[{\"id\":\"1912\"},{\"id\":\"1945\"},{\"id\":\"1979\"}],\"right\":[{\"id\":\"1936\"}],\"sizing_mode\":\"fixed\",\"title\":{\"id\":\"1871\"},\"toolbar\":{\"id\":\"1893\"},\"width\":700,\"x_range\":{\"id\":\"1865\"},\"x_scale\":{\"id\":\"1875\"},\"y_range\":{\"id\":\"1866\"},\"y_scale\":{\"id\":\"1877\"}},\"id\":\"1870\",\"subtype\":\"Figure\",\"type\":\"Plot\"},{\"attributes\":{\"line_color\":\"#30a2da\",\"line_width\":2,\"x\":{\"field\":\"block_date\"},\"y\":{\"field\":\"value\"}},\"id\":\"1909\",\"type\":\"Line\"},{\"attributes\":{},\"id\":\"1992\",\"type\":\"UnionRenderers\"},{\"attributes\":{},\"id\":\"1907\",\"type\":\"Selection\"},{\"attributes\":{\"data\":{\"Variable\":[\"avg_mkt_price\",\"avg_mkt_price\",\"avg_mkt_price\",\"avg_mkt_price\",\"avg_mkt_price\",\"avg_mkt_price\",\"avg_mkt_price\",\"avg_mkt_price\",\"avg_mkt_price\",\"avg_mkt_price\",\"avg_mkt_price\",\"avg_mkt_price\",\"avg_mkt_price\",\"avg_mkt_price\",\"avg_mkt_price\",\"avg_mkt_price\",\"avg_mkt_price\",\"avg_mkt_price\",\"avg_mkt_price\",\"avg_mkt_price\",\"avg_mkt_price\",\"avg_mkt_price\",\"avg_mkt_price\",\"avg_mkt_price\",\"avg_mkt_price\",\"avg_mkt_price\",\"avg_mkt_price\",\"avg_mkt_price\",\"avg_mkt_price\",\"avg_mkt_price\",\"avg_mkt_price\",\"avg_mkt_price\",\"avg_mkt_price\",\"avg_mkt_price\",\"avg_mkt_price\",\"avg_mkt_price\",\"avg_mkt_price\",\"avg_mkt_price\",\"avg_mkt_price\",\"avg_mkt_price\",\"avg_mkt_price\",\"avg_mkt_price\",\"avg_mkt_price\",\"avg_mkt_price\",\"avg_mkt_price\",\"avg_mkt_price\",\"avg_mkt_price\",\"avg_mkt_price\",\"avg_mkt_price\",\"avg_mkt_price\",\"avg_mkt_price\",\"avg_mkt_price\",\"avg_mkt_price\",\"avg_mkt_price\",\"avg_mkt_price\",\"avg_mkt_price\",\"avg_mkt_price\",\"avg_mkt_price\",\"avg_mkt_price\",\"avg_mkt_price\",\"avg_mkt_price\",\"avg_mkt_price\",\"avg_mkt_price\",\"avg_mkt_price\",\"avg_mkt_price\",\"avg_mkt_price\",\"avg_mkt_price\",\"avg_mkt_price\",\"avg_mkt_price\",\"avg_mkt_price\",\"avg_mkt_price\",\"avg_mkt_price\",\"avg_mkt_price\",\"avg_mkt_price\",\"avg_mkt_price\",\"avg_mkt_price\",\"avg_mkt_price\",\"avg_mkt_price\",\"avg_mkt_price\",\"avg_mkt_price\",\"avg_mkt_price\",\"avg_mkt_price\",\"avg_mkt_price\",\"avg_mkt_price\",\"avg_mkt_price\",\"avg_mkt_price\",\"avg_mkt_price\",\"avg_mkt_price\",\"avg_mkt_price\",\"avg_mkt_price\",\"avg_mkt_price\",\"avg_mkt_price\",\"avg_mkt_price\",\"avg_mkt_price\",\"avg_mkt_price\",\"avg_mkt_price\",\"avg_mkt_price\",\"avg_mkt_price\",\"avg_mkt_price\",\"avg_mkt_price\",\"avg_mkt_price\",\"avg_mkt_price\",\"avg_mkt_price\",\"avg_mkt_price\",\"avg_mkt_price\",\"avg_mkt_price\",\"avg_mkt_price\",\"avg_mkt_price\",\"avg_mkt_price\",\"avg_mkt_price\",\"avg_mkt_price\",\"avg_mkt_price\",\"avg_mkt_price\",\"avg_mkt_price\",\"avg_mkt_price\",\"avg_mkt_price\",\"avg_mkt_price\",\"avg_mkt_price\",\"avg_mkt_price\",\"avg_mkt_price\",\"avg_mkt_price\",\"avg_mkt_price\",\"avg_mkt_price\",\"avg_mkt_price\",\"avg_mkt_price\",\"avg_mkt_price\",\"avg_mkt_price\",\"avg_mkt_price\",\"avg_mkt_price\",\"avg_mkt_price\",\"avg_mkt_price\",\"avg_mkt_price\",\"avg_mkt_price\",\"avg_mkt_price\",\"avg_mkt_price\",\"avg_mkt_price\",\"avg_mkt_price\",\"avg_mkt_price\",\"avg_mkt_price\",\"avg_mkt_price\",\"avg_mkt_price\",\"avg_mkt_price\",\"avg_mkt_price\",\"avg_mkt_price\",\"avg_mkt_price\",\"avg_mkt_price\",\"avg_mkt_price\",\"avg_mkt_price\",\"avg_mkt_price\",\"avg_mkt_price\",\"avg_mkt_price\",\"avg_mkt_price\",\"avg_mkt_price\",\"avg_mkt_price\",\"avg_mkt_price\",\"avg_mkt_price\",\"avg_mkt_price\",\"avg_mkt_price\",\"avg_mkt_price\",\"avg_mkt_price\",\"avg_mkt_price\",\"avg_mkt_price\",\"avg_mkt_price\",\"avg_mkt_price\",\"avg_mkt_price\",\"avg_mkt_price\",\"avg_mkt_price\",\"avg_mkt_price\",\"avg_mkt_price\",\"avg_mkt_price\",\"avg_mkt_price\",\"avg_mkt_price\",\"avg_mkt_price\",\"avg_mkt_price\",\"avg_mkt_price\",\"avg_mkt_price\",\"avg_mkt_price\",\"avg_mkt_price\",\"avg_mkt_price\",\"avg_mkt_price\",\"avg_mkt_price\",\"avg_mkt_price\",\"avg_mkt_price\",\"avg_mkt_price\",\"avg_mkt_price\",\"avg_mkt_price\",\"avg_mkt_price\",\"avg_mkt_price\",\"avg_mkt_price\",\"avg_mkt_price\",\"avg_mkt_price\",\"avg_mkt_price\",\"avg_mkt_price\",\"avg_mkt_price\",\"avg_mkt_price\",\"avg_mkt_price\",\"avg_mkt_price\",\"avg_mkt_price\",\"avg_mkt_price\",\"avg_mkt_price\",\"avg_mkt_price\",\"avg_mkt_price\",\"avg_mkt_price\",\"avg_mkt_price\",\"avg_mkt_price\",\"avg_mkt_price\",\"avg_mkt_price\",\"avg_mkt_price\",\"avg_mkt_price\",\"avg_mkt_price\",\"avg_mkt_price\",\"avg_mkt_price\",\"avg_mkt_price\",\"avg_mkt_price\",\"avg_mkt_price\",\"avg_mkt_price\",\"avg_mkt_price\",\"avg_mkt_price\",\"avg_mkt_price\",\"avg_mkt_price\",\"avg_mkt_price\",\"avg_mkt_price\",\"avg_mkt_price\",\"avg_mkt_price\",\"avg_mkt_price\",\"avg_mkt_price\",\"avg_mkt_price\",\"avg_mkt_price\",\"avg_mkt_price\",\"avg_mkt_price\",\"avg_mkt_price\",\"avg_mkt_price\",\"avg_mkt_price\",\"avg_mkt_price\",\"avg_mkt_price\",\"avg_mkt_price\",\"avg_mkt_price\",\"avg_mkt_price\",\"avg_mkt_price\",\"avg_mkt_price\",\"avg_mkt_price\",\"avg_mkt_price\",\"avg_mkt_price\",\"avg_mkt_price\",\"avg_mkt_price\",\"avg_mkt_price\",\"avg_mkt_price\",\"avg_mkt_price\",\"avg_mkt_price\",\"avg_mkt_price\",\"avg_mkt_price\",\"avg_mkt_price\",\"avg_mkt_price\",\"avg_mkt_price\",\"avg_mkt_price\",\"avg_mkt_price\",\"avg_mkt_price\",\"avg_mkt_price\",\"avg_mkt_price\",\"avg_mkt_price\",\"avg_mkt_price\",\"avg_mkt_price\",\"avg_mkt_price\",\"avg_mkt_price\",\"avg_mkt_price\",\"avg_mkt_price\",\"avg_mkt_price\",\"avg_mkt_price\",\"avg_mkt_price\",\"avg_mkt_price\",\"avg_mkt_price\",\"avg_mkt_price\",\"avg_mkt_price\",\"avg_mkt_price\",\"avg_mkt_price\",\"avg_mkt_price\",\"avg_mkt_price\",\"avg_mkt_price\",\"avg_mkt_price\",\"avg_mkt_price\",\"avg_mkt_price\",\"avg_mkt_price\",\"avg_mkt_price\",\"avg_mkt_price\",\"avg_mkt_price\",\"avg_mkt_price\",\"avg_mkt_price\",\"avg_mkt_price\",\"avg_mkt_price\",\"avg_mkt_price\",\"avg_mkt_price\",\"avg_mkt_price\",\"avg_mkt_price\",\"avg_mkt_price\",\"avg_mkt_price\",\"avg_mkt_price\",\"avg_mkt_price\",\"avg_mkt_price\",\"avg_mkt_price\",\"avg_mkt_price\",\"avg_mkt_price\",\"avg_mkt_price\",\"avg_mkt_price\",\"avg_mkt_price\",\"avg_mkt_price\",\"avg_mkt_price\",\"avg_mkt_price\",\"avg_mkt_price\",\"avg_mkt_price\",\"avg_mkt_price\",\"avg_mkt_price\",\"avg_mkt_price\",\"avg_mkt_price\",\"avg_mkt_price\",\"avg_mkt_price\",\"avg_mkt_price\",\"avg_mkt_price\",\"avg_mkt_price\",\"avg_mkt_price\",\"avg_mkt_price\",\"avg_mkt_price\",\"avg_mkt_price\",\"avg_mkt_price\",\"avg_mkt_price\",\"avg_mkt_price\",\"avg_mkt_price\",\"avg_mkt_price\",\"avg_mkt_price\",\"avg_mkt_price\",\"avg_mkt_price\",\"avg_mkt_price\",\"avg_mkt_price\",\"avg_mkt_price\",\"avg_mkt_price\",\"avg_mkt_price\",\"avg_mkt_price\",\"avg_mkt_price\",\"avg_mkt_price\",\"avg_mkt_price\",\"avg_mkt_price\",\"avg_mkt_price\",\"avg_mkt_price\",\"avg_mkt_price\",\"avg_mkt_price\",\"avg_mkt_price\",\"avg_mkt_price\",\"avg_mkt_price\",\"avg_mkt_price\",\"avg_mkt_price\",\"avg_mkt_price\",\"avg_mkt_price\",\"avg_mkt_price\",\"avg_mkt_price\",\"avg_mkt_price\",\"avg_mkt_price\",\"avg_mkt_price\",\"avg_mkt_price\",\"avg_mkt_price\",\"avg_mkt_price\",\"avg_mkt_price\",\"avg_mkt_price\",\"avg_mkt_price\",\"avg_mkt_price\",\"avg_mkt_price\",\"avg_mkt_price\",\"avg_mkt_price\",\"avg_mkt_price\",\"avg_mkt_price\",\"avg_mkt_price\",\"avg_mkt_price\",\"avg_mkt_price\",\"avg_mkt_price\",\"avg_mkt_price\",\"avg_mkt_price\",\"avg_mkt_price\",\"avg_mkt_price\",\"avg_mkt_price\",\"avg_mkt_price\",\"avg_mkt_price\",\"avg_mkt_price\",\"avg_mkt_price\",\"avg_mkt_price\",\"avg_mkt_price\",\"avg_mkt_price\",\"avg_mkt_price\",\"avg_mkt_price\",\"avg_mkt_price\",\"avg_mkt_price\",\"avg_mkt_price\",\"avg_mkt_price\",\"avg_mkt_price\",\"avg_mkt_price\",\"avg_mkt_price\",\"avg_mkt_price\",\"avg_mkt_price\",\"avg_mkt_price\",\"avg_mkt_price\",\"avg_mkt_price\",\"avg_mkt_price\",\"avg_mkt_price\",\"avg_mkt_price\",\"avg_mkt_price\",\"avg_mkt_price\",\"avg_mkt_price\",\"avg_mkt_price\",\"avg_mkt_price\",\"avg_mkt_price\",\"avg_mkt_price\",\"avg_mkt_price\",\"avg_mkt_price\",\"avg_mkt_price\",\"avg_mkt_price\",\"avg_mkt_price\",\"avg_mkt_price\",\"avg_mkt_price\",\"avg_mkt_price\",\"avg_mkt_price\",\"avg_mkt_price\",\"avg_mkt_price\",\"avg_mkt_price\",\"avg_mkt_price\",\"avg_mkt_price\",\"avg_mkt_price\",\"avg_mkt_price\",\"avg_mkt_price\",\"avg_mkt_price\",\"avg_mkt_price\",\"avg_mkt_price\",\"avg_mkt_price\",\"avg_mkt_price\",\"avg_mkt_price\",\"avg_mkt_price\",\"avg_mkt_price\",\"avg_mkt_price\",\"avg_mkt_price\",\"avg_mkt_price\",\"avg_mkt_price\",\"avg_mkt_price\",\"avg_mkt_price\",\"avg_mkt_price\",\"avg_mkt_price\",\"avg_mkt_price\",\"avg_mkt_price\"],\"block_date\":{\"__ndarray__\":\"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\",\"dtype\":\"float64\",\"order\":\"little\",\"shape\":[443]},\"value\":{\"__ndarray__\":\"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\",\"dtype\":\"float64\",\"order\":\"little\",\"shape\":[443]}},\"selected\":{\"id\":\"1907\"},\"selection_policy\":{\"id\":\"1921\"}},\"id\":\"1906\",\"type\":\"ColumnDataSource\"},{\"attributes\":{\"label\":{\"value\":\"avg_burn_price\"},\"renderers\":[{\"id\":\"1979\"}]},\"id\":\"2007\",\"type\":\"LegendItem\"}],\"root_ids\":[\"1864\"]},\"title\":\"Bokeh Application\",\"version\":\"2.4.3\"}};\n",
       "    var render_items = [{\"docid\":\"fa62c5da-02af-4d4a-96c0-0919dec7c8f9\",\"root_ids\":[\"1864\"],\"roots\":{\"1864\":\"dab78428-cd9a-4d80-ac29-99f469cdccb7\"}}];\n",
       "    root.Bokeh.embed.embed_items_notebook(docs_json, render_items);\n",
       "    for (const render_item of render_items) {\n",
       "      for (const root_id of render_item.root_ids) {\n",
       "\tconst id_el = document.getElementById(root_id)\n",
       "\tif (id_el.children.length && (id_el.children[0].className === 'bk-root')) {\n",
       "\t  const root_el = id_el.children[0]\n",
       "\t  root_el.id = root_el.id + '-rendered'\n",
       "\t}\n",
       "      }\n",
       "    }\n",
       "  }\n",
       "  if (root.Bokeh !== undefined && root.Bokeh.Panel !== undefined) {\n",
       "    embed_document(root);\n",
       "  } else {\n",
       "    var attempts = 0;\n",
       "    var timer = setInterval(function(root) {\n",
       "      if (root.Bokeh !== undefined && root.Bokeh.Panel !== undefined) {\n",
       "        clearInterval(timer);\n",
       "        embed_document(root);\n",
       "      } else if (document.readyState == \"complete\") {\n",
       "        attempts++;\n",
       "        if (attempts > 200) {\n",
       "          clearInterval(timer);\n",
       "          console.log(\"Bokeh: ERROR: Unable to run BokehJS code because BokehJS library is missing\");\n",
       "        }\n",
       "      }\n",
       "    }, 25, root)\n",
       "  }\n",
       "})(window);</script>"
      ],
      "text/plain": [
       ":NdOverlay   [Variable]\n",
       "   :Curve   [block_date]   (value)"
      ]
     },
     "execution_count": 29,
     "metadata": {
      "application/vnd.holoviews_exec.v0+json": {
       "id": "1864"
      }
     },
     "output_type": "execute_result"
    }
   ],
   "source": [
    "# import holoviews as hv\n",
    "# hv.extension('bokeh')\n",
    "df_price_chart.hvplot.line(x='block_date', y=['avg_mkt_price', 'avg_mint_price', 'avg_burn_price'], title='TEC Price Chart')"
   ]
  },
  {
   "cell_type": "code",
   "execution_count": null,
   "metadata": {},
   "outputs": [
    {
     "ename": "AttributeError",
     "evalue": "'TECDashboard' object has no attribute 'holders_distribution'",
     "output_type": "error",
     "traceback": [
      "\u001b[0;31m---------------------------------------------------------------------------\u001b[0m",
      "\u001b[0;31mAttributeError\u001b[0m                            Traceback (most recent call last)",
      "Cell \u001b[0;32mIn[21], line 1\u001b[0m\n\u001b[0;32m----> 1\u001b[0m tec\u001b[39m.\u001b[39;49mholders_distribution()\n",
      "\u001b[0;31mAttributeError\u001b[0m: 'TECDashboard' object has no attribute 'holders_distribution'"
     ]
    }
   ],
   "source": [
    "tec.holders_distribution()"
   ]
  },
  {
   "cell_type": "code",
   "execution_count": null,
   "metadata": {},
   "outputs": [
    {
     "data": {
      "text/html": [
       "<div>\n",
       "<style scoped>\n",
       "    .dataframe tbody tr th:only-of-type {\n",
       "        vertical-align: middle;\n",
       "    }\n",
       "\n",
       "    .dataframe tbody tr th {\n",
       "        vertical-align: top;\n",
       "    }\n",
       "\n",
       "    .dataframe thead th {\n",
       "        text-align: right;\n",
       "    }\n",
       "</style>\n",
       "<table border=\"1\" class=\"dataframe\">\n",
       "  <thead>\n",
       "    <tr style=\"text-align: right;\">\n",
       "      <th></th>\n",
       "      <th>total_holders</th>\n",
       "      <th>supply</th>\n",
       "    </tr>\n",
       "  </thead>\n",
       "  <tbody>\n",
       "    <tr>\n",
       "      <th>0</th>\n",
       "      <td>536</td>\n",
       "      <td>1.796824e+06</td>\n",
       "    </tr>\n",
       "    <tr>\n",
       "      <th>1</th>\n",
       "      <td>536</td>\n",
       "      <td>1.796824e+06</td>\n",
       "    </tr>\n",
       "    <tr>\n",
       "      <th>2</th>\n",
       "      <td>536</td>\n",
       "      <td>1.796824e+06</td>\n",
       "    </tr>\n",
       "    <tr>\n",
       "      <th>3</th>\n",
       "      <td>536</td>\n",
       "      <td>1.796824e+06</td>\n",
       "    </tr>\n",
       "    <tr>\n",
       "      <th>4</th>\n",
       "      <td>536</td>\n",
       "      <td>1.796824e+06</td>\n",
       "    </tr>\n",
       "    <tr>\n",
       "      <th>...</th>\n",
       "      <td>...</td>\n",
       "      <td>...</td>\n",
       "    </tr>\n",
       "    <tr>\n",
       "      <th>531</th>\n",
       "      <td>536</td>\n",
       "      <td>1.796824e+06</td>\n",
       "    </tr>\n",
       "    <tr>\n",
       "      <th>532</th>\n",
       "      <td>536</td>\n",
       "      <td>1.796824e+06</td>\n",
       "    </tr>\n",
       "    <tr>\n",
       "      <th>533</th>\n",
       "      <td>536</td>\n",
       "      <td>1.796824e+06</td>\n",
       "    </tr>\n",
       "    <tr>\n",
       "      <th>534</th>\n",
       "      <td>536</td>\n",
       "      <td>1.796824e+06</td>\n",
       "    </tr>\n",
       "    <tr>\n",
       "      <th>535</th>\n",
       "      <td>536</td>\n",
       "      <td>1.796824e+06</td>\n",
       "    </tr>\n",
       "  </tbody>\n",
       "</table>\n",
       "<p>536 rows × 2 columns</p>\n",
       "</div>"
      ],
      "text/plain": [
       "     total_holders        supply\n",
       "0              536  1.796824e+06\n",
       "1              536  1.796824e+06\n",
       "2              536  1.796824e+06\n",
       "3              536  1.796824e+06\n",
       "4              536  1.796824e+06\n",
       "..             ...           ...\n",
       "531            536  1.796824e+06\n",
       "532            536  1.796824e+06\n",
       "533            536  1.796824e+06\n",
       "534            536  1.796824e+06\n",
       "535            536  1.796824e+06\n",
       "\n",
       "[536 rows x 2 columns]"
      ]
     },
     "execution_count": null,
     "metadata": {},
     "output_type": "execute_result"
    }
   ],
   "source": [
    "tec.holders_and_supply()"
   ]
  },
  {
   "cell_type": "code",
   "execution_count": null,
   "metadata": {},
   "outputs": [],
   "source": [
    "#| hide\n",
    "import nbdev; nbdev.nbdev_export()"
   ]
  }
 ],
 "metadata": {
  "kernelspec": {
   "display_name": "python3",
   "language": "python",
   "name": "python3"
  },
  "language_info": {
   "codemirror_mode": {
    "name": "ipython",
    "version": 3
   },
   "file_extension": ".py",
   "mimetype": "text/x-python",
   "name": "python",
   "nbconvert_exporter": "python",
   "pygments_lexer": "ipython3",
   "version": "3.9.2"
  }
 },
 "nbformat": 4,
 "nbformat_minor": 4
}
