{
 "cells": [
  {
   "cell_type": "code",
   "execution_count": null,
   "id": "d3df8041-ac24-4007-8c59-b727789aa944",
   "metadata": {},
   "outputs": [],
   "source": [
    "import hvplot.pandas\n",
    "import numpy as np\n",
    "from conding.tec import TECDashboard"
   ]
  },
  {
   "cell_type": "code",
   "execution_count": null,
   "id": "d60329de-95cc-480f-a4c5-816f5cf7698b",
   "metadata": {},
   "outputs": [],
   "source": [
    "tec = TECDashboard()"
   ]
  },
  {
   "cell_type": "code",
   "execution_count": null,
   "id": "43bad11f-ac32-40d0-99dd-fd52a59d8eee",
   "metadata": {},
   "outputs": [],
   "source": [
    "holders_distribution = tec.holders_distribution()"
   ]
  },
  {
   "cell_type": "code",
   "execution_count": null,
   "id": "151c8145-d610-4295-a572-5fa9bbdfcb88",
   "metadata": {},
   "outputs": [],
   "source": [
    "holders_distribution = holders_distribution[holders_distribution['balance'] > 1]"
   ]
  },
  {
   "cell_type": "code",
   "execution_count": null,
   "id": "190a2037-c5cd-40d1-b7c3-10f291583404",
   "metadata": {},
   "outputs": [
    {
     "data": {},
     "metadata": {},
     "output_type": "display_data"
    },
    {
     "data": {
      "application/vnd.holoviews_exec.v0+json": "",
      "text/html": [
       "<div id='1116'>\n",
       "  <div class=\"bk-root\" id=\"da1714d9-bf46-476e-a734-7f94d5c399dc\" data-root-id=\"1116\"></div>\n",
       "</div>\n",
       "<script type=\"application/javascript\">(function(root) {\n",
       "  function embed_document(root) {\n",
       "    var docs_json = {\"e5ced2df-ab37-4a4b-a4fe-c85b9a827f91\":{\"defs\":[{\"extends\":null,\"module\":null,\"name\":\"ReactiveHTML1\",\"overrides\":[],\"properties\":[]},{\"extends\":null,\"module\":null,\"name\":\"FlexBox1\",\"overrides\":[],\"properties\":[{\"default\":\"flex-start\",\"kind\":null,\"name\":\"align_content\"},{\"default\":\"flex-start\",\"kind\":null,\"name\":\"align_items\"},{\"default\":\"row\",\"kind\":null,\"name\":\"flex_direction\"},{\"default\":\"wrap\",\"kind\":null,\"name\":\"flex_wrap\"},{\"default\":\"flex-start\",\"kind\":null,\"name\":\"justify_content\"}]},{\"extends\":null,\"module\":null,\"name\":\"GridStack1\",\"overrides\":[],\"properties\":[{\"default\":\"warn\",\"kind\":null,\"name\":\"mode\"},{\"default\":null,\"kind\":null,\"name\":\"ncols\"},{\"default\":null,\"kind\":null,\"name\":\"nrows\"},{\"default\":true,\"kind\":null,\"name\":\"allow_resize\"},{\"default\":true,\"kind\":null,\"name\":\"allow_drag\"},{\"default\":[],\"kind\":null,\"name\":\"state\"}]},{\"extends\":null,\"module\":null,\"name\":\"click1\",\"overrides\":[],\"properties\":[{\"default\":\"\",\"kind\":null,\"name\":\"terminal_output\"},{\"default\":\"\",\"kind\":null,\"name\":\"debug_name\"},{\"default\":0,\"kind\":null,\"name\":\"clears\"}]},{\"extends\":null,\"module\":null,\"name\":\"NotificationAreaBase1\",\"overrides\":[],\"properties\":[{\"default\":\"bottom-right\",\"kind\":null,\"name\":\"position\"},{\"default\":0,\"kind\":null,\"name\":\"_clear\"}]},{\"extends\":null,\"module\":null,\"name\":\"NotificationArea1\",\"overrides\":[],\"properties\":[{\"default\":[],\"kind\":null,\"name\":\"notifications\"},{\"default\":\"bottom-right\",\"kind\":null,\"name\":\"position\"},{\"default\":0,\"kind\":null,\"name\":\"_clear\"},{\"default\":[{\"background\":\"#ffc107\",\"icon\":{\"className\":\"fas fa-exclamation-triangle\",\"color\":\"white\",\"tagName\":\"i\"},\"type\":\"warning\"},{\"background\":\"#007bff\",\"icon\":{\"className\":\"fas fa-info-circle\",\"color\":\"white\",\"tagName\":\"i\"},\"type\":\"info\"}],\"kind\":null,\"name\":\"types\"}]},{\"extends\":null,\"module\":null,\"name\":\"Notification\",\"overrides\":[],\"properties\":[{\"default\":null,\"kind\":null,\"name\":\"background\"},{\"default\":3000,\"kind\":null,\"name\":\"duration\"},{\"default\":null,\"kind\":null,\"name\":\"icon\"},{\"default\":\"\",\"kind\":null,\"name\":\"message\"},{\"default\":null,\"kind\":null,\"name\":\"notification_type\"},{\"default\":false,\"kind\":null,\"name\":\"_destroyed\"}]},{\"extends\":null,\"module\":null,\"name\":\"TemplateActions1\",\"overrides\":[],\"properties\":[{\"default\":0,\"kind\":null,\"name\":\"open_modal\"},{\"default\":0,\"kind\":null,\"name\":\"close_modal\"}]},{\"extends\":null,\"module\":null,\"name\":\"MaterialTemplateActions1\",\"overrides\":[],\"properties\":[{\"default\":0,\"kind\":null,\"name\":\"open_modal\"},{\"default\":0,\"kind\":null,\"name\":\"close_modal\"}]}],\"roots\":{\"references\":[{\"attributes\":{},\"id\":\"1151\",\"type\":\"Selection\"},{\"attributes\":{\"axis_label\":\"balance\",\"coordinates\":null,\"formatter\":{\"id\":\"1163\"},\"group\":null,\"major_label_policy\":{\"id\":\"1164\"},\"ticker\":{\"id\":\"1134\"}},\"id\":\"1133\",\"type\":\"LinearAxis\"},{\"attributes\":{\"data\":{\"balance\":{\"__ndarray__\":\"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\",\"dtype\":\"float64\",\"order\":\"little\",\"shape\":[464]},\"rank_number\":[1,2,3,4,5,6,7,8,9,10,11,12,13,14,15,16,17,18,19,20,21,22,23,24,25,26,27,28,29,30,31,32,33,34,35,36,37,38,39,40,41,41,43,44,45,46,47,48,49,50,51,52,53,54,55,56,57,58,59,60,61,62,63,64,65,66,67,68,69,70,71,72,73,74,74,76,77,78,79,80,81,82,83,84,85,86,87,88,89,90,91,92,93,94,95,96,97,98,99,100,101,102,103,104,105,106,107,108,108,110,111,112,113,114,115,116,117,118,119,120,121,122,123,124,125,126,127,128,129,130,131,132,133,134,135,136,137,138,139,140,141,142,143,144,145,146,147,148,149,150,151,152,153,154,155,156,157,158,159,160,161,162,163,164,165,166,167,168,169,170,171,172,173,174,174,174,174,174,179,180,181,182,183,184,185,186,187,188,189,190,191,192,193,194,195,196,197,198,199,200,201,202,203,204,205,206,207,208,209,210,211,212,213,214,215,216,217,218,219,220,221,222,223,224,225,226,227,228,229,230,231,232,232,232,235,236,237,238,239,240,241,242,243,244,245,246,247,248,249,250,251,252,253,254,255,256,257,258,259,260,261,262,263,264,265,266,267,268,269,270,271,272,273,274,274,276,277,278,279,280,281,282,283,284,285,286,287,288,289,290,291,292,293,294,295,296,297,298,299,300,301,302,303,304,305,306,307,308,309,310,311,312,313,314,315,316,317,318,319,320,321,322,323,324,325,326,327,328,329,330,331,332,333,334,335,336,337,338,339,340,341,342,343,344,345,346,347,348,349,350,351,352,353,354,355,356,357,358,359,360,361,362,363,364,365,366,367,368,369,370,370,372,373,374,375,376,377,378,379,380,381,382,383,384,385,386,387,388,389,390,391,392,393,394,395,396,397,398,399,400,401,402,403,404,405,406,407,408,409,410,411,412,413,414,415,416,417,418,419,420,421,422,423,424,425,426,427,428,429,430,431,432,433,434,435,436,437,438,439,440,441,442,443,444,445,446,447,447,449,450,451,452,453,454,455,456,457,458,459,460,461,462,463,464]},\"selected\":{\"id\":\"1151\"},\"selection_policy\":{\"id\":\"1176\"}},\"id\":\"1150\",\"type\":\"ColumnDataSource\"},{\"attributes\":{\"line_alpha\":0.1,\"line_color\":\"#30a2da\",\"line_width\":2,\"x\":{\"field\":\"rank_number\"},\"y\":{\"field\":\"balance\"}},\"id\":\"1154\",\"type\":\"Line\"},{\"attributes\":{},\"id\":\"1139\",\"type\":\"WheelZoomTool\"},{\"attributes\":{\"callback\":null,\"renderers\":[{\"id\":\"1156\"}],\"tags\":[\"hv_created\"],\"tooltips\":[[\"rank_number\",\"@{rank_number}\"],[\"balance\",\"@{balance}\"]]},\"id\":\"1119\",\"type\":\"HoverTool\"},{\"attributes\":{\"coordinates\":null,\"group\":null,\"text_color\":\"black\",\"text_font_size\":\"12pt\"},\"id\":\"1121\",\"type\":\"Title\"},{\"attributes\":{\"active_drag\":{\"id\":\"1138\"},\"active_scroll\":{\"id\":\"1139\"},\"tools\":[{\"id\":\"1119\"},{\"id\":\"1137\"},{\"id\":\"1138\"},{\"id\":\"1139\"},{\"id\":\"1140\"},{\"id\":\"1141\"}]},\"id\":\"1143\",\"type\":\"Toolbar\"},{\"attributes\":{},\"id\":\"1164\",\"type\":\"AllLabels\"},{\"attributes\":{},\"id\":\"1138\",\"type\":\"PanTool\"},{\"attributes\":{},\"id\":\"1163\",\"type\":\"BasicTickFormatter\"},{\"attributes\":{},\"id\":\"1176\",\"type\":\"UnionRenderers\"},{\"attributes\":{\"axis\":{\"id\":\"1129\"},\"coordinates\":null,\"grid_line_color\":null,\"group\":null,\"ticker\":null},\"id\":\"1132\",\"type\":\"Grid\"},{\"attributes\":{},\"id\":\"1137\",\"type\":\"SaveTool\"},{\"attributes\":{},\"id\":\"1127\",\"type\":\"LinearScale\"},{\"attributes\":{},\"id\":\"1130\",\"type\":\"BasicTicker\"},{\"attributes\":{\"overlay\":{\"id\":\"1142\"}},\"id\":\"1140\",\"type\":\"BoxZoomTool\"},{\"attributes\":{\"bottom_units\":\"screen\",\"coordinates\":null,\"fill_alpha\":0.5,\"fill_color\":\"lightgrey\",\"group\":null,\"left_units\":\"screen\",\"level\":\"overlay\",\"line_alpha\":1.0,\"line_color\":\"black\",\"line_dash\":[4,4],\"line_width\":2,\"right_units\":\"screen\",\"syncable\":false,\"top_units\":\"screen\"},\"id\":\"1142\",\"type\":\"BoxAnnotation\"},{\"attributes\":{},\"id\":\"1160\",\"type\":\"BasicTickFormatter\"},{\"attributes\":{\"line_color\":\"#30a2da\",\"line_width\":2,\"x\":{\"field\":\"rank_number\"},\"y\":{\"field\":\"balance\"}},\"id\":\"1158\",\"type\":\"Line\"},{\"attributes\":{},\"id\":\"1125\",\"type\":\"LinearScale\"},{\"attributes\":{\"line_alpha\":0.2,\"line_color\":\"#30a2da\",\"line_width\":2,\"x\":{\"field\":\"rank_number\"},\"y\":{\"field\":\"balance\"}},\"id\":\"1155\",\"type\":\"Line\"},{\"attributes\":{\"axis_label\":\"rank_number\",\"coordinates\":null,\"formatter\":{\"id\":\"1160\"},\"group\":null,\"major_label_policy\":{\"id\":\"1161\"},\"ticker\":{\"id\":\"1130\"}},\"id\":\"1129\",\"type\":\"LinearAxis\"},{\"attributes\":{\"coordinates\":null,\"data_source\":{\"id\":\"1150\"},\"glyph\":{\"id\":\"1153\"},\"group\":null,\"hover_glyph\":null,\"muted_glyph\":{\"id\":\"1155\"},\"nonselection_glyph\":{\"id\":\"1154\"},\"selection_glyph\":{\"id\":\"1158\"},\"view\":{\"id\":\"1157\"}},\"id\":\"1156\",\"type\":\"GlyphRenderer\"},{\"attributes\":{\"children\":[{\"id\":\"1120\"}],\"height\":300,\"margin\":[0,0,0,0],\"name\":\"Row00970\",\"sizing_mode\":\"fixed\",\"tags\":[\"embedded\"],\"width\":700},\"id\":\"1116\",\"type\":\"Row\"},{\"attributes\":{\"line_color\":\"#30a2da\",\"line_width\":2,\"x\":{\"field\":\"rank_number\"},\"y\":{\"field\":\"balance\"}},\"id\":\"1153\",\"type\":\"Line\"},{\"attributes\":{\"source\":{\"id\":\"1150\"}},\"id\":\"1157\",\"type\":\"CDSView\"},{\"attributes\":{\"end\":464.0,\"reset_end\":464.0,\"reset_start\":1.0,\"start\":1.0,\"tags\":[[[\"rank_number\",\"rank_number\",null]]]},\"id\":\"1117\",\"type\":\"Range1d\"},{\"attributes\":{},\"id\":\"1134\",\"type\":\"BasicTicker\"},{\"attributes\":{\"end\":165078.78949915402,\"reset_end\":165078.78949915402,\"reset_start\":-15006.070995200296,\"start\":-15006.070995200296,\"tags\":[[[\"balance\",\"balance\",null]]]},\"id\":\"1118\",\"type\":\"Range1d\"},{\"attributes\":{},\"id\":\"1161\",\"type\":\"AllLabels\"},{\"attributes\":{\"axis\":{\"id\":\"1133\"},\"coordinates\":null,\"dimension\":1,\"grid_line_color\":null,\"group\":null,\"ticker\":null},\"id\":\"1136\",\"type\":\"Grid\"},{\"attributes\":{\"below\":[{\"id\":\"1129\"}],\"center\":[{\"id\":\"1132\"},{\"id\":\"1136\"}],\"height\":300,\"left\":[{\"id\":\"1133\"}],\"margin\":[5,5,5,5],\"min_border_bottom\":10,\"min_border_left\":10,\"min_border_right\":10,\"min_border_top\":10,\"renderers\":[{\"id\":\"1156\"}],\"sizing_mode\":\"fixed\",\"title\":{\"id\":\"1121\"},\"toolbar\":{\"id\":\"1143\"},\"width\":700,\"x_range\":{\"id\":\"1117\"},\"x_scale\":{\"id\":\"1125\"},\"y_range\":{\"id\":\"1118\"},\"y_scale\":{\"id\":\"1127\"}},\"id\":\"1120\",\"subtype\":\"Figure\",\"type\":\"Plot\"},{\"attributes\":{},\"id\":\"1141\",\"type\":\"ResetTool\"}],\"root_ids\":[\"1116\"]},\"title\":\"Bokeh Application\",\"version\":\"2.4.3\"}};\n",
       "    var render_items = [{\"docid\":\"e5ced2df-ab37-4a4b-a4fe-c85b9a827f91\",\"root_ids\":[\"1116\"],\"roots\":{\"1116\":\"da1714d9-bf46-476e-a734-7f94d5c399dc\"}}];\n",
       "    root.Bokeh.embed.embed_items_notebook(docs_json, render_items);\n",
       "    for (const render_item of render_items) {\n",
       "      for (const root_id of render_item.root_ids) {\n",
       "\tconst id_el = document.getElementById(root_id)\n",
       "\tif (id_el.children.length && (id_el.children[0].className === 'bk-root')) {\n",
       "\t  const root_el = id_el.children[0]\n",
       "\t  root_el.id = root_el.id + '-rendered'\n",
       "\t}\n",
       "      }\n",
       "    }\n",
       "  }\n",
       "  if (root.Bokeh !== undefined && root.Bokeh.Panel !== undefined) {\n",
       "    embed_document(root);\n",
       "  } else {\n",
       "    var attempts = 0;\n",
       "    var timer = setInterval(function(root) {\n",
       "      if (root.Bokeh !== undefined && root.Bokeh.Panel !== undefined) {\n",
       "        clearInterval(timer);\n",
       "        embed_document(root);\n",
       "      } else if (document.readyState == \"complete\") {\n",
       "        attempts++;\n",
       "        if (attempts > 200) {\n",
       "          clearInterval(timer);\n",
       "          console.log(\"Bokeh: ERROR: Unable to run BokehJS code because BokehJS library is missing\");\n",
       "        }\n",
       "      }\n",
       "    }, 25, root)\n",
       "  }\n",
       "})(window);</script>"
      ],
      "text/plain": [
       ":Curve   [rank_number]   (balance)"
      ]
     },
     "execution_count": null,
     "metadata": {
      "application/vnd.holoviews_exec.v0+json": {
       "id": "1116"
      }
     },
     "output_type": "execute_result"
    }
   ],
   "source": [
    "holders_distribution.hvplot.line(x='rank_number', y='balance')"
   ]
  },
  {
   "cell_type": "code",
   "execution_count": null,
   "id": "f0dd9715-7fe1-45a2-a6d1-1527bfc458f7",
   "metadata": {},
   "outputs": [],
   "source": [
    "def gini(y):\n",
    "    y = np.asarray(y)\n",
    "    gini = abs(y.reshape(len(y),1) - y.reshape(1,len(y))).sum() / (2 * len(y)**2 * y.mean())\n",
    "    return gini"
   ]
  },
  {
   "cell_type": "code",
   "execution_count": null,
   "id": "0d96e15f-edd6-4e2b-97ca-8e9172f6afa3",
   "metadata": {},
   "outputs": [
    {
     "data": {
      "text/plain": [
       "0.8288654489638984"
      ]
     },
     "execution_count": null,
     "metadata": {},
     "output_type": "execute_result"
    }
   ],
   "source": [
    "gini(holders_distribution['balance'])"
   ]
  },
  {
   "cell_type": "code",
   "execution_count": null,
   "id": "68508f4b-675a-4dd5-9bd3-4521e24a1c86",
   "metadata": {},
   "outputs": [
    {
     "data": {
      "text/html": [
       "<div>\n",
       "<style scoped>\n",
       "    .dataframe tbody tr th:only-of-type {\n",
       "        vertical-align: middle;\n",
       "    }\n",
       "\n",
       "    .dataframe tbody tr th {\n",
       "        vertical-align: top;\n",
       "    }\n",
       "\n",
       "    .dataframe thead th {\n",
       "        text-align: right;\n",
       "    }\n",
       "</style>\n",
       "<table border=\"1\" class=\"dataframe\">\n",
       "  <thead>\n",
       "    <tr style=\"text-align: right;\">\n",
       "      <th></th>\n",
       "      <th>balance</th>\n",
       "    </tr>\n",
       "  </thead>\n",
       "  <tbody>\n",
       "    <tr>\n",
       "      <th>count</th>\n",
       "      <td>464.000000</td>\n",
       "    </tr>\n",
       "    <tr>\n",
       "      <th>mean</th>\n",
       "      <td>3913.300491</td>\n",
       "    </tr>\n",
       "    <tr>\n",
       "      <th>std</th>\n",
       "      <td>12092.963220</td>\n",
       "    </tr>\n",
       "    <tr>\n",
       "      <th>min</th>\n",
       "      <td>1.000713</td>\n",
       "    </tr>\n",
       "    <tr>\n",
       "      <th>25%</th>\n",
       "      <td>73.190590</td>\n",
       "    </tr>\n",
       "    <tr>\n",
       "      <th>50%</th>\n",
       "      <td>500.000000</td>\n",
       "    </tr>\n",
       "    <tr>\n",
       "      <th>75%</th>\n",
       "      <td>2699.941129</td>\n",
       "    </tr>\n",
       "    <tr>\n",
       "      <th>max</th>\n",
       "      <td>150071.717791</td>\n",
       "    </tr>\n",
       "  </tbody>\n",
       "</table>\n",
       "</div>"
      ],
      "text/plain": [
       "             balance\n",
       "count     464.000000\n",
       "mean     3913.300491\n",
       "std     12092.963220\n",
       "min         1.000713\n",
       "25%        73.190590\n",
       "50%       500.000000\n",
       "75%      2699.941129\n",
       "max    150071.717791"
      ]
     },
     "execution_count": null,
     "metadata": {},
     "output_type": "execute_result"
    }
   ],
   "source": [
    "holders_distribution[['balance']].describe()"
   ]
  },
  {
   "cell_type": "code",
   "execution_count": null,
   "id": "3874956d-73c3-49f3-890e-6ccba60e5cb5",
   "metadata": {},
   "outputs": [],
   "source": []
  }
 ],
 "metadata": {
  "kernelspec": {
   "display_name": "python3",
   "language": "python",
   "name": "python3"
  }
 },
 "nbformat": 4,
 "nbformat_minor": 5
}
