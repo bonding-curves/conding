{
 "cells": [
  {
   "cell_type": "code",
   "execution_count": null,
   "id": "490b834c-4923-4493-8a32-6df65e4522a1",
   "metadata": {},
   "outputs": [
    {
     "name": "stdout",
     "output_type": "stream",
     "text": [
      "The autoreload extension is already loaded. To reload it, use:\n",
      "  %reload_ext autoreload\n"
     ]
    }
   ],
   "source": [
    "#| hide\n",
    "%load_ext autoreload\n",
    "%autoreload 2"
   ]
  },
  {
   "cell_type": "code",
   "execution_count": null,
   "id": "d3df8041-ac24-4007-8c59-b727789aa944",
   "metadata": {},
   "outputs": [],
   "source": [
    "import hvplot.pandas\n",
    "import numpy as np\n",
    "import pandas as pd\n",
    "from conding.tec import TECDashboard"
   ]
  },
  {
   "cell_type": "code",
   "execution_count": null,
   "id": "d60329de-95cc-480f-a4c5-816f5cf7698b",
   "metadata": {},
   "outputs": [],
   "source": [
    "tec = TECDashboard()"
   ]
  },
  {
   "cell_type": "markdown",
   "id": "01f9ddcc-83d0-4fea-8145-7e0ed8d365b9",
   "metadata": {},
   "source": [
    "### Holders Distribution"
   ]
  },
  {
   "cell_type": "code",
   "execution_count": null,
   "id": "43bad11f-ac32-40d0-99dd-fd52a59d8eee",
   "metadata": {},
   "outputs": [],
   "source": [
    "holders_distribution = tec.market_information.holders_distribution()"
   ]
  },
  {
   "cell_type": "code",
   "execution_count": null,
   "id": "e3a65149-f70b-4291-ade0-6df7dcad32df",
   "metadata": {},
   "outputs": [
    {
     "data": {
      "text/html": [
       "<div>\n",
       "<style scoped>\n",
       "    .dataframe tbody tr th:only-of-type {\n",
       "        vertical-align: middle;\n",
       "    }\n",
       "\n",
       "    .dataframe tbody tr th {\n",
       "        vertical-align: top;\n",
       "    }\n",
       "\n",
       "    .dataframe thead th {\n",
       "        text-align: right;\n",
       "    }\n",
       "</style>\n",
       "<table border=\"1\" class=\"dataframe\">\n",
       "  <thead>\n",
       "    <tr style=\"text-align: right;\">\n",
       "      <th></th>\n",
       "      <th>rank_number</th>\n",
       "      <th>address</th>\n",
       "      <th>balance</th>\n",
       "      <th>perc</th>\n",
       "      <th>cumulative_perc</th>\n",
       "    </tr>\n",
       "  </thead>\n",
       "  <tbody>\n",
       "    <tr>\n",
       "      <th>0</th>\n",
       "      <td>1</td>\n",
       "      <td>&lt;a href=\"https://blockscout.com/xdai/mainnet/a...</td>\n",
       "      <td>1.500717e+05</td>\n",
       "      <td>8.264853e-02</td>\n",
       "      <td>0.082649</td>\n",
       "    </tr>\n",
       "    <tr>\n",
       "      <th>1</th>\n",
       "      <td>2</td>\n",
       "      <td>&lt;a href=\"https://blockscout.com/xdai/mainnet/a...</td>\n",
       "      <td>1.060533e+05</td>\n",
       "      <td>5.840639e-02</td>\n",
       "      <td>0.141055</td>\n",
       "    </tr>\n",
       "    <tr>\n",
       "      <th>2</th>\n",
       "      <td>3</td>\n",
       "      <td>&lt;a href=\"https://blockscout.com/xdai/mainnet/a...</td>\n",
       "      <td>7.383866e+04</td>\n",
       "      <td>4.066494e-02</td>\n",
       "      <td>0.181720</td>\n",
       "    </tr>\n",
       "    <tr>\n",
       "      <th>3</th>\n",
       "      <td>4</td>\n",
       "      <td>&lt;a href=\"https://blockscout.com/xdai/mainnet/a...</td>\n",
       "      <td>6.933751e+04</td>\n",
       "      <td>3.818603e-02</td>\n",
       "      <td>0.219906</td>\n",
       "    </tr>\n",
       "    <tr>\n",
       "      <th>4</th>\n",
       "      <td>5</td>\n",
       "      <td>&lt;a href=\"https://blockscout.com/xdai/mainnet/a...</td>\n",
       "      <td>5.916598e+04</td>\n",
       "      <td>3.258430e-02</td>\n",
       "      <td>0.252490</td>\n",
       "    </tr>\n",
       "    <tr>\n",
       "      <th>...</th>\n",
       "      <td>...</td>\n",
       "      <td>...</td>\n",
       "      <td>...</td>\n",
       "      <td>...</td>\n",
       "      <td>...</td>\n",
       "    </tr>\n",
       "    <tr>\n",
       "      <th>540</th>\n",
       "      <td>541</td>\n",
       "      <td>&lt;a href=\"https://blockscout.com/xdai/mainnet/a...</td>\n",
       "      <td>1.024000e-15</td>\n",
       "      <td>5.639443e-22</td>\n",
       "      <td>1.000000</td>\n",
       "    </tr>\n",
       "    <tr>\n",
       "      <th>541</th>\n",
       "      <td>542</td>\n",
       "      <td>&lt;a href=\"https://blockscout.com/xdai/mainnet/a...</td>\n",
       "      <td>2.560000e-16</td>\n",
       "      <td>1.409861e-22</td>\n",
       "      <td>1.000000</td>\n",
       "    </tr>\n",
       "    <tr>\n",
       "      <th>542</th>\n",
       "      <td>543</td>\n",
       "      <td>&lt;a href=\"https://blockscout.com/xdai/mainnet/a...</td>\n",
       "      <td>8.000000e-17</td>\n",
       "      <td>4.405815e-23</td>\n",
       "      <td>1.000000</td>\n",
       "    </tr>\n",
       "    <tr>\n",
       "      <th>543</th>\n",
       "      <td>544</td>\n",
       "      <td>&lt;a href=\"https://blockscout.com/xdai/mainnet/a...</td>\n",
       "      <td>1.600000e-17</td>\n",
       "      <td>8.811630e-24</td>\n",
       "      <td>1.000000</td>\n",
       "    </tr>\n",
       "    <tr>\n",
       "      <th>544</th>\n",
       "      <td>545</td>\n",
       "      <td>&lt;a href=\"https://blockscout.com/xdai/mainnet/a...</td>\n",
       "      <td>1.000000e-18</td>\n",
       "      <td>5.507269e-25</td>\n",
       "      <td>1.000000</td>\n",
       "    </tr>\n",
       "  </tbody>\n",
       "</table>\n",
       "<p>545 rows × 5 columns</p>\n",
       "</div>"
      ],
      "text/plain": [
       "     rank_number                                            address  \\\n",
       "0              1  <a href=\"https://blockscout.com/xdai/mainnet/a...   \n",
       "1              2  <a href=\"https://blockscout.com/xdai/mainnet/a...   \n",
       "2              3  <a href=\"https://blockscout.com/xdai/mainnet/a...   \n",
       "3              4  <a href=\"https://blockscout.com/xdai/mainnet/a...   \n",
       "4              5  <a href=\"https://blockscout.com/xdai/mainnet/a...   \n",
       "..           ...                                                ...   \n",
       "540          541  <a href=\"https://blockscout.com/xdai/mainnet/a...   \n",
       "541          542  <a href=\"https://blockscout.com/xdai/mainnet/a...   \n",
       "542          543  <a href=\"https://blockscout.com/xdai/mainnet/a...   \n",
       "543          544  <a href=\"https://blockscout.com/xdai/mainnet/a...   \n",
       "544          545  <a href=\"https://blockscout.com/xdai/mainnet/a...   \n",
       "\n",
       "          balance          perc  cumulative_perc  \n",
       "0    1.500717e+05  8.264853e-02         0.082649  \n",
       "1    1.060533e+05  5.840639e-02         0.141055  \n",
       "2    7.383866e+04  4.066494e-02         0.181720  \n",
       "3    6.933751e+04  3.818603e-02         0.219906  \n",
       "4    5.916598e+04  3.258430e-02         0.252490  \n",
       "..            ...           ...              ...  \n",
       "540  1.024000e-15  5.639443e-22         1.000000  \n",
       "541  2.560000e-16  1.409861e-22         1.000000  \n",
       "542  8.000000e-17  4.405815e-23         1.000000  \n",
       "543  1.600000e-17  8.811630e-24         1.000000  \n",
       "544  1.000000e-18  5.507269e-25         1.000000  \n",
       "\n",
       "[545 rows x 5 columns]"
      ]
     },
     "execution_count": null,
     "metadata": {},
     "output_type": "execute_result"
    }
   ],
   "source": [
    "holders_distribution"
   ]
  },
  {
   "cell_type": "code",
   "execution_count": null,
   "id": "151c8145-d610-4295-a572-5fa9bbdfcb88",
   "metadata": {},
   "outputs": [],
   "source": [
    "holders_distribution = holders_distribution[holders_distribution['balance'] > 1]"
   ]
  },
  {
   "cell_type": "code",
   "execution_count": null,
   "id": "190a2037-c5cd-40d1-b7c3-10f291583404",
   "metadata": {},
   "outputs": [
    {
     "data": {},
     "metadata": {},
     "output_type": "display_data"
    },
    {
     "data": {
      "application/vnd.holoviews_exec.v0+json": "",
      "text/html": [
       "<div id='1002'>\n",
       "  <div class=\"bk-root\" id=\"0f23dca7-adda-47c6-84a9-e3de37529b9c\" data-root-id=\"1002\"></div>\n",
       "</div>\n",
       "<script type=\"application/javascript\">(function(root) {\n",
       "  function embed_document(root) {\n",
       "    var docs_json = {\"5f6daa61-d9b3-4cde-8e5d-fd79004b89dc\":{\"defs\":[{\"extends\":null,\"module\":null,\"name\":\"ReactiveHTML1\",\"overrides\":[],\"properties\":[]},{\"extends\":null,\"module\":null,\"name\":\"FlexBox1\",\"overrides\":[],\"properties\":[{\"default\":\"flex-start\",\"kind\":null,\"name\":\"align_content\"},{\"default\":\"flex-start\",\"kind\":null,\"name\":\"align_items\"},{\"default\":\"row\",\"kind\":null,\"name\":\"flex_direction\"},{\"default\":\"wrap\",\"kind\":null,\"name\":\"flex_wrap\"},{\"default\":\"flex-start\",\"kind\":null,\"name\":\"justify_content\"}]},{\"extends\":null,\"module\":null,\"name\":\"GridStack1\",\"overrides\":[],\"properties\":[{\"default\":\"warn\",\"kind\":null,\"name\":\"mode\"},{\"default\":null,\"kind\":null,\"name\":\"ncols\"},{\"default\":null,\"kind\":null,\"name\":\"nrows\"},{\"default\":true,\"kind\":null,\"name\":\"allow_resize\"},{\"default\":true,\"kind\":null,\"name\":\"allow_drag\"},{\"default\":[],\"kind\":null,\"name\":\"state\"}]},{\"extends\":null,\"module\":null,\"name\":\"click1\",\"overrides\":[],\"properties\":[{\"default\":\"\",\"kind\":null,\"name\":\"terminal_output\"},{\"default\":\"\",\"kind\":null,\"name\":\"debug_name\"},{\"default\":0,\"kind\":null,\"name\":\"clears\"}]},{\"extends\":null,\"module\":null,\"name\":\"NotificationAreaBase1\",\"overrides\":[],\"properties\":[{\"default\":\"bottom-right\",\"kind\":null,\"name\":\"position\"},{\"default\":0,\"kind\":null,\"name\":\"_clear\"}]},{\"extends\":null,\"module\":null,\"name\":\"NotificationArea1\",\"overrides\":[],\"properties\":[{\"default\":[],\"kind\":null,\"name\":\"notifications\"},{\"default\":\"bottom-right\",\"kind\":null,\"name\":\"position\"},{\"default\":0,\"kind\":null,\"name\":\"_clear\"},{\"default\":[{\"background\":\"#ffc107\",\"icon\":{\"className\":\"fas fa-exclamation-triangle\",\"color\":\"white\",\"tagName\":\"i\"},\"type\":\"warning\"},{\"background\":\"#007bff\",\"icon\":{\"className\":\"fas fa-info-circle\",\"color\":\"white\",\"tagName\":\"i\"},\"type\":\"info\"}],\"kind\":null,\"name\":\"types\"}]},{\"extends\":null,\"module\":null,\"name\":\"Notification\",\"overrides\":[],\"properties\":[{\"default\":null,\"kind\":null,\"name\":\"background\"},{\"default\":3000,\"kind\":null,\"name\":\"duration\"},{\"default\":null,\"kind\":null,\"name\":\"icon\"},{\"default\":\"\",\"kind\":null,\"name\":\"message\"},{\"default\":null,\"kind\":null,\"name\":\"notification_type\"},{\"default\":false,\"kind\":null,\"name\":\"_destroyed\"}]},{\"extends\":null,\"module\":null,\"name\":\"TemplateActions1\",\"overrides\":[],\"properties\":[{\"default\":0,\"kind\":null,\"name\":\"open_modal\"},{\"default\":0,\"kind\":null,\"name\":\"close_modal\"}]},{\"extends\":null,\"module\":null,\"name\":\"MaterialTemplateActions1\",\"overrides\":[],\"properties\":[{\"default\":0,\"kind\":null,\"name\":\"open_modal\"},{\"default\":0,\"kind\":null,\"name\":\"close_modal\"}]}],\"roots\":{\"references\":[{\"attributes\":{},\"id\":\"1027\",\"type\":\"ResetTool\"},{\"attributes\":{\"overlay\":{\"id\":\"1028\"}},\"id\":\"1026\",\"type\":\"BoxZoomTool\"},{\"attributes\":{\"children\":[{\"id\":\"1006\"}],\"height\":300,\"margin\":[0,0,0,0],\"name\":\"Row00863\",\"sizing_mode\":\"fixed\",\"tags\":[\"embedded\"],\"width\":700},\"id\":\"1002\",\"type\":\"Row\"},{\"attributes\":{},\"id\":\"1023\",\"type\":\"SaveTool\"},{\"attributes\":{},\"id\":\"1025\",\"type\":\"WheelZoomTool\"},{\"attributes\":{},\"id\":\"1020\",\"type\":\"BasicTicker\"},{\"attributes\":{\"axis\":{\"id\":\"1019\"},\"coordinates\":null,\"dimension\":1,\"grid_line_color\":null,\"group\":null,\"ticker\":null},\"id\":\"1022\",\"type\":\"Grid\"},{\"attributes\":{\"line_color\":\"#30a2da\",\"line_width\":2,\"x\":{\"field\":\"rank_number\"},\"y\":{\"field\":\"balance\"}},\"id\":\"1039\",\"type\":\"Line\"},{\"attributes\":{\"axis_label\":\"balance\",\"coordinates\":null,\"formatter\":{\"id\":\"1049\"},\"group\":null,\"major_label_policy\":{\"id\":\"1050\"},\"ticker\":{\"id\":\"1020\"}},\"id\":\"1019\",\"type\":\"LinearAxis\"},{\"attributes\":{},\"id\":\"1024\",\"type\":\"PanTool\"},{\"attributes\":{},\"id\":\"1046\",\"type\":\"BasicTickFormatter\"},{\"attributes\":{\"axis_label\":\"rank_number\",\"coordinates\":null,\"formatter\":{\"id\":\"1046\"},\"group\":null,\"major_label_policy\":{\"id\":\"1047\"},\"ticker\":{\"id\":\"1016\"}},\"id\":\"1015\",\"type\":\"LinearAxis\"},{\"attributes\":{\"axis\":{\"id\":\"1015\"},\"coordinates\":null,\"grid_line_color\":null,\"group\":null,\"ticker\":null},\"id\":\"1018\",\"type\":\"Grid\"},{\"attributes\":{\"source\":{\"id\":\"1036\"}},\"id\":\"1043\",\"type\":\"CDSView\"},{\"attributes\":{},\"id\":\"1016\",\"type\":\"BasicTicker\"},{\"attributes\":{},\"id\":\"1062\",\"type\":\"UnionRenderers\"},{\"attributes\":{},\"id\":\"1047\",\"type\":\"AllLabels\"},{\"attributes\":{\"data\":{\"balance\":{\"__ndarray__\":\"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\",\"dtype\":\"float64\",\"order\":\"little\",\"shape\":[464]},\"rank_number\":[1,2,3,4,5,6,7,8,9,10,11,12,13,14,15,16,17,18,19,20,21,22,23,24,25,26,27,28,29,30,31,32,33,34,35,36,37,38,39,40,41,41,43,44,45,46,47,48,49,50,51,52,53,54,55,56,57,58,59,60,61,62,63,64,65,66,67,68,69,70,71,72,73,74,74,76,77,78,79,80,81,82,83,84,85,86,87,88,89,90,91,92,93,94,95,96,97,98,99,100,101,102,103,104,105,106,107,108,108,110,111,112,113,114,115,116,117,118,119,120,121,122,123,124,125,126,127,128,129,130,131,132,133,134,135,136,137,138,139,140,141,142,143,144,145,146,147,148,149,150,151,152,153,154,155,156,157,158,159,160,161,162,163,164,165,166,167,168,169,170,171,172,173,174,174,174,174,174,179,180,181,182,183,184,185,186,187,188,189,190,191,192,193,194,195,196,197,198,199,200,201,202,203,204,205,206,207,208,209,210,211,212,213,214,215,216,217,218,219,220,221,222,223,224,225,226,227,228,229,230,231,232,232,232,235,236,237,238,239,240,241,242,243,244,245,246,247,248,249,250,251,252,253,254,255,256,257,258,259,260,261,262,263,264,265,266,267,268,269,270,271,272,273,274,274,276,277,278,279,280,281,282,283,284,285,286,287,288,289,290,291,292,293,294,295,296,297,298,299,300,301,302,303,304,305,306,307,308,309,310,311,312,313,314,315,316,317,318,319,320,321,322,323,324,325,326,327,328,329,330,331,332,333,334,335,336,337,338,339,340,341,342,343,344,345,346,347,348,349,350,351,352,353,354,355,356,357,358,359,360,361,362,363,364,365,366,367,368,369,370,370,372,373,374,375,376,377,378,379,380,381,382,383,384,385,386,387,388,389,390,391,392,393,394,395,396,397,398,399,400,401,402,403,404,405,406,407,408,409,410,411,412,413,414,415,416,417,418,419,420,421,422,423,424,425,426,427,428,429,430,431,432,433,434,435,436,437,438,439,440,441,442,443,444,445,446,447,447,449,450,451,452,453,454,455,456,457,458,459,460,461,462,463,464]},\"selected\":{\"id\":\"1037\"},\"selection_policy\":{\"id\":\"1062\"}},\"id\":\"1036\",\"type\":\"ColumnDataSource\"},{\"attributes\":{},\"id\":\"1011\",\"type\":\"LinearScale\"},{\"attributes\":{\"coordinates\":null,\"group\":null,\"text_color\":\"black\",\"text_font_size\":\"12pt\"},\"id\":\"1007\",\"type\":\"Title\"},{\"attributes\":{},\"id\":\"1013\",\"type\":\"LinearScale\"},{\"attributes\":{\"below\":[{\"id\":\"1015\"}],\"center\":[{\"id\":\"1018\"},{\"id\":\"1022\"}],\"height\":300,\"left\":[{\"id\":\"1019\"}],\"margin\":[5,5,5,5],\"min_border_bottom\":10,\"min_border_left\":10,\"min_border_right\":10,\"min_border_top\":10,\"renderers\":[{\"id\":\"1042\"}],\"sizing_mode\":\"fixed\",\"title\":{\"id\":\"1007\"},\"toolbar\":{\"id\":\"1029\"},\"width\":700,\"x_range\":{\"id\":\"1003\"},\"x_scale\":{\"id\":\"1011\"},\"y_range\":{\"id\":\"1004\"},\"y_scale\":{\"id\":\"1013\"}},\"id\":\"1006\",\"subtype\":\"Figure\",\"type\":\"Plot\"},{\"attributes\":{},\"id\":\"1037\",\"type\":\"Selection\"},{\"attributes\":{},\"id\":\"1050\",\"type\":\"AllLabels\"},{\"attributes\":{\"active_drag\":{\"id\":\"1024\"},\"active_scroll\":{\"id\":\"1025\"},\"tools\":[{\"id\":\"1005\"},{\"id\":\"1023\"},{\"id\":\"1024\"},{\"id\":\"1025\"},{\"id\":\"1026\"},{\"id\":\"1027\"}]},\"id\":\"1029\",\"type\":\"Toolbar\"},{\"attributes\":{\"end\":165078.78949915402,\"reset_end\":165078.78949915402,\"reset_start\":-15006.070995200296,\"start\":-15006.070995200296,\"tags\":[[[\"balance\",\"balance\",null]]]},\"id\":\"1004\",\"type\":\"Range1d\"},{\"attributes\":{\"end\":464.0,\"reset_end\":464.0,\"reset_start\":1.0,\"start\":1.0,\"tags\":[[[\"rank_number\",\"rank_number\",null]]]},\"id\":\"1003\",\"type\":\"Range1d\"},{\"attributes\":{\"callback\":null,\"renderers\":[{\"id\":\"1042\"}],\"tags\":[\"hv_created\"],\"tooltips\":[[\"rank_number\",\"@{rank_number}\"],[\"balance\",\"@{balance}\"]]},\"id\":\"1005\",\"type\":\"HoverTool\"},{\"attributes\":{\"line_color\":\"#30a2da\",\"line_width\":2,\"x\":{\"field\":\"rank_number\"},\"y\":{\"field\":\"balance\"}},\"id\":\"1044\",\"type\":\"Line\"},{\"attributes\":{\"line_alpha\":0.1,\"line_color\":\"#30a2da\",\"line_width\":2,\"x\":{\"field\":\"rank_number\"},\"y\":{\"field\":\"balance\"}},\"id\":\"1040\",\"type\":\"Line\"},{\"attributes\":{\"line_alpha\":0.2,\"line_color\":\"#30a2da\",\"line_width\":2,\"x\":{\"field\":\"rank_number\"},\"y\":{\"field\":\"balance\"}},\"id\":\"1041\",\"type\":\"Line\"},{\"attributes\":{\"coordinates\":null,\"data_source\":{\"id\":\"1036\"},\"glyph\":{\"id\":\"1039\"},\"group\":null,\"hover_glyph\":null,\"muted_glyph\":{\"id\":\"1041\"},\"nonselection_glyph\":{\"id\":\"1040\"},\"selection_glyph\":{\"id\":\"1044\"},\"view\":{\"id\":\"1043\"}},\"id\":\"1042\",\"type\":\"GlyphRenderer\"},{\"attributes\":{\"bottom_units\":\"screen\",\"coordinates\":null,\"fill_alpha\":0.5,\"fill_color\":\"lightgrey\",\"group\":null,\"left_units\":\"screen\",\"level\":\"overlay\",\"line_alpha\":1.0,\"line_color\":\"black\",\"line_dash\":[4,4],\"line_width\":2,\"right_units\":\"screen\",\"syncable\":false,\"top_units\":\"screen\"},\"id\":\"1028\",\"type\":\"BoxAnnotation\"},{\"attributes\":{},\"id\":\"1049\",\"type\":\"BasicTickFormatter\"}],\"root_ids\":[\"1002\"]},\"title\":\"Bokeh Application\",\"version\":\"2.4.3\"}};\n",
       "    var render_items = [{\"docid\":\"5f6daa61-d9b3-4cde-8e5d-fd79004b89dc\",\"root_ids\":[\"1002\"],\"roots\":{\"1002\":\"0f23dca7-adda-47c6-84a9-e3de37529b9c\"}}];\n",
       "    root.Bokeh.embed.embed_items_notebook(docs_json, render_items);\n",
       "    for (const render_item of render_items) {\n",
       "      for (const root_id of render_item.root_ids) {\n",
       "\tconst id_el = document.getElementById(root_id)\n",
       "\tif (id_el.children.length && (id_el.children[0].className === 'bk-root')) {\n",
       "\t  const root_el = id_el.children[0]\n",
       "\t  root_el.id = root_el.id + '-rendered'\n",
       "\t}\n",
       "      }\n",
       "    }\n",
       "  }\n",
       "  if (root.Bokeh !== undefined && root.Bokeh.Panel !== undefined) {\n",
       "    embed_document(root);\n",
       "  } else {\n",
       "    var attempts = 0;\n",
       "    var timer = setInterval(function(root) {\n",
       "      if (root.Bokeh !== undefined && root.Bokeh.Panel !== undefined) {\n",
       "        clearInterval(timer);\n",
       "        embed_document(root);\n",
       "      } else if (document.readyState == \"complete\") {\n",
       "        attempts++;\n",
       "        if (attempts > 200) {\n",
       "          clearInterval(timer);\n",
       "          console.log(\"Bokeh: ERROR: Unable to run BokehJS code because BokehJS library is missing\");\n",
       "        }\n",
       "      }\n",
       "    }, 25, root)\n",
       "  }\n",
       "})(window);</script>"
      ],
      "text/plain": [
       ":Curve   [rank_number]   (balance)"
      ]
     },
     "execution_count": null,
     "metadata": {
      "application/vnd.holoviews_exec.v0+json": {
       "id": "1002"
      }
     },
     "output_type": "execute_result"
    }
   ],
   "source": [
    "holders_distribution.hvplot.line(x='rank_number', y='balance')"
   ]
  },
  {
   "cell_type": "markdown",
   "id": "fa0e582e-0078-48d7-975c-55cb891c0c23",
   "metadata": {},
   "source": [
    "### Gini Coefficient"
   ]
  },
  {
   "cell_type": "code",
   "execution_count": null,
   "id": "f0dd9715-7fe1-45a2-a6d1-1527bfc458f7",
   "metadata": {},
   "outputs": [],
   "source": [
    "def gini(y):\n",
    "    y = np.asarray(y)\n",
    "    gini = abs(y.reshape(len(y),1) - y.reshape(1,len(y))).sum() / (2 * len(y)**2 * y.mean())\n",
    "    return gini"
   ]
  },
  {
   "cell_type": "code",
   "execution_count": null,
   "id": "0d96e15f-edd6-4e2b-97ca-8e9172f6afa3",
   "metadata": {},
   "outputs": [
    {
     "data": {
      "text/plain": [
       "0.8288654489638984"
      ]
     },
     "execution_count": null,
     "metadata": {},
     "output_type": "execute_result"
    }
   ],
   "source": [
    "gini(holders_distribution['balance'])"
   ]
  },
  {
   "cell_type": "code",
   "execution_count": null,
   "id": "68508f4b-675a-4dd5-9bd3-4521e24a1c86",
   "metadata": {},
   "outputs": [
    {
     "data": {
      "text/html": [
       "<div>\n",
       "<style scoped>\n",
       "    .dataframe tbody tr th:only-of-type {\n",
       "        vertical-align: middle;\n",
       "    }\n",
       "\n",
       "    .dataframe tbody tr th {\n",
       "        vertical-align: top;\n",
       "    }\n",
       "\n",
       "    .dataframe thead th {\n",
       "        text-align: right;\n",
       "    }\n",
       "</style>\n",
       "<table border=\"1\" class=\"dataframe\">\n",
       "  <thead>\n",
       "    <tr style=\"text-align: right;\">\n",
       "      <th></th>\n",
       "      <th>balance</th>\n",
       "    </tr>\n",
       "  </thead>\n",
       "  <tbody>\n",
       "    <tr>\n",
       "      <th>count</th>\n",
       "      <td>464.000000</td>\n",
       "    </tr>\n",
       "    <tr>\n",
       "      <th>mean</th>\n",
       "      <td>3913.300491</td>\n",
       "    </tr>\n",
       "    <tr>\n",
       "      <th>std</th>\n",
       "      <td>12092.963220</td>\n",
       "    </tr>\n",
       "    <tr>\n",
       "      <th>min</th>\n",
       "      <td>1.000713</td>\n",
       "    </tr>\n",
       "    <tr>\n",
       "      <th>25%</th>\n",
       "      <td>73.190590</td>\n",
       "    </tr>\n",
       "    <tr>\n",
       "      <th>50%</th>\n",
       "      <td>500.000000</td>\n",
       "    </tr>\n",
       "    <tr>\n",
       "      <th>75%</th>\n",
       "      <td>2699.941129</td>\n",
       "    </tr>\n",
       "    <tr>\n",
       "      <th>max</th>\n",
       "      <td>150071.717791</td>\n",
       "    </tr>\n",
       "  </tbody>\n",
       "</table>\n",
       "</div>"
      ],
      "text/plain": [
       "             balance\n",
       "count     464.000000\n",
       "mean     3913.300491\n",
       "std     12092.963220\n",
       "min         1.000713\n",
       "25%        73.190590\n",
       "50%       500.000000\n",
       "75%      2699.941129\n",
       "max    150071.717791"
      ]
     },
     "execution_count": null,
     "metadata": {},
     "output_type": "execute_result"
    }
   ],
   "source": [
    "holders_distribution[['balance']].describe()"
   ]
  },
  {
   "cell_type": "markdown",
   "id": "16020c34-2e70-4064-b244-b70def40d287",
   "metadata": {},
   "source": [
    "### TEC Price Chart"
   ]
  },
  {
   "cell_type": "code",
   "execution_count": null,
   "id": "94cb39b2-3f10-4005-8ee9-7c16dea383f3",
   "metadata": {},
   "outputs": [
    {
     "data": {
      "text/html": [
       "<div>\n",
       "<style scoped>\n",
       "    .dataframe tbody tr th:only-of-type {\n",
       "        vertical-align: middle;\n",
       "    }\n",
       "\n",
       "    .dataframe tbody tr th {\n",
       "        vertical-align: top;\n",
       "    }\n",
       "\n",
       "    .dataframe thead th {\n",
       "        text-align: right;\n",
       "    }\n",
       "</style>\n",
       "<table border=\"1\" class=\"dataframe\">\n",
       "  <thead>\n",
       "    <tr style=\"text-align: right;\">\n",
       "      <th></th>\n",
       "      <th>block_date</th>\n",
       "      <th>avg_mint_price</th>\n",
       "      <th>avg_burn_price</th>\n",
       "      <th>avg_mkt_price</th>\n",
       "    </tr>\n",
       "  </thead>\n",
       "  <tbody>\n",
       "    <tr>\n",
       "      <th>0</th>\n",
       "      <td>2022-01-25 00:00:00+00:00</td>\n",
       "      <td>1.956346</td>\n",
       "      <td>2.221616</td>\n",
       "      <td>2.305090</td>\n",
       "    </tr>\n",
       "    <tr>\n",
       "      <th>1</th>\n",
       "      <td>2022-01-26 00:00:00+00:00</td>\n",
       "      <td>2.893026</td>\n",
       "      <td>2.221616</td>\n",
       "      <td>2.592010</td>\n",
       "    </tr>\n",
       "    <tr>\n",
       "      <th>2</th>\n",
       "      <td>2022-01-27 00:00:00+00:00</td>\n",
       "      <td>2.864334</td>\n",
       "      <td>2.221616</td>\n",
       "      <td>2.540351</td>\n",
       "    </tr>\n",
       "    <tr>\n",
       "      <th>3</th>\n",
       "      <td>2022-01-28 00:00:00+00:00</td>\n",
       "      <td>2.826360</td>\n",
       "      <td>2.249963</td>\n",
       "      <td>2.477631</td>\n",
       "    </tr>\n",
       "    <tr>\n",
       "      <th>4</th>\n",
       "      <td>2022-01-29 00:00:00+00:00</td>\n",
       "      <td>2.943731</td>\n",
       "      <td>2.250424</td>\n",
       "      <td>2.683242</td>\n",
       "    </tr>\n",
       "  </tbody>\n",
       "</table>\n",
       "</div>"
      ],
      "text/plain": [
       "                 block_date  avg_mint_price  avg_burn_price  avg_mkt_price\n",
       "0 2022-01-25 00:00:00+00:00        1.956346        2.221616       2.305090\n",
       "1 2022-01-26 00:00:00+00:00        2.893026        2.221616       2.592010\n",
       "2 2022-01-27 00:00:00+00:00        2.864334        2.221616       2.540351\n",
       "3 2022-01-28 00:00:00+00:00        2.826360        2.249963       2.477631\n",
       "4 2022-01-29 00:00:00+00:00        2.943731        2.250424       2.683242"
      ]
     },
     "execution_count": null,
     "metadata": {},
     "output_type": "execute_result"
    }
   ],
   "source": [
    "price_chart = tec.market_information.price_chart()\n",
    "price_chart['block_date'] = pd.to_datetime(price_chart['block_date'])\n",
    "price_chart = price_chart.replace('<nil>', np.nan).bfill()\n",
    "price_chart[['avg_mint_price', 'avg_burn_price', 'avg_mkt_price']] = price_chart[['avg_mint_price', 'avg_burn_price', 'avg_mkt_price']].astype(float)\n",
    "price_chart.head()"
   ]
  },
  {
   "cell_type": "code",
   "execution_count": null,
   "id": "12dff49c-0bc7-4112-b728-639e647677d2",
   "metadata": {},
   "outputs": [
    {
     "data": {},
     "metadata": {},
     "output_type": "display_data"
    },
    {
     "data": {
      "application/vnd.holoviews_exec.v0+json": "",
      "text/html": [
       "<div id='1116'>\n",
       "  <div class=\"bk-root\" id=\"6450fee9-e1ba-467a-806b-71e894bbb639\" data-root-id=\"1116\"></div>\n",
       "</div>\n",
       "<script type=\"application/javascript\">(function(root) {\n",
       "  function embed_document(root) {\n",
       "    var docs_json = {\"1f399bbb-f85c-4422-941b-b7dcded8b441\":{\"defs\":[{\"extends\":null,\"module\":null,\"name\":\"ReactiveHTML1\",\"overrides\":[],\"properties\":[]},{\"extends\":null,\"module\":null,\"name\":\"FlexBox1\",\"overrides\":[],\"properties\":[{\"default\":\"flex-start\",\"kind\":null,\"name\":\"align_content\"},{\"default\":\"flex-start\",\"kind\":null,\"name\":\"align_items\"},{\"default\":\"row\",\"kind\":null,\"name\":\"flex_direction\"},{\"default\":\"wrap\",\"kind\":null,\"name\":\"flex_wrap\"},{\"default\":\"flex-start\",\"kind\":null,\"name\":\"justify_content\"}]},{\"extends\":null,\"module\":null,\"name\":\"GridStack1\",\"overrides\":[],\"properties\":[{\"default\":\"warn\",\"kind\":null,\"name\":\"mode\"},{\"default\":null,\"kind\":null,\"name\":\"ncols\"},{\"default\":null,\"kind\":null,\"name\":\"nrows\"},{\"default\":true,\"kind\":null,\"name\":\"allow_resize\"},{\"default\":true,\"kind\":null,\"name\":\"allow_drag\"},{\"default\":[],\"kind\":null,\"name\":\"state\"}]},{\"extends\":null,\"module\":null,\"name\":\"click1\",\"overrides\":[],\"properties\":[{\"default\":\"\",\"kind\":null,\"name\":\"terminal_output\"},{\"default\":\"\",\"kind\":null,\"name\":\"debug_name\"},{\"default\":0,\"kind\":null,\"name\":\"clears\"}]},{\"extends\":null,\"module\":null,\"name\":\"NotificationAreaBase1\",\"overrides\":[],\"properties\":[{\"default\":\"bottom-right\",\"kind\":null,\"name\":\"position\"},{\"default\":0,\"kind\":null,\"name\":\"_clear\"}]},{\"extends\":null,\"module\":null,\"name\":\"NotificationArea1\",\"overrides\":[],\"properties\":[{\"default\":[],\"kind\":null,\"name\":\"notifications\"},{\"default\":\"bottom-right\",\"kind\":null,\"name\":\"position\"},{\"default\":0,\"kind\":null,\"name\":\"_clear\"},{\"default\":[{\"background\":\"#ffc107\",\"icon\":{\"className\":\"fas fa-exclamation-triangle\",\"color\":\"white\",\"tagName\":\"i\"},\"type\":\"warning\"},{\"background\":\"#007bff\",\"icon\":{\"className\":\"fas fa-info-circle\",\"color\":\"white\",\"tagName\":\"i\"},\"type\":\"info\"}],\"kind\":null,\"name\":\"types\"}]},{\"extends\":null,\"module\":null,\"name\":\"Notification\",\"overrides\":[],\"properties\":[{\"default\":null,\"kind\":null,\"name\":\"background\"},{\"default\":3000,\"kind\":null,\"name\":\"duration\"},{\"default\":null,\"kind\":null,\"name\":\"icon\"},{\"default\":\"\",\"kind\":null,\"name\":\"message\"},{\"default\":null,\"kind\":null,\"name\":\"notification_type\"},{\"default\":false,\"kind\":null,\"name\":\"_destroyed\"}]},{\"extends\":null,\"module\":null,\"name\":\"TemplateActions1\",\"overrides\":[],\"properties\":[{\"default\":0,\"kind\":null,\"name\":\"open_modal\"},{\"default\":0,\"kind\":null,\"name\":\"close_modal\"}]},{\"extends\":null,\"module\":null,\"name\":\"MaterialTemplateActions1\",\"overrides\":[],\"properties\":[{\"default\":0,\"kind\":null,\"name\":\"open_modal\"},{\"default\":0,\"kind\":null,\"name\":\"close_modal\"}]}],\"roots\":{\"references\":[{\"attributes\":{\"days\":[1,15]},\"id\":\"1182\",\"type\":\"DaysTicker\"},{\"attributes\":{\"coordinates\":null,\"data_source\":{\"id\":\"1158\"},\"glyph\":{\"id\":\"1161\"},\"group\":null,\"hover_glyph\":null,\"muted_glyph\":{\"id\":\"1163\"},\"nonselection_glyph\":{\"id\":\"1162\"},\"selection_glyph\":{\"id\":\"1190\"},\"view\":{\"id\":\"1165\"}},\"id\":\"1164\",\"type\":\"GlyphRenderer\"},{\"attributes\":{\"source\":{\"id\":\"1225\"}},\"id\":\"1232\",\"type\":\"CDSView\"},{\"attributes\":{\"months\":[0,6]},\"id\":\"1186\",\"type\":\"MonthsTicker\"},{\"attributes\":{\"line_color\":\"#e5ae38\",\"line_width\":2,\"x\":{\"field\":\"block_date\"},\"y\":{\"field\":\"value\"}},\"id\":\"1260\",\"type\":\"Line\"},{\"attributes\":{\"months\":[0,2,4,6,8,10]},\"id\":\"1184\",\"type\":\"MonthsTicker\"},{\"attributes\":{\"line_alpha\":0.2,\"line_color\":\"#e5ae38\",\"line_width\":2,\"x\":{\"field\":\"block_date\"},\"y\":{\"field\":\"value\"}},\"id\":\"1230\",\"type\":\"Line\"},{\"attributes\":{\"label\":{\"value\":\"avg_mkt_price\"},\"renderers\":[{\"id\":\"1231\"}]},\"id\":\"1259\",\"type\":\"LegendItem\"},{\"attributes\":{\"months\":[0,4,8]},\"id\":\"1185\",\"type\":\"MonthsTicker\"},{\"attributes\":{\"line_color\":\"#fc4f30\",\"line_width\":2,\"x\":{\"field\":\"block_date\"},\"y\":{\"field\":\"value\"}},\"id\":\"1224\",\"type\":\"Line\"},{\"attributes\":{},\"id\":\"1244\",\"type\":\"UnionRenderers\"},{\"attributes\":{\"click_policy\":\"mute\",\"coordinates\":null,\"group\":null,\"items\":[{\"id\":\"1189\"},{\"id\":\"1223\"},{\"id\":\"1259\"}],\"location\":[0,0],\"title\":\"Variable\"},\"id\":\"1188\",\"type\":\"Legend\"},{\"attributes\":{\"end\":1681776000000.0,\"reset_end\":1681776000000.0,\"reset_start\":1643068800000.0,\"start\":1643068800000.0,\"tags\":[[[\"block_date\",\"block_date\",null]]]},\"id\":\"1117\",\"type\":\"Range1d\"},{\"attributes\":{\"data\":{\"Variable\":[\"avg_mint_price\",\"avg_mint_price\",\"avg_mint_price\",\"avg_mint_price\",\"avg_mint_price\",\"avg_mint_price\",\"avg_mint_price\",\"avg_mint_price\",\"avg_mint_price\",\"avg_mint_price\",\"avg_mint_price\",\"avg_mint_price\",\"avg_mint_price\",\"avg_mint_price\",\"avg_mint_price\",\"avg_mint_price\",\"avg_mint_price\",\"avg_mint_price\",\"avg_mint_price\",\"avg_mint_price\",\"avg_mint_price\",\"avg_mint_price\",\"avg_mint_price\",\"avg_mint_price\",\"avg_mint_price\",\"avg_mint_price\",\"avg_mint_price\",\"avg_mint_price\",\"avg_mint_price\",\"avg_mint_price\",\"avg_mint_price\",\"avg_mint_price\",\"avg_mint_price\",\"avg_mint_price\",\"avg_mint_price\",\"avg_mint_price\",\"avg_mint_price\",\"avg_mint_price\",\"avg_mint_price\",\"avg_mint_price\",\"avg_mint_price\",\"avg_mint_price\",\"avg_mint_price\",\"avg_mint_price\",\"avg_mint_price\",\"avg_mint_price\",\"avg_mint_price\",\"avg_mint_price\",\"avg_mint_price\",\"avg_mint_price\",\"avg_mint_price\",\"avg_mint_price\",\"avg_mint_price\",\"avg_mint_price\",\"avg_mint_price\",\"avg_mint_price\",\"avg_mint_price\",\"avg_mint_price\",\"avg_mint_price\",\"avg_mint_price\",\"avg_mint_price\",\"avg_mint_price\",\"avg_mint_price\",\"avg_mint_price\",\"avg_mint_price\",\"avg_mint_price\",\"avg_mint_price\",\"avg_mint_price\",\"avg_mint_price\",\"avg_mint_price\",\"avg_mint_price\",\"avg_mint_price\",\"avg_mint_price\",\"avg_mint_price\",\"avg_mint_price\",\"avg_mint_price\",\"avg_mint_price\",\"avg_mint_price\",\"avg_mint_price\",\"avg_mint_price\",\"avg_mint_price\",\"avg_mint_price\",\"avg_mint_price\",\"avg_mint_price\",\"avg_mint_price\",\"avg_mint_price\",\"avg_mint_price\",\"avg_mint_price\",\"avg_mint_price\",\"avg_mint_price\",\"avg_mint_price\",\"avg_mint_price\",\"avg_mint_price\",\"avg_mint_price\",\"avg_mint_price\",\"avg_mint_price\",\"avg_mint_price\",\"avg_mint_price\",\"avg_mint_price\",\"avg_mint_price\",\"avg_mint_price\",\"avg_mint_price\",\"avg_mint_price\",\"avg_mint_price\",\"avg_mint_price\",\"avg_mint_price\",\"avg_mint_price\",\"avg_mint_price\",\"avg_mint_price\",\"avg_mint_price\",\"avg_mint_price\",\"avg_mint_price\",\"avg_mint_price\",\"avg_mint_price\",\"avg_mint_price\",\"avg_mint_price\",\"avg_mint_price\",\"avg_mint_price\",\"avg_mint_price\",\"avg_mint_price\",\"avg_mint_price\",\"avg_mint_price\",\"avg_mint_price\",\"avg_mint_price\",\"avg_mint_price\",\"avg_mint_price\",\"avg_mint_price\",\"avg_mint_price\",\"avg_mint_price\",\"avg_mint_price\",\"avg_mint_price\",\"avg_mint_price\",\"avg_mint_price\",\"avg_mint_price\",\"avg_mint_price\",\"avg_mint_price\",\"avg_mint_price\",\"avg_mint_price\",\"avg_mint_price\",\"avg_mint_price\",\"avg_mint_price\",\"avg_mint_price\",\"avg_mint_price\",\"avg_mint_price\",\"avg_mint_price\",\"avg_mint_price\",\"avg_mint_price\",\"avg_mint_price\",\"avg_mint_price\",\"avg_mint_price\",\"avg_mint_price\",\"avg_mint_price\",\"avg_mint_price\",\"avg_mint_price\",\"avg_mint_price\",\"avg_mint_price\",\"avg_mint_price\",\"avg_mint_price\",\"avg_mint_price\",\"avg_mint_price\",\"avg_mint_price\",\"avg_mint_price\",\"avg_mint_price\",\"avg_mint_price\",\"avg_mint_price\",\"avg_mint_price\",\"avg_mint_price\",\"avg_mint_price\",\"avg_mint_price\",\"avg_mint_price\",\"avg_mint_price\",\"avg_mint_price\",\"avg_mint_price\",\"avg_mint_price\",\"avg_mint_price\",\"avg_mint_price\",\"avg_mint_price\",\"avg_mint_price\",\"avg_mint_price\",\"avg_mint_price\",\"avg_mint_price\",\"avg_mint_price\",\"avg_mint_price\",\"avg_mint_price\",\"avg_mint_price\",\"avg_mint_price\",\"avg_mint_price\",\"avg_mint_price\",\"avg_mint_price\",\"avg_mint_price\",\"avg_mint_price\",\"avg_mint_price\",\"avg_mint_price\",\"avg_mint_price\",\"avg_mint_price\",\"avg_mint_price\",\"avg_mint_price\",\"avg_mint_price\",\"avg_mint_price\",\"avg_mint_price\",\"avg_mint_price\",\"avg_mint_price\",\"avg_mint_price\",\"avg_mint_price\",\"avg_mint_price\",\"avg_mint_price\",\"avg_mint_price\",\"avg_mint_price\",\"avg_mint_price\",\"avg_mint_price\",\"avg_mint_price\",\"avg_mint_price\",\"avg_mint_price\",\"avg_mint_price\",\"avg_mint_price\",\"avg_mint_price\",\"avg_mint_price\",\"avg_mint_price\",\"avg_mint_price\",\"avg_mint_price\",\"avg_mint_price\",\"avg_mint_price\",\"avg_mint_price\",\"avg_mint_price\",\"avg_mint_price\",\"avg_mint_price\",\"avg_mint_price\",\"avg_mint_price\",\"avg_mint_price\",\"avg_mint_price\",\"avg_mint_price\",\"avg_mint_price\",\"avg_mint_price\",\"avg_mint_price\",\"avg_mint_price\",\"avg_mint_price\",\"avg_mint_price\",\"avg_mint_price\",\"avg_mint_price\",\"avg_mint_price\",\"avg_mint_price\",\"avg_mint_price\",\"avg_mint_price\",\"avg_mint_price\",\"avg_mint_price\",\"avg_mint_price\",\"avg_mint_price\",\"avg_mint_price\",\"avg_mint_price\",\"avg_mint_price\",\"avg_mint_price\",\"avg_mint_price\",\"avg_mint_price\",\"avg_mint_price\",\"avg_mint_price\",\"avg_mint_price\",\"avg_mint_price\",\"avg_mint_price\",\"avg_mint_price\",\"avg_mint_price\",\"avg_mint_price\",\"avg_mint_price\",\"avg_mint_price\",\"avg_mint_price\",\"avg_mint_price\",\"avg_mint_price\",\"avg_mint_price\",\"avg_mint_price\",\"avg_mint_price\",\"avg_mint_price\",\"avg_mint_price\",\"avg_mint_price\",\"avg_mint_price\",\"avg_mint_price\",\"avg_mint_price\",\"avg_mint_price\",\"avg_mint_price\",\"avg_mint_price\",\"avg_mint_price\",\"avg_mint_price\",\"avg_mint_price\",\"avg_mint_price\",\"avg_mint_price\",\"avg_mint_price\",\"avg_mint_price\",\"avg_mint_price\",\"avg_mint_price\",\"avg_mint_price\",\"avg_mint_price\",\"avg_mint_price\",\"avg_mint_price\",\"avg_mint_price\",\"avg_mint_price\",\"avg_mint_price\",\"avg_mint_price\",\"avg_mint_price\",\"avg_mint_price\",\"avg_mint_price\",\"avg_mint_price\",\"avg_mint_price\",\"avg_mint_price\",\"avg_mint_price\",\"avg_mint_price\",\"avg_mint_price\",\"avg_mint_price\",\"avg_mint_price\",\"avg_mint_price\",\"avg_mint_price\",\"avg_mint_price\",\"avg_mint_price\",\"avg_mint_price\",\"avg_mint_price\",\"avg_mint_price\",\"avg_mint_price\",\"avg_mint_price\",\"avg_mint_price\",\"avg_mint_price\",\"avg_mint_price\",\"avg_mint_price\",\"avg_mint_price\",\"avg_mint_price\",\"avg_mint_price\",\"avg_mint_price\",\"avg_mint_price\",\"avg_mint_price\",\"avg_mint_price\",\"avg_mint_price\",\"avg_mint_price\",\"avg_mint_price\",\"avg_mint_price\",\"avg_mint_price\",\"avg_mint_price\",\"avg_mint_price\",\"avg_mint_price\",\"avg_mint_price\",\"avg_mint_price\",\"avg_mint_price\",\"avg_mint_price\",\"avg_mint_price\",\"avg_mint_price\",\"avg_mint_price\",\"avg_mint_price\",\"avg_mint_price\",\"avg_mint_price\",\"avg_mint_price\",\"avg_mint_price\",\"avg_mint_price\",\"avg_mint_price\",\"avg_mint_price\",\"avg_mint_price\",\"avg_mint_price\",\"avg_mint_price\",\"avg_mint_price\",\"avg_mint_price\",\"avg_mint_price\",\"avg_mint_price\",\"avg_mint_price\",\"avg_mint_price\",\"avg_mint_price\",\"avg_mint_price\",\"avg_mint_price\",\"avg_mint_price\",\"avg_mint_price\",\"avg_mint_price\",\"avg_mint_price\",\"avg_mint_price\",\"avg_mint_price\",\"avg_mint_price\",\"avg_mint_price\",\"avg_mint_price\",\"avg_mint_price\",\"avg_mint_price\",\"avg_mint_price\",\"avg_mint_price\",\"avg_mint_price\",\"avg_mint_price\",\"avg_mint_price\",\"avg_mint_price\",\"avg_mint_price\",\"avg_mint_price\",\"avg_mint_price\",\"avg_mint_price\",\"avg_mint_price\",\"avg_mint_price\",\"avg_mint_price\",\"avg_mint_price\",\"avg_mint_price\",\"avg_mint_price\",\"avg_mint_price\",\"avg_mint_price\",\"avg_mint_price\",\"avg_mint_price\",\"avg_mint_price\",\"avg_mint_price\",\"avg_mint_price\",\"avg_mint_price\",\"avg_mint_price\",\"avg_mint_price\",\"avg_mint_price\",\"avg_mint_price\",\"avg_mint_price\",\"avg_mint_price\",\"avg_mint_price\",\"avg_mint_price\",\"avg_mint_price\",\"avg_mint_price\",\"avg_mint_price\",\"avg_mint_price\",\"avg_mint_price\",\"avg_mint_price\",\"avg_mint_price\",\"avg_mint_price\",\"avg_mint_price\",\"avg_mint_price\",\"avg_mint_price\",\"avg_mint_price\",\"avg_mint_price\",\"avg_mint_price\",\"avg_mint_price\",\"avg_mint_price\",\"avg_mint_price\",\"avg_mint_price\",\"avg_mint_price\",\"avg_mint_price\",\"avg_mint_price\",\"avg_mint_price\",\"avg_mint_price\",\"avg_mint_price\",\"avg_mint_price\",\"avg_mint_price\",\"avg_mint_price\",\"avg_mint_price\",\"avg_mint_price\",\"avg_mint_price\",\"avg_mint_price\",\"avg_mint_price\",\"avg_mint_price\",\"avg_mint_price\",\"avg_mint_price\",\"avg_mint_price\",\"avg_mint_price\",\"avg_mint_price\",\"avg_mint_price\",\"avg_mint_price\",\"avg_mint_price\",\"avg_mint_price\",\"avg_mint_price\",\"avg_mint_price\"],\"block_date\":{\"__ndarray__\":\"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\",\"dtype\":\"float64\",\"order\":\"little\",\"shape\":[448]},\"value\":{\"__ndarray__\":\"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\",\"dtype\":\"float64\",\"order\":\"little\",\"shape\":[448]}},\"selected\":{\"id\":\"1159\"},\"selection_policy\":{\"id\":\"1173\"}},\"id\":\"1158\",\"type\":\"ColumnDataSource\"},{\"attributes\":{\"source\":{\"id\":\"1191\"}},\"id\":\"1198\",\"type\":\"CDSView\"},{\"attributes\":{\"line_alpha\":0.1,\"line_color\":\"#fc4f30\",\"line_width\":2,\"x\":{\"field\":\"block_date\"},\"y\":{\"field\":\"value\"}},\"id\":\"1195\",\"type\":\"Line\"},{\"attributes\":{\"axis\":{\"id\":\"1135\"},\"coordinates\":null,\"dimension\":1,\"grid_line_color\":null,\"group\":null,\"ticker\":null},\"id\":\"1138\",\"type\":\"Grid\"},{\"attributes\":{\"axis\":{\"id\":\"1131\"},\"coordinates\":null,\"grid_line_color\":null,\"group\":null,\"ticker\":null},\"id\":\"1134\",\"type\":\"Grid\"},{\"attributes\":{\"line_color\":\"#e5ae38\",\"line_width\":2,\"x\":{\"field\":\"block_date\"},\"y\":{\"field\":\"value\"}},\"id\":\"1228\",\"type\":\"Line\"},{\"attributes\":{},\"id\":\"1129\",\"type\":\"LinearScale\"},{\"attributes\":{\"axis_label\":\"\",\"coordinates\":null,\"formatter\":{\"id\":\"1156\"},\"group\":null,\"major_label_policy\":{\"id\":\"1157\"},\"ticker\":{\"id\":\"1136\"}},\"id\":\"1135\",\"type\":\"LinearAxis\"},{\"attributes\":{\"label\":{\"value\":\"avg_burn_price\"},\"renderers\":[{\"id\":\"1197\"}]},\"id\":\"1223\",\"type\":\"LegendItem\"},{\"attributes\":{},\"id\":\"1153\",\"type\":\"DatetimeTickFormatter\"},{\"attributes\":{\"active_drag\":{\"id\":\"1140\"},\"active_scroll\":{\"id\":\"1141\"},\"tools\":[{\"id\":\"1119\"},{\"id\":\"1139\"},{\"id\":\"1140\"},{\"id\":\"1141\"},{\"id\":\"1142\"},{\"id\":\"1143\"}]},\"id\":\"1145\",\"type\":\"Toolbar\"},{\"attributes\":{\"children\":[{\"id\":\"1122\"}],\"height\":300,\"margin\":[0,0,0,0],\"name\":\"Row01031\",\"sizing_mode\":\"fixed\",\"tags\":[\"embedded\"],\"width\":700},\"id\":\"1116\",\"type\":\"Row\"},{\"attributes\":{\"line_alpha\":0.2,\"line_color\":\"#fc4f30\",\"line_width\":2,\"x\":{\"field\":\"block_date\"},\"y\":{\"field\":\"value\"}},\"id\":\"1196\",\"type\":\"Line\"},{\"attributes\":{},\"id\":\"1140\",\"type\":\"PanTool\"},{\"attributes\":{},\"id\":\"1127\",\"type\":\"LinearScale\"},{\"attributes\":{\"line_alpha\":0.1,\"line_color\":\"#e5ae38\",\"line_width\":2,\"x\":{\"field\":\"block_date\"},\"y\":{\"field\":\"value\"}},\"id\":\"1229\",\"type\":\"Line\"},{\"attributes\":{},\"id\":\"1157\",\"type\":\"AllLabels\"},{\"attributes\":{\"line_color\":\"#fc4f30\",\"line_width\":2,\"x\":{\"field\":\"block_date\"},\"y\":{\"field\":\"value\"}},\"id\":\"1194\",\"type\":\"Line\"},{\"attributes\":{\"end\":3.1864726320905166,\"reset_end\":3.1864726320905166,\"reset_start\":0.27862076132431923,\"start\":0.27862076132431923,\"tags\":[[[\"value\",\"value\",null]]]},\"id\":\"1118\",\"type\":\"Range1d\"},{\"attributes\":{},\"id\":\"1173\",\"type\":\"UnionRenderers\"},{\"attributes\":{\"bottom_units\":\"screen\",\"coordinates\":null,\"fill_alpha\":0.5,\"fill_color\":\"lightgrey\",\"group\":null,\"left_units\":\"screen\",\"level\":\"overlay\",\"line_alpha\":1.0,\"line_color\":\"black\",\"line_dash\":[4,4],\"line_width\":2,\"right_units\":\"screen\",\"syncable\":false,\"top_units\":\"screen\"},\"id\":\"1144\",\"type\":\"BoxAnnotation\"},{\"attributes\":{\"data\":{\"Variable\":[\"avg_burn_price\",\"avg_burn_price\",\"avg_burn_price\",\"avg_burn_price\",\"avg_burn_price\",\"avg_burn_price\",\"avg_burn_price\",\"avg_burn_price\",\"avg_burn_price\",\"avg_burn_price\",\"avg_burn_price\",\"avg_burn_price\",\"avg_burn_price\",\"avg_burn_price\",\"avg_burn_price\",\"avg_burn_price\",\"avg_burn_price\",\"avg_burn_price\",\"avg_burn_price\",\"avg_burn_price\",\"avg_burn_price\",\"avg_burn_price\",\"avg_burn_price\",\"avg_burn_price\",\"avg_burn_price\",\"avg_burn_price\",\"avg_burn_price\",\"avg_burn_price\",\"avg_burn_price\",\"avg_burn_price\",\"avg_burn_price\",\"avg_burn_price\",\"avg_burn_price\",\"avg_burn_price\",\"avg_burn_price\",\"avg_burn_price\",\"avg_burn_price\",\"avg_burn_price\",\"avg_burn_price\",\"avg_burn_price\",\"avg_burn_price\",\"avg_burn_price\",\"avg_burn_price\",\"avg_burn_price\",\"avg_burn_price\",\"avg_burn_price\",\"avg_burn_price\",\"avg_burn_price\",\"avg_burn_price\",\"avg_burn_price\",\"avg_burn_price\",\"avg_burn_price\",\"avg_burn_price\",\"avg_burn_price\",\"avg_burn_price\",\"avg_burn_price\",\"avg_burn_price\",\"avg_burn_price\",\"avg_burn_price\",\"avg_burn_price\",\"avg_burn_price\",\"avg_burn_price\",\"avg_burn_price\",\"avg_burn_price\",\"avg_burn_price\",\"avg_burn_price\",\"avg_burn_price\",\"avg_burn_price\",\"avg_burn_price\",\"avg_burn_price\",\"avg_burn_price\",\"avg_burn_price\",\"avg_burn_price\",\"avg_burn_price\",\"avg_burn_price\",\"avg_burn_price\",\"avg_burn_price\",\"avg_burn_price\",\"avg_burn_price\",\"avg_burn_price\",\"avg_burn_price\",\"avg_burn_price\",\"avg_burn_price\",\"avg_burn_price\",\"avg_burn_price\",\"avg_burn_price\",\"avg_burn_price\",\"avg_burn_price\",\"avg_burn_price\",\"avg_burn_price\",\"avg_burn_price\",\"avg_burn_price\",\"avg_burn_price\",\"avg_burn_price\",\"avg_burn_price\",\"avg_burn_price\",\"avg_burn_price\",\"avg_burn_price\",\"avg_burn_price\",\"avg_burn_price\",\"avg_burn_price\",\"avg_burn_price\",\"avg_burn_price\",\"avg_burn_price\",\"avg_burn_price\",\"avg_burn_price\",\"avg_burn_price\",\"avg_burn_price\",\"avg_burn_price\",\"avg_burn_price\",\"avg_burn_price\",\"avg_burn_price\",\"avg_burn_price\",\"avg_burn_price\",\"avg_burn_price\",\"avg_burn_price\",\"avg_burn_price\",\"avg_burn_price\",\"avg_burn_price\",\"avg_burn_price\",\"avg_burn_price\",\"avg_burn_price\",\"avg_burn_price\",\"avg_burn_price\",\"avg_burn_price\",\"avg_burn_price\",\"avg_burn_price\",\"avg_burn_price\",\"avg_burn_price\",\"avg_burn_price\",\"avg_burn_price\",\"avg_burn_price\",\"avg_burn_price\",\"avg_burn_price\",\"avg_burn_price\",\"avg_burn_price\",\"avg_burn_price\",\"avg_burn_price\",\"avg_burn_price\",\"avg_burn_price\",\"avg_burn_price\",\"avg_burn_price\",\"avg_burn_price\",\"avg_burn_price\",\"avg_burn_price\",\"avg_burn_price\",\"avg_burn_price\",\"avg_burn_price\",\"avg_burn_price\",\"avg_burn_price\",\"avg_burn_price\",\"avg_burn_price\",\"avg_burn_price\",\"avg_burn_price\",\"avg_burn_price\",\"avg_burn_price\",\"avg_burn_price\",\"avg_burn_price\",\"avg_burn_price\",\"avg_burn_price\",\"avg_burn_price\",\"avg_burn_price\",\"avg_burn_price\",\"avg_burn_price\",\"avg_burn_price\",\"avg_burn_price\",\"avg_burn_price\",\"avg_burn_price\",\"avg_burn_price\",\"avg_burn_price\",\"avg_burn_price\",\"avg_burn_price\",\"avg_burn_price\",\"avg_burn_price\",\"avg_burn_price\",\"avg_burn_price\",\"avg_burn_price\",\"avg_burn_price\",\"avg_burn_price\",\"avg_burn_price\",\"avg_burn_price\",\"avg_burn_price\",\"avg_burn_price\",\"avg_burn_price\",\"avg_burn_price\",\"avg_burn_price\",\"avg_burn_price\",\"avg_burn_price\",\"avg_burn_price\",\"avg_burn_price\",\"avg_burn_price\",\"avg_burn_price\",\"avg_burn_price\",\"avg_burn_price\",\"avg_burn_price\",\"avg_burn_price\",\"avg_burn_price\",\"avg_burn_price\",\"avg_burn_price\",\"avg_burn_price\",\"avg_burn_price\",\"avg_burn_price\",\"avg_burn_price\",\"avg_burn_price\",\"avg_burn_price\",\"avg_burn_price\",\"avg_burn_price\",\"avg_burn_price\",\"avg_burn_price\",\"avg_burn_price\",\"avg_burn_price\",\"avg_burn_price\",\"avg_burn_price\",\"avg_burn_price\",\"avg_burn_price\",\"avg_burn_price\",\"avg_burn_price\",\"avg_burn_price\",\"avg_burn_price\",\"avg_burn_price\",\"avg_burn_price\",\"avg_burn_price\",\"avg_burn_price\",\"avg_burn_price\",\"avg_burn_price\",\"avg_burn_price\",\"avg_burn_price\",\"avg_burn_price\",\"avg_burn_price\",\"avg_burn_price\",\"avg_burn_price\",\"avg_burn_price\",\"avg_burn_price\",\"avg_burn_price\",\"avg_burn_price\",\"avg_burn_price\",\"avg_burn_price\",\"avg_burn_price\",\"avg_burn_price\",\"avg_burn_price\",\"avg_burn_price\",\"avg_burn_price\",\"avg_burn_price\",\"avg_burn_price\",\"avg_burn_price\",\"avg_burn_price\",\"avg_burn_price\",\"avg_burn_price\",\"avg_burn_price\",\"avg_burn_price\",\"avg_burn_price\",\"avg_burn_price\",\"avg_burn_price\",\"avg_burn_price\",\"avg_burn_price\",\"avg_burn_price\",\"avg_burn_price\",\"avg_burn_price\",\"avg_burn_price\",\"avg_burn_price\",\"avg_burn_price\",\"avg_burn_price\",\"avg_burn_price\",\"avg_burn_price\",\"avg_burn_price\",\"avg_burn_price\",\"avg_burn_price\",\"avg_burn_price\",\"avg_burn_price\",\"avg_burn_price\",\"avg_burn_price\",\"avg_burn_price\",\"avg_burn_price\",\"avg_burn_price\",\"avg_burn_price\",\"avg_burn_price\",\"avg_burn_price\",\"avg_burn_price\",\"avg_burn_price\",\"avg_burn_price\",\"avg_burn_price\",\"avg_burn_price\",\"avg_burn_price\",\"avg_burn_price\",\"avg_burn_price\",\"avg_burn_price\",\"avg_burn_price\",\"avg_burn_price\",\"avg_burn_price\",\"avg_burn_price\",\"avg_burn_price\",\"avg_burn_price\",\"avg_burn_price\",\"avg_burn_price\",\"avg_burn_price\",\"avg_burn_price\",\"avg_burn_price\",\"avg_burn_price\",\"avg_burn_price\",\"avg_burn_price\",\"avg_burn_price\",\"avg_burn_price\",\"avg_burn_price\",\"avg_burn_price\",\"avg_burn_price\",\"avg_burn_price\",\"avg_burn_price\",\"avg_burn_price\",\"avg_burn_price\",\"avg_burn_price\",\"avg_burn_price\",\"avg_burn_price\",\"avg_burn_price\",\"avg_burn_price\",\"avg_burn_price\",\"avg_burn_price\",\"avg_burn_price\",\"avg_burn_price\",\"avg_burn_price\",\"avg_burn_price\",\"avg_burn_price\",\"avg_burn_price\",\"avg_burn_price\",\"avg_burn_price\",\"avg_burn_price\",\"avg_burn_price\",\"avg_burn_price\",\"avg_burn_price\",\"avg_burn_price\",\"avg_burn_price\",\"avg_burn_price\",\"avg_burn_price\",\"avg_burn_price\",\"avg_burn_price\",\"avg_burn_price\",\"avg_burn_price\",\"avg_burn_price\",\"avg_burn_price\",\"avg_burn_price\",\"avg_burn_price\",\"avg_burn_price\",\"avg_burn_price\",\"avg_burn_price\",\"avg_burn_price\",\"avg_burn_price\",\"avg_burn_price\",\"avg_burn_price\",\"avg_burn_price\",\"avg_burn_price\",\"avg_burn_price\",\"avg_burn_price\",\"avg_burn_price\",\"avg_burn_price\",\"avg_burn_price\",\"avg_burn_price\",\"avg_burn_price\",\"avg_burn_price\",\"avg_burn_price\",\"avg_burn_price\",\"avg_burn_price\",\"avg_burn_price\",\"avg_burn_price\",\"avg_burn_price\",\"avg_burn_price\",\"avg_burn_price\",\"avg_burn_price\",\"avg_burn_price\",\"avg_burn_price\",\"avg_burn_price\",\"avg_burn_price\",\"avg_burn_price\",\"avg_burn_price\",\"avg_burn_price\",\"avg_burn_price\",\"avg_burn_price\",\"avg_burn_price\",\"avg_burn_price\",\"avg_burn_price\",\"avg_burn_price\",\"avg_burn_price\",\"avg_burn_price\",\"avg_burn_price\",\"avg_burn_price\",\"avg_burn_price\",\"avg_burn_price\",\"avg_burn_price\",\"avg_burn_price\",\"avg_burn_price\",\"avg_burn_price\",\"avg_burn_price\",\"avg_burn_price\",\"avg_burn_price\",\"avg_burn_price\",\"avg_burn_price\",\"avg_burn_price\",\"avg_burn_price\",\"avg_burn_price\",\"avg_burn_price\",\"avg_burn_price\",\"avg_burn_price\",\"avg_burn_price\",\"avg_burn_price\",\"avg_burn_price\",\"avg_burn_price\",\"avg_burn_price\",\"avg_burn_price\",\"avg_burn_price\",\"avg_burn_price\",\"avg_burn_price\",\"avg_burn_price\",\"avg_burn_price\",\"avg_burn_price\",\"avg_burn_price\",\"avg_burn_price\",\"avg_burn_price\",\"avg_burn_price\",\"avg_burn_price\",\"avg_burn_price\",\"avg_burn_price\",\"avg_burn_price\",\"avg_burn_price\",\"avg_burn_price\",\"avg_burn_price\",\"avg_burn_price\",\"avg_burn_price\",\"avg_burn_price\",\"avg_burn_price\",\"avg_burn_price\",\"avg_burn_price\",\"avg_burn_price\",\"avg_burn_price\",\"avg_burn_price\",\"avg_burn_price\",\"avg_burn_price\",\"avg_burn_price\",\"avg_burn_price\",\"avg_burn_price\",\"avg_burn_price\",\"avg_burn_price\",\"avg_burn_price\",\"avg_burn_price\",\"avg_burn_price\",\"avg_burn_price\",\"avg_burn_price\",\"avg_burn_price\",\"avg_burn_price\",\"avg_burn_price\",\"avg_burn_price\"],\"block_date\":{\"__ndarray__\":\"AADAg+jod0IAAIDpOul3QgAAQE+N6XdCAAAAtd/pd0IAAMAaMup3QgAAgICE6ndCAABA5tbqd0IAAABMKet3QgAAwLF763dCAACAF87rd0IAAEB9IOx3QgAAAONy7HdCAADASMXsd0IAAICuF+13QgAAQBRq7XdCAAAAerztd0IAAMDfDu53QgAAgEVh7ndCAABAq7Pud0IAAAARBu93QgAAwHZY73dCAACA3Krvd0IAAEBC/e93QgAAAKhP8HdCAADADaLwd0IAAIBz9PB3QgAAQNlG8XdCAAAAP5nxd0IAAMCk6/F3QgAAgAo+8ndCAABAcJDyd0IAAADW4vJ3QgAAwDs183dCAACAoYfzd0IAAEAH2vN3QgAAAG0s9HdCAADA0n70d0IAAIA40fR3QgAAQJ4j9XdCAAAABHb1d0IAAMBpyPV3QgAAgM8a9ndCAABANW32d0IAAACbv/Z3QgAAwAAS93dCAACAZmT3d0IAAEDMtvd3QgAAADIJ+HdCAADAl1v4d0IAAID9rfh3QgAAQGMA+XdCAAAAyVL5d0IAAMAupfl3QgAAgJT3+XdCAABA+kn6d0IAAABgnPp3QgAAwMXu+ndCAACAK0H7d0IAAECRk/t3QgAAAPfl+3dCAADAXDj8d0IAAIDCivx3QgAAQCjd/HdCAAAAji/9d0IAAMDzgf13QgAAgFnU/XdCAABAvyb+d0IAAAAlef53QgAAwIrL/ndCAACA8B3/d0IAAEBWcP93QgAAALzC/3dCAADAIRUAeEIAAICHZwB4QgAAQO25AHhCAAAAUwwBeEIAAMC4XgF4QgAAgB6xAXhCAABAhAMCeEIAAADqVQJ4QgAAwE+oAnhCAACAtfoCeEIAAEAbTQN4QgAAAIGfA3hCAADA5vEDeEIAAIBMRAR4QgAAQLKWBHhCAAAAGOkEeEIAAMB9OwV4QgAAgOONBXhCAABASeAFeEIAAACvMgZ4QgAAwBSFBnhCAACAetcGeEIAAEDgKQd4QgAAAEZ8B3hCAADAq84HeEIAAIARIQh4QgAAQHdzCHhCAAAA3cUIeEIAAMBCGAl4QgAAgKhqCXhCAABADr0JeEIAAAB0Dwp4QgAAwNlhCnhCAACAP7QKeEIAAEClBgt4QgAAAAtZC3hCAADAcKsLeEIAAIDW/Qt4QgAAQDxQDHhCAAAAoqIMeEIAAMAH9Qx4QgAAgG1HDXhCAABA05kNeEIAAAA57A14QgAAwJ4+DnhCAACABJEOeEIAAEBq4w54QgAAANA1D3hCAADANYgPeEIAAICb2g94QgAAQAEtEHhCAAAAZ38QeEIAAMDM0RB4QgAAgDIkEXhCAABAmHYReEIAAAD+yBF4QgAAwGMbEnhCAACAyW0SeEIAAEAvwBJ4QgAAAJUSE3hCAADA+mQTeEIAAIBgtxN4QgAAQMYJFHhCAAAALFwUeEIAAMCRrhR4QgAAgPcAFXhCAABAXVMVeEIAAADDpRV4QgAAwCj4FXhCAACAjkoWeEIAAED0nBZ4QgAAAFrvFnhCAADAv0EXeEIAAIAllBd4QgAAQIvmF3hCAAAA8TgYeEIAAMBWixh4QgAAgLzdGHhCAABAIjAZeEIAAACIghl4QgAAwO3UGXhCAACAUycaeEIAAEC5eRp4QgAAAB/MGnhCAADAhB4beEIAAIDqcBt4QgAAQFDDG3hCAAAAthUceEIAAMAbaBx4QgAAgIG6HHhCAABA5wwdeEIAAABNXx14QgAAwLKxHXhCAACAGAQeeEIAAEB+Vh54QgAAAOSoHnhCAADASfseeEIAAICvTR94QgAAQBWgH3hCAAAAe/IfeEIAAMDgRCB4QgAAgEaXIHhCAABArOkgeEIAAAASPCF4QgAAwHeOIXhCAACA3eAheEIAAEBDMyJ4QgAAAKmFInhCAADADtgieEIAAIB0KiN4QgAAQNp8I3hCAAAAQM8jeEIAAMClISR4QgAAgAt0JHhCAABAccYkeEIAAADXGCV4QgAAwDxrJXhCAACAor0leEIAAEAIECZ4QgAAAG5iJnhCAADA07QmeEIAAIA5Byd4QgAAQJ9ZJ3hCAAAABawneEIAAMBq/id4QgAAgNBQKHhCAABANqMoeEIAAACc9Sh4QgAAwAFIKXhCAACAZ5opeEIAAEDN7Cl4QgAAADM/KnhCAADAmJEqeEIAAID+4yp4QgAAQGQ2K3hCAAAAyogreEIAAMAv2yt4QgAAgJUtLHhCAABA+38seEIAAABh0ix4QgAAwMYkLXhCAACALHcteEIAAECSyS14QgAAAPgbLnhCAADAXW4ueEIAAIDDwC54QgAAQCkTL3hCAAAAj2UveEIAAMD0ty94QgAAgFoKMHhCAABAwFwweEIAAAAmrzB4QgAAwIsBMXhCAACA8VMxeEIAAEBXpjF4QgAAAL34MXhCAADAIksyeEIAAICInTJ4QgAAQO7vMnhCAAAAVEIzeEIAAMC5lDN4QgAAgB/nM3hCAABAhTk0eEIAAADrizR4QgAAwFDeNHhCAACAtjA1eEIAAEAcgzV4QgAAAILVNXhCAADA5yc2eEIAAIBNejZ4QgAAQLPMNnhCAAAAGR83eEIAAMB+cTd4QgAAgOTDN3hCAABAShY4eEIAAACwaDh4QgAAwBW7OHhCAACAew05eEIAAEDhXzl4QgAAAEeyOXhCAADArAQ6eEIAAIASVzp4QgAAQHipOnhCAAAA3vs6eEIAAMBDTjt4QgAAgKmgO3hCAABAD/M7eEIAAAB1RTx4QgAAwNqXPHhCAACAQOo8eEIAAECmPD14QgAAAAyPPXhCAADAceE9eEIAAIDXMz54QgAAQD2GPnhCAAAAo9g+eEIAAMAIKz94QgAAgG59P3hCAABA1M8/eEIAAAA6IkB4QgAAwJ90QHhCAACABcdAeEIAAEBrGUF4QgAAANFrQXhCAADANr5BeEIAAICcEEJ4QgAAQAJjQnhCAAAAaLVCeEIAAMDNB0N4QgAAgDNaQ3hCAABAmaxDeEIAAAD//kN4QgAAwGRRRHhCAACAyqNEeEIAAEAw9kR4QgAAAJZIRXhCAADA+5pFeEIAAIBh7UV4QgAAQMc/RnhCAAAALZJGeEIAAMCS5EZ4QgAAgPg2R3hCAABAXolHeEIAAADE20d4QgAAwCkuSHhCAACAj4BIeEIAAED10kh4QgAAAFslSXhCAADAwHdJeEIAAIAmykl4QgAAQIwcSnhCAAAA8m5KeEIAAMBXwUp4QgAAgL0TS3hCAABAI2ZLeEIAAACJuEt4QgAAwO4KTHhCAACAVF1MeEIAAEC6r0x4QgAAACACTXhCAADAhVRNeEIAAIDrpk14QgAAQFH5TXhCAAAAt0tOeEIAAMAcnk54QgAAgILwTnhCAABA6EJPeEIAAABOlU94QgAAwLPnT3hCAACAGTpQeEIAAEB/jFB4QgAAAOXeUHhCAADASjFReEIAAICwg1F4QgAAQBbWUXhCAAAAfChSeEIAAMDhelJ4QgAAgEfNUnhCAABArR9TeEIAAAATclN4QgAAwHjEU3hCAACA3hZUeEIAAEBEaVR4QgAAAKq7VHhCAADADw5VeEIAAIB1YFV4QgAAQNuyVXhCAAAAQQVWeEIAAMCmV1Z4QgAAgAyqVnhCAABAcvxWeEIAAADYTld4QgAAwD2hV3hCAACAo/NXeEIAAEAJRlh4QgAAAG+YWHhCAADA1OpYeEIAAIA6PVl4QgAAQKCPWXhCAAAABuJZeEIAAMBrNFp4QgAAgNGGWnhCAABAN9laeEIAAACdK1t4QgAAwAJ+W3hCAACAaNBbeEIAAEDOIlx4QgAAADR1XHhCAADAmcdceEIAAID/GV14QgAAQGVsXXhCAAAAy75deEIAAMAwEV54QgAAgJZjXnhCAABA/LVeeEIAAABiCF94QgAAwMdaX3hCAACALa1feEIAAECT/194QgAAAPlRYHhCAADAXqRgeEIAAIDE9mB4QgAAQCpJYXhCAAAAkJtheEIAAMD17WF4QgAAgFtAYnhCAABAwZJieEIAAAAn5WJ4QgAAwIw3Y3hCAACA8oljeEIAAEBY3GN4QgAAAL4uZHhCAADAI4FkeEIAAICJ02R4QgAAQO8lZXhCAAAAVXhleEIAAMC6ymV4QgAAgCAdZnhCAABAhm9meEIAAADswWZ4QgAAwFEUZ3hCAACAt2ZneEIAAEAduWd4QgAAAIMLaHhCAADA6F1oeEIAAIBOsGh4QgAAQLQCaXhCAAAAGlVpeEIAAMB/p2l4QgAAgOX5aXhCAABAS0xqeEIAAACxnmp4QgAAwBbxanhCAACAfENreEIAAEDilWt4QgAAAEjoa3hCAADArTpseEIAAIATjWx4QgAAQHnfbHhCAAAA3zFteEIAAMBEhG14QgAAgKrWbXhCAABAEClueEIAAAB2e254QgAAwNvNbnhCAACAQSBveEIAAECncm94QgAAAA3Fb3hCAADAchdweEIAAIDYaXB4QgAAQD68cHhCAAAApA5xeEIAAMAJYXF4QgAAgG+zcXhCAABA1QVyeEIAAAA7WHJ4QgAAwKCqcnhCAACABv1yeEIAAADSoXN4QgAAwDf0c3hCAACAnUZ0eEIAAEADmXR4QgAAAGnrdHhCAADAzj11eEIAAIA0kHV4QgAAQJridXhCAAAAADV2eEIAAMBlh3Z4QgAAgMvZdnhCAABAMSx3eEIAAACXfnd4QgAAwPzQd3hCAACAYiN4eEIAAEDIdXh4QgAAAC7IeHhCAADAkxp5eEI=\",\"dtype\":\"float64\",\"order\":\"little\",\"shape\":[448]},\"value\":{\"__ndarray__\":\"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\",\"dtype\":\"float64\",\"order\":\"little\",\"shape\":[448]}},\"selected\":{\"id\":\"1192\"},\"selection_policy\":{\"id\":\"1208\"}},\"id\":\"1191\",\"type\":\"ColumnDataSource\"},{\"attributes\":{\"coordinates\":null,\"data_source\":{\"id\":\"1191\"},\"glyph\":{\"id\":\"1194\"},\"group\":null,\"hover_glyph\":null,\"muted_glyph\":{\"id\":\"1196\"},\"nonselection_glyph\":{\"id\":\"1195\"},\"selection_glyph\":{\"id\":\"1224\"},\"view\":{\"id\":\"1198\"}},\"id\":\"1197\",\"type\":\"GlyphRenderer\"},{\"attributes\":{},\"id\":\"1159\",\"type\":\"Selection\"},{\"attributes\":{},\"id\":\"1141\",\"type\":\"WheelZoomTool\"},{\"attributes\":{\"overlay\":{\"id\":\"1144\"}},\"id\":\"1142\",\"type\":\"BoxZoomTool\"},{\"attributes\":{\"axis_label\":\"block_date\",\"coordinates\":null,\"formatter\":{\"id\":\"1153\"},\"group\":null,\"major_label_policy\":{\"id\":\"1154\"},\"ticker\":{\"id\":\"1132\"}},\"id\":\"1131\",\"type\":\"DatetimeAxis\"},{\"attributes\":{\"coordinates\":null,\"data_source\":{\"id\":\"1225\"},\"glyph\":{\"id\":\"1228\"},\"group\":null,\"hover_glyph\":null,\"muted_glyph\":{\"id\":\"1230\"},\"nonselection_glyph\":{\"id\":\"1229\"},\"selection_glyph\":{\"id\":\"1260\"},\"view\":{\"id\":\"1232\"}},\"id\":\"1231\",\"type\":\"GlyphRenderer\"},{\"attributes\":{\"num_minor_ticks\":5,\"tickers\":[{\"id\":\"1176\"},{\"id\":\"1177\"},{\"id\":\"1178\"},{\"id\":\"1179\"},{\"id\":\"1180\"},{\"id\":\"1181\"},{\"id\":\"1182\"},{\"id\":\"1183\"},{\"id\":\"1184\"},{\"id\":\"1185\"},{\"id\":\"1186\"},{\"id\":\"1187\"}]},\"id\":\"1132\",\"type\":\"DatetimeTicker\"},{\"attributes\":{},\"id\":\"1136\",\"type\":\"BasicTicker\"},{\"attributes\":{\"line_color\":\"#30a2da\",\"line_width\":2,\"x\":{\"field\":\"block_date\"},\"y\":{\"field\":\"value\"}},\"id\":\"1161\",\"type\":\"Line\"},{\"attributes\":{\"label\":{\"value\":\"avg_mint_price\"},\"renderers\":[{\"id\":\"1164\"}]},\"id\":\"1189\",\"type\":\"LegendItem\"},{\"attributes\":{},\"id\":\"1143\",\"type\":\"ResetTool\"},{\"attributes\":{\"line_color\":\"#30a2da\",\"line_width\":2,\"x\":{\"field\":\"block_date\"},\"y\":{\"field\":\"value\"}},\"id\":\"1190\",\"type\":\"Line\"},{\"attributes\":{\"coordinates\":null,\"group\":null,\"text\":\"TEC Price Chart\",\"text_color\":\"black\",\"text_font_size\":\"12pt\"},\"id\":\"1123\",\"type\":\"Title\"},{\"attributes\":{},\"id\":\"1192\",\"type\":\"Selection\"},{\"attributes\":{},\"id\":\"1156\",\"type\":\"BasicTickFormatter\"},{\"attributes\":{\"line_alpha\":0.1,\"line_color\":\"#30a2da\",\"line_width\":2,\"x\":{\"field\":\"block_date\"},\"y\":{\"field\":\"value\"}},\"id\":\"1162\",\"type\":\"Line\"},{\"attributes\":{},\"id\":\"1154\",\"type\":\"AllLabels\"},{\"attributes\":{\"data\":{\"Variable\":[\"avg_mkt_price\",\"avg_mkt_price\",\"avg_mkt_price\",\"avg_mkt_price\",\"avg_mkt_price\",\"avg_mkt_price\",\"avg_mkt_price\",\"avg_mkt_price\",\"avg_mkt_price\",\"avg_mkt_price\",\"avg_mkt_price\",\"avg_mkt_price\",\"avg_mkt_price\",\"avg_mkt_price\",\"avg_mkt_price\",\"avg_mkt_price\",\"avg_mkt_price\",\"avg_mkt_price\",\"avg_mkt_price\",\"avg_mkt_price\",\"avg_mkt_price\",\"avg_mkt_price\",\"avg_mkt_price\",\"avg_mkt_price\",\"avg_mkt_price\",\"avg_mkt_price\",\"avg_mkt_price\",\"avg_mkt_price\",\"avg_mkt_price\",\"avg_mkt_price\",\"avg_mkt_price\",\"avg_mkt_price\",\"avg_mkt_price\",\"avg_mkt_price\",\"avg_mkt_price\",\"avg_mkt_price\",\"avg_mkt_price\",\"avg_mkt_price\",\"avg_mkt_price\",\"avg_mkt_price\",\"avg_mkt_price\",\"avg_mkt_price\",\"avg_mkt_price\",\"avg_mkt_price\",\"avg_mkt_price\",\"avg_mkt_price\",\"avg_mkt_price\",\"avg_mkt_price\",\"avg_mkt_price\",\"avg_mkt_price\",\"avg_mkt_price\",\"avg_mkt_price\",\"avg_mkt_price\",\"avg_mkt_price\",\"avg_mkt_price\",\"avg_mkt_price\",\"avg_mkt_price\",\"avg_mkt_price\",\"avg_mkt_price\",\"avg_mkt_price\",\"avg_mkt_price\",\"avg_mkt_price\",\"avg_mkt_price\",\"avg_mkt_price\",\"avg_mkt_price\",\"avg_mkt_price\",\"avg_mkt_price\",\"avg_mkt_price\",\"avg_mkt_price\",\"avg_mkt_price\",\"avg_mkt_price\",\"avg_mkt_price\",\"avg_mkt_price\",\"avg_mkt_price\",\"avg_mkt_price\",\"avg_mkt_price\",\"avg_mkt_price\",\"avg_mkt_price\",\"avg_mkt_price\",\"avg_mkt_price\",\"avg_mkt_price\",\"avg_mkt_price\",\"avg_mkt_price\",\"avg_mkt_price\",\"avg_mkt_price\",\"avg_mkt_price\",\"avg_mkt_price\",\"avg_mkt_price\",\"avg_mkt_price\",\"avg_mkt_price\",\"avg_mkt_price\",\"avg_mkt_price\",\"avg_mkt_price\",\"avg_mkt_price\",\"avg_mkt_price\",\"avg_mkt_price\",\"avg_mkt_price\",\"avg_mkt_price\",\"avg_mkt_price\",\"avg_mkt_price\",\"avg_mkt_price\",\"avg_mkt_price\",\"avg_mkt_price\",\"avg_mkt_price\",\"avg_mkt_price\",\"avg_mkt_price\",\"avg_mkt_price\",\"avg_mkt_price\",\"avg_mkt_price\",\"avg_mkt_price\",\"avg_mkt_price\",\"avg_mkt_price\",\"avg_mkt_price\",\"avg_mkt_price\",\"avg_mkt_price\",\"avg_mkt_price\",\"avg_mkt_price\",\"avg_mkt_price\",\"avg_mkt_price\",\"avg_mkt_price\",\"avg_mkt_price\",\"avg_mkt_price\",\"avg_mkt_price\",\"avg_mkt_price\",\"avg_mkt_price\",\"avg_mkt_price\",\"avg_mkt_price\",\"avg_mkt_price\",\"avg_mkt_price\",\"avg_mkt_price\",\"avg_mkt_price\",\"avg_mkt_price\",\"avg_mkt_price\",\"avg_mkt_price\",\"avg_mkt_price\",\"avg_mkt_price\",\"avg_mkt_price\",\"avg_mkt_price\",\"avg_mkt_price\",\"avg_mkt_price\",\"avg_mkt_price\",\"avg_mkt_price\",\"avg_mkt_price\",\"avg_mkt_price\",\"avg_mkt_price\",\"avg_mkt_price\",\"avg_mkt_price\",\"avg_mkt_price\",\"avg_mkt_price\",\"avg_mkt_price\",\"avg_mkt_price\",\"avg_mkt_price\",\"avg_mkt_price\",\"avg_mkt_price\",\"avg_mkt_price\",\"avg_mkt_price\",\"avg_mkt_price\",\"avg_mkt_price\",\"avg_mkt_price\",\"avg_mkt_price\",\"avg_mkt_price\",\"avg_mkt_price\",\"avg_mkt_price\",\"avg_mkt_price\",\"avg_mkt_price\",\"avg_mkt_price\",\"avg_mkt_price\",\"avg_mkt_price\",\"avg_mkt_price\",\"avg_mkt_price\",\"avg_mkt_price\",\"avg_mkt_price\",\"avg_mkt_price\",\"avg_mkt_price\",\"avg_mkt_price\",\"avg_mkt_price\",\"avg_mkt_price\",\"avg_mkt_price\",\"avg_mkt_price\",\"avg_mkt_price\",\"avg_mkt_price\",\"avg_mkt_price\",\"avg_mkt_price\",\"avg_mkt_price\",\"avg_mkt_price\",\"avg_mkt_price\",\"avg_mkt_price\",\"avg_mkt_price\",\"avg_mkt_price\",\"avg_mkt_price\",\"avg_mkt_price\",\"avg_mkt_price\",\"avg_mkt_price\",\"avg_mkt_price\",\"avg_mkt_price\",\"avg_mkt_price\",\"avg_mkt_price\",\"avg_mkt_price\",\"avg_mkt_price\",\"avg_mkt_price\",\"avg_mkt_price\",\"avg_mkt_price\",\"avg_mkt_price\",\"avg_mkt_price\",\"avg_mkt_price\",\"avg_mkt_price\",\"avg_mkt_price\",\"avg_mkt_price\",\"avg_mkt_price\",\"avg_mkt_price\",\"avg_mkt_price\",\"avg_mkt_price\",\"avg_mkt_price\",\"avg_mkt_price\",\"avg_mkt_price\",\"avg_mkt_price\",\"avg_mkt_price\",\"avg_mkt_price\",\"avg_mkt_price\",\"avg_mkt_price\",\"avg_mkt_price\",\"avg_mkt_price\",\"avg_mkt_price\",\"avg_mkt_price\",\"avg_mkt_price\",\"avg_mkt_price\",\"avg_mkt_price\",\"avg_mkt_price\",\"avg_mkt_price\",\"avg_mkt_price\",\"avg_mkt_price\",\"avg_mkt_price\",\"avg_mkt_price\",\"avg_mkt_price\",\"avg_mkt_price\",\"avg_mkt_price\",\"avg_mkt_price\",\"avg_mkt_price\",\"avg_mkt_price\",\"avg_mkt_price\",\"avg_mkt_price\",\"avg_mkt_price\",\"avg_mkt_price\",\"avg_mkt_price\",\"avg_mkt_price\",\"avg_mkt_price\",\"avg_mkt_price\",\"avg_mkt_price\",\"avg_mkt_price\",\"avg_mkt_price\",\"avg_mkt_price\",\"avg_mkt_price\",\"avg_mkt_price\",\"avg_mkt_price\",\"avg_mkt_price\",\"avg_mkt_price\",\"avg_mkt_price\",\"avg_mkt_price\",\"avg_mkt_price\",\"avg_mkt_price\",\"avg_mkt_price\",\"avg_mkt_price\",\"avg_mkt_price\",\"avg_mkt_price\",\"avg_mkt_price\",\"avg_mkt_price\",\"avg_mkt_price\",\"avg_mkt_price\",\"avg_mkt_price\",\"avg_mkt_price\",\"avg_mkt_price\",\"avg_mkt_price\",\"avg_mkt_price\",\"avg_mkt_price\",\"avg_mkt_price\",\"avg_mkt_price\",\"avg_mkt_price\",\"avg_mkt_price\",\"avg_mkt_price\",\"avg_mkt_price\",\"avg_mkt_price\",\"avg_mkt_price\",\"avg_mkt_price\",\"avg_mkt_price\",\"avg_mkt_price\",\"avg_mkt_price\",\"avg_mkt_price\",\"avg_mkt_price\",\"avg_mkt_price\",\"avg_mkt_price\",\"avg_mkt_price\",\"avg_mkt_price\",\"avg_mkt_price\",\"avg_mkt_price\",\"avg_mkt_price\",\"avg_mkt_price\",\"avg_mkt_price\",\"avg_mkt_price\",\"avg_mkt_price\",\"avg_mkt_price\",\"avg_mkt_price\",\"avg_mkt_price\",\"avg_mkt_price\",\"avg_mkt_price\",\"avg_mkt_price\",\"avg_mkt_price\",\"avg_mkt_price\",\"avg_mkt_price\",\"avg_mkt_price\",\"avg_mkt_price\",\"avg_mkt_price\",\"avg_mkt_price\",\"avg_mkt_price\",\"avg_mkt_price\",\"avg_mkt_price\",\"avg_mkt_price\",\"avg_mkt_price\",\"avg_mkt_price\",\"avg_mkt_price\",\"avg_mkt_price\",\"avg_mkt_price\",\"avg_mkt_price\",\"avg_mkt_price\",\"avg_mkt_price\",\"avg_mkt_price\",\"avg_mkt_price\",\"avg_mkt_price\",\"avg_mkt_price\",\"avg_mkt_price\",\"avg_mkt_price\",\"avg_mkt_price\",\"avg_mkt_price\",\"avg_mkt_price\",\"avg_mkt_price\",\"avg_mkt_price\",\"avg_mkt_price\",\"avg_mkt_price\",\"avg_mkt_price\",\"avg_mkt_price\",\"avg_mkt_price\",\"avg_mkt_price\",\"avg_mkt_price\",\"avg_mkt_price\",\"avg_mkt_price\",\"avg_mkt_price\",\"avg_mkt_price\",\"avg_mkt_price\",\"avg_mkt_price\",\"avg_mkt_price\",\"avg_mkt_price\",\"avg_mkt_price\",\"avg_mkt_price\",\"avg_mkt_price\",\"avg_mkt_price\",\"avg_mkt_price\",\"avg_mkt_price\",\"avg_mkt_price\",\"avg_mkt_price\",\"avg_mkt_price\",\"avg_mkt_price\",\"avg_mkt_price\",\"avg_mkt_price\",\"avg_mkt_price\",\"avg_mkt_price\",\"avg_mkt_price\",\"avg_mkt_price\",\"avg_mkt_price\",\"avg_mkt_price\",\"avg_mkt_price\",\"avg_mkt_price\",\"avg_mkt_price\",\"avg_mkt_price\",\"avg_mkt_price\",\"avg_mkt_price\",\"avg_mkt_price\",\"avg_mkt_price\",\"avg_mkt_price\",\"avg_mkt_price\",\"avg_mkt_price\",\"avg_mkt_price\",\"avg_mkt_price\",\"avg_mkt_price\",\"avg_mkt_price\",\"avg_mkt_price\",\"avg_mkt_price\",\"avg_mkt_price\",\"avg_mkt_price\",\"avg_mkt_price\",\"avg_mkt_price\",\"avg_mkt_price\",\"avg_mkt_price\",\"avg_mkt_price\",\"avg_mkt_price\",\"avg_mkt_price\",\"avg_mkt_price\",\"avg_mkt_price\",\"avg_mkt_price\",\"avg_mkt_price\",\"avg_mkt_price\",\"avg_mkt_price\",\"avg_mkt_price\",\"avg_mkt_price\",\"avg_mkt_price\",\"avg_mkt_price\",\"avg_mkt_price\",\"avg_mkt_price\",\"avg_mkt_price\",\"avg_mkt_price\",\"avg_mkt_price\",\"avg_mkt_price\",\"avg_mkt_price\",\"avg_mkt_price\",\"avg_mkt_price\",\"avg_mkt_price\",\"avg_mkt_price\",\"avg_mkt_price\",\"avg_mkt_price\",\"avg_mkt_price\",\"avg_mkt_price\",\"avg_mkt_price\",\"avg_mkt_price\",\"avg_mkt_price\",\"avg_mkt_price\",\"avg_mkt_price\",\"avg_mkt_price\",\"avg_mkt_price\",\"avg_mkt_price\",\"avg_mkt_price\",\"avg_mkt_price\",\"avg_mkt_price\",\"avg_mkt_price\",\"avg_mkt_price\",\"avg_mkt_price\",\"avg_mkt_price\",\"avg_mkt_price\",\"avg_mkt_price\",\"avg_mkt_price\",\"avg_mkt_price\",\"avg_mkt_price\",\"avg_mkt_price\",\"avg_mkt_price\",\"avg_mkt_price\",\"avg_mkt_price\",\"avg_mkt_price\",\"avg_mkt_price\",\"avg_mkt_price\",\"avg_mkt_price\",\"avg_mkt_price\"],\"block_date\":{\"__ndarray__\":\"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\",\"dtype\":\"float64\",\"order\":\"little\",\"shape\":[448]},\"value\":{\"__ndarray__\":\"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\",\"dtype\":\"float64\",\"order\":\"little\",\"shape\":[448]}},\"selected\":{\"id\":\"1226\"},\"selection_policy\":{\"id\":\"1244\"}},\"id\":\"1225\",\"type\":\"ColumnDataSource\"},{\"attributes\":{\"mantissas\":[1,2,5],\"max_interval\":500.0,\"num_minor_ticks\":0},\"id\":\"1176\",\"type\":\"AdaptiveTicker\"},{\"attributes\":{},\"id\":\"1226\",\"type\":\"Selection\"},{\"attributes\":{\"callback\":null,\"formatters\":{\"@{block_date}\":\"datetime\"},\"renderers\":[{\"id\":\"1164\"},{\"id\":\"1197\"},{\"id\":\"1231\"}],\"tags\":[\"hv_created\"],\"tooltips\":[[\"Variable\",\"@{Variable}\"],[\"block_date\",\"@{block_date}{%F %T}\"],[\"value\",\"@{value}\"]]},\"id\":\"1119\",\"type\":\"HoverTool\"},{\"attributes\":{\"line_alpha\":0.2,\"line_color\":\"#30a2da\",\"line_width\":2,\"x\":{\"field\":\"block_date\"},\"y\":{\"field\":\"value\"}},\"id\":\"1163\",\"type\":\"Line\"},{\"attributes\":{\"base\":60,\"mantissas\":[1,2,5,10,15,20,30],\"max_interval\":1800000.0,\"min_interval\":1000.0,\"num_minor_ticks\":0},\"id\":\"1177\",\"type\":\"AdaptiveTicker\"},{\"attributes\":{\"months\":[0,1,2,3,4,5,6,7,8,9,10,11]},\"id\":\"1183\",\"type\":\"MonthsTicker\"},{\"attributes\":{\"below\":[{\"id\":\"1131\"}],\"center\":[{\"id\":\"1134\"},{\"id\":\"1138\"}],\"height\":300,\"left\":[{\"id\":\"1135\"}],\"margin\":[5,5,5,5],\"min_border_bottom\":10,\"min_border_left\":10,\"min_border_right\":10,\"min_border_top\":10,\"renderers\":[{\"id\":\"1164\"},{\"id\":\"1197\"},{\"id\":\"1231\"}],\"right\":[{\"id\":\"1188\"}],\"sizing_mode\":\"fixed\",\"title\":{\"id\":\"1123\"},\"toolbar\":{\"id\":\"1145\"},\"width\":700,\"x_range\":{\"id\":\"1117\"},\"x_scale\":{\"id\":\"1127\"},\"y_range\":{\"id\":\"1118\"},\"y_scale\":{\"id\":\"1129\"}},\"id\":\"1122\",\"subtype\":\"Figure\",\"type\":\"Plot\"},{\"attributes\":{\"days\":[1,8,15,22]},\"id\":\"1181\",\"type\":\"DaysTicker\"},{\"attributes\":{},\"id\":\"1187\",\"type\":\"YearsTicker\"},{\"attributes\":{\"base\":24,\"mantissas\":[1,2,4,6,8,12],\"max_interval\":43200000.0,\"min_interval\":3600000.0,\"num_minor_ticks\":0},\"id\":\"1178\",\"type\":\"AdaptiveTicker\"},{\"attributes\":{\"source\":{\"id\":\"1158\"}},\"id\":\"1165\",\"type\":\"CDSView\"},{\"attributes\":{},\"id\":\"1208\",\"type\":\"UnionRenderers\"},{\"attributes\":{\"days\":[1,2,3,4,5,6,7,8,9,10,11,12,13,14,15,16,17,18,19,20,21,22,23,24,25,26,27,28,29,30,31]},\"id\":\"1179\",\"type\":\"DaysTicker\"},{\"attributes\":{},\"id\":\"1139\",\"type\":\"SaveTool\"},{\"attributes\":{\"days\":[1,4,7,10,13,16,19,22,25,28]},\"id\":\"1180\",\"type\":\"DaysTicker\"}],\"root_ids\":[\"1116\"]},\"title\":\"Bokeh Application\",\"version\":\"2.4.3\"}};\n",
       "    var render_items = [{\"docid\":\"1f399bbb-f85c-4422-941b-b7dcded8b441\",\"root_ids\":[\"1116\"],\"roots\":{\"1116\":\"6450fee9-e1ba-467a-806b-71e894bbb639\"}}];\n",
       "    root.Bokeh.embed.embed_items_notebook(docs_json, render_items);\n",
       "    for (const render_item of render_items) {\n",
       "      for (const root_id of render_item.root_ids) {\n",
       "\tconst id_el = document.getElementById(root_id)\n",
       "\tif (id_el.children.length && (id_el.children[0].className === 'bk-root')) {\n",
       "\t  const root_el = id_el.children[0]\n",
       "\t  root_el.id = root_el.id + '-rendered'\n",
       "\t}\n",
       "      }\n",
       "    }\n",
       "  }\n",
       "  if (root.Bokeh !== undefined && root.Bokeh.Panel !== undefined) {\n",
       "    embed_document(root);\n",
       "  } else {\n",
       "    var attempts = 0;\n",
       "    var timer = setInterval(function(root) {\n",
       "      if (root.Bokeh !== undefined && root.Bokeh.Panel !== undefined) {\n",
       "        clearInterval(timer);\n",
       "        embed_document(root);\n",
       "      } else if (document.readyState == \"complete\") {\n",
       "        attempts++;\n",
       "        if (attempts > 200) {\n",
       "          clearInterval(timer);\n",
       "          console.log(\"Bokeh: ERROR: Unable to run BokehJS code because BokehJS library is missing\");\n",
       "        }\n",
       "      }\n",
       "    }, 25, root)\n",
       "  }\n",
       "})(window);</script>"
      ],
      "text/plain": [
       ":NdOverlay   [Variable]\n",
       "   :Curve   [block_date]   (value)"
      ]
     },
     "execution_count": null,
     "metadata": {
      "application/vnd.holoviews_exec.v0+json": {
       "id": "1116"
      }
     },
     "output_type": "execute_result"
    }
   ],
   "source": [
    "price_chart_view = price_chart.hvplot.line(y=['avg_mint_price', 'avg_burn_price', 'avg_mkt_price'], x='block_date', title=\"TEC Price Chart\")\n",
    "price_chart_view"
   ]
  },
  {
   "cell_type": "code",
   "execution_count": null,
   "id": "c6d35fc9-2335-4ba6-8bf9-29799751949d",
   "metadata": {},
   "outputs": [
    {
     "data": {
      "text/plain": [
       "total_holders    542.0\n",
       "Name: 0, dtype: float64"
      ]
     },
     "execution_count": null,
     "metadata": {},
     "output_type": "execute_result"
    }
   ],
   "source": [
    "tec.market_information.holders_and_supply().iloc[:1]"
   ]
  },
  {
   "cell_type": "code",
   "execution_count": null,
   "id": "4b510a0b-cfb3-41ac-bf41-5f02ae4c22fb",
   "metadata": {},
   "outputs": [
    {
     "data": {
      "text/html": [
       "<div>\n",
       "<style scoped>\n",
       "    .dataframe tbody tr th:only-of-type {\n",
       "        vertical-align: middle;\n",
       "    }\n",
       "\n",
       "    .dataframe tbody tr th {\n",
       "        vertical-align: top;\n",
       "    }\n",
       "\n",
       "    .dataframe thead th {\n",
       "        text-align: right;\n",
       "    }\n",
       "</style>\n",
       "<table border=\"1\" class=\"dataframe\">\n",
       "  <thead>\n",
       "    <tr style=\"text-align: right;\">\n",
       "      <th></th>\n",
       "      <th>Date</th>\n",
       "      <th>Holders</th>\n",
       "      <th>Changes</th>\n",
       "    </tr>\n",
       "  </thead>\n",
       "  <tbody>\n",
       "    <tr>\n",
       "      <th>0</th>\n",
       "      <td>2022-01-13 00:00:00+00:00</td>\n",
       "      <td>4</td>\n",
       "      <td>0</td>\n",
       "    </tr>\n",
       "    <tr>\n",
       "      <th>1</th>\n",
       "      <td>2022-01-14 00:00:00+00:00</td>\n",
       "      <td>4</td>\n",
       "      <td>0</td>\n",
       "    </tr>\n",
       "    <tr>\n",
       "      <th>2</th>\n",
       "      <td>2022-01-15 00:00:00+00:00</td>\n",
       "      <td>5</td>\n",
       "      <td>1</td>\n",
       "    </tr>\n",
       "    <tr>\n",
       "      <th>3</th>\n",
       "      <td>2022-01-16 00:00:00+00:00</td>\n",
       "      <td>5</td>\n",
       "      <td>0</td>\n",
       "    </tr>\n",
       "    <tr>\n",
       "      <th>4</th>\n",
       "      <td>2022-01-17 00:00:00+00:00</td>\n",
       "      <td>5</td>\n",
       "      <td>0</td>\n",
       "    </tr>\n",
       "    <tr>\n",
       "      <th>...</th>\n",
       "      <td>...</td>\n",
       "      <td>...</td>\n",
       "      <td>...</td>\n",
       "    </tr>\n",
       "    <tr>\n",
       "      <th>349</th>\n",
       "      <td>2022-12-28 00:00:00+00:00</td>\n",
       "      <td>529</td>\n",
       "      <td>-1</td>\n",
       "    </tr>\n",
       "    <tr>\n",
       "      <th>350</th>\n",
       "      <td>2022-12-29 00:00:00+00:00</td>\n",
       "      <td>529</td>\n",
       "      <td>0</td>\n",
       "    </tr>\n",
       "    <tr>\n",
       "      <th>351</th>\n",
       "      <td>2022-12-30 00:00:00+00:00</td>\n",
       "      <td>529</td>\n",
       "      <td>0</td>\n",
       "    </tr>\n",
       "    <tr>\n",
       "      <th>352</th>\n",
       "      <td>2022-12-31 00:00:00+00:00</td>\n",
       "      <td>529</td>\n",
       "      <td>0</td>\n",
       "    </tr>\n",
       "    <tr>\n",
       "      <th>353</th>\n",
       "      <td>2023-01-01 00:00:00+00:00</td>\n",
       "      <td>529</td>\n",
       "      <td>0</td>\n",
       "    </tr>\n",
       "  </tbody>\n",
       "</table>\n",
       "<p>354 rows × 3 columns</p>\n",
       "</div>"
      ],
      "text/plain": [
       "                         Date  Holders  Changes\n",
       "0   2022-01-13 00:00:00+00:00        4        0\n",
       "1   2022-01-14 00:00:00+00:00        4        0\n",
       "2   2022-01-15 00:00:00+00:00        5        1\n",
       "3   2022-01-16 00:00:00+00:00        5        0\n",
       "4   2022-01-17 00:00:00+00:00        5        0\n",
       "..                        ...      ...      ...\n",
       "349 2022-12-28 00:00:00+00:00      529       -1\n",
       "350 2022-12-29 00:00:00+00:00      529        0\n",
       "351 2022-12-30 00:00:00+00:00      529        0\n",
       "352 2022-12-31 00:00:00+00:00      529        0\n",
       "353 2023-01-01 00:00:00+00:00      529        0\n",
       "\n",
       "[354 rows x 3 columns]"
      ]
     },
     "execution_count": null,
     "metadata": {},
     "output_type": "execute_result"
    }
   ],
   "source": [
    "holders_over_time = tec.market_information.holders_over_time()\n",
    "holders_over_time['Date'] = pd.to_datetime(holders_over_time['Date'])\n",
    "holders_over_time"
   ]
  },
  {
   "cell_type": "code",
   "execution_count": null,
   "id": "67ff2fb6-4410-4a11-99de-7b187993500b",
   "metadata": {},
   "outputs": [
    {
     "data": {},
     "metadata": {},
     "output_type": "display_data"
    },
    {
     "data": {
      "application/vnd.holoviews_exec.v0+json": "",
      "text/html": [
       "<div id='1422'>\n",
       "  <div class=\"bk-root\" id=\"8c1918d2-9358-4876-b9ab-462efedb3bbc\" data-root-id=\"1422\"></div>\n",
       "</div>\n",
       "<script type=\"application/javascript\">(function(root) {\n",
       "  function embed_document(root) {\n",
       "    var docs_json = {\"a953a070-9ba7-42f3-9f44-fb424846483c\":{\"defs\":[{\"extends\":null,\"module\":null,\"name\":\"ReactiveHTML1\",\"overrides\":[],\"properties\":[]},{\"extends\":null,\"module\":null,\"name\":\"FlexBox1\",\"overrides\":[],\"properties\":[{\"default\":\"flex-start\",\"kind\":null,\"name\":\"align_content\"},{\"default\":\"flex-start\",\"kind\":null,\"name\":\"align_items\"},{\"default\":\"row\",\"kind\":null,\"name\":\"flex_direction\"},{\"default\":\"wrap\",\"kind\":null,\"name\":\"flex_wrap\"},{\"default\":\"flex-start\",\"kind\":null,\"name\":\"justify_content\"}]},{\"extends\":null,\"module\":null,\"name\":\"GridStack1\",\"overrides\":[],\"properties\":[{\"default\":\"warn\",\"kind\":null,\"name\":\"mode\"},{\"default\":null,\"kind\":null,\"name\":\"ncols\"},{\"default\":null,\"kind\":null,\"name\":\"nrows\"},{\"default\":true,\"kind\":null,\"name\":\"allow_resize\"},{\"default\":true,\"kind\":null,\"name\":\"allow_drag\"},{\"default\":[],\"kind\":null,\"name\":\"state\"}]},{\"extends\":null,\"module\":null,\"name\":\"click1\",\"overrides\":[],\"properties\":[{\"default\":\"\",\"kind\":null,\"name\":\"terminal_output\"},{\"default\":\"\",\"kind\":null,\"name\":\"debug_name\"},{\"default\":0,\"kind\":null,\"name\":\"clears\"}]},{\"extends\":null,\"module\":null,\"name\":\"NotificationAreaBase1\",\"overrides\":[],\"properties\":[{\"default\":\"bottom-right\",\"kind\":null,\"name\":\"position\"},{\"default\":0,\"kind\":null,\"name\":\"_clear\"}]},{\"extends\":null,\"module\":null,\"name\":\"NotificationArea1\",\"overrides\":[],\"properties\":[{\"default\":[],\"kind\":null,\"name\":\"notifications\"},{\"default\":\"bottom-right\",\"kind\":null,\"name\":\"position\"},{\"default\":0,\"kind\":null,\"name\":\"_clear\"},{\"default\":[{\"background\":\"#ffc107\",\"icon\":{\"className\":\"fas fa-exclamation-triangle\",\"color\":\"white\",\"tagName\":\"i\"},\"type\":\"warning\"},{\"background\":\"#007bff\",\"icon\":{\"className\":\"fas fa-info-circle\",\"color\":\"white\",\"tagName\":\"i\"},\"type\":\"info\"}],\"kind\":null,\"name\":\"types\"}]},{\"extends\":null,\"module\":null,\"name\":\"Notification\",\"overrides\":[],\"properties\":[{\"default\":null,\"kind\":null,\"name\":\"background\"},{\"default\":3000,\"kind\":null,\"name\":\"duration\"},{\"default\":null,\"kind\":null,\"name\":\"icon\"},{\"default\":\"\",\"kind\":null,\"name\":\"message\"},{\"default\":null,\"kind\":null,\"name\":\"notification_type\"},{\"default\":false,\"kind\":null,\"name\":\"_destroyed\"}]},{\"extends\":null,\"module\":null,\"name\":\"TemplateActions1\",\"overrides\":[],\"properties\":[{\"default\":0,\"kind\":null,\"name\":\"open_modal\"},{\"default\":0,\"kind\":null,\"name\":\"close_modal\"}]},{\"extends\":null,\"module\":null,\"name\":\"MaterialTemplateActions1\",\"overrides\":[],\"properties\":[{\"default\":0,\"kind\":null,\"name\":\"open_modal\"},{\"default\":0,\"kind\":null,\"name\":\"close_modal\"}]}],\"roots\":{\"references\":[{\"attributes\":{\"months\":[0,4,8]},\"id\":\"1494\",\"type\":\"MonthsTicker\"},{\"attributes\":{},\"id\":\"1470\",\"type\":\"AllLabels\"},{\"attributes\":{\"source\":{\"id\":\"1456\"}},\"id\":\"1463\",\"type\":\"CDSView\"},{\"attributes\":{\"data\":{\"Date\":{\"__ndarray__\":\"AADAvgvld0IAAIAkXuV3QgAAQIqw5XdCAAAA8ALmd0IAAMBVVeZ3QgAAgLun5ndCAABAIfrmd0IAAACHTOd3QgAAwOye53dCAACAUvHnd0IAAEC4Q+h3QgAAAB6W6HdCAADAg+jod0IAAIDpOul3QgAAQE+N6XdCAAAAtd/pd0IAAMAaMup3QgAAgICE6ndCAABA5tbqd0IAAABMKet3QgAAwLF763dCAACAF87rd0IAAEB9IOx3QgAAAONy7HdCAADASMXsd0IAAICuF+13QgAAQBRq7XdCAAAAerztd0IAAMDfDu53QgAAgEVh7ndCAABAq7Pud0IAAAARBu93QgAAwHZY73dCAACA3Krvd0IAAEBC/e93QgAAAKhP8HdCAADADaLwd0IAAIBz9PB3QgAAQNlG8XdCAAAAP5nxd0IAAMCk6/F3QgAAgAo+8ndCAABAcJDyd0IAAADW4vJ3QgAAwDs183dCAACAoYfzd0IAAEAH2vN3QgAAAG0s9HdCAADA0n70d0IAAIA40fR3QgAAQJ4j9XdCAAAABHb1d0IAAMBpyPV3QgAAgM8a9ndCAABANW32d0IAAACbv/Z3QgAAwAAS93dCAACAZmT3d0IAAEDMtvd3QgAAADIJ+HdCAADAl1v4d0IAAID9rfh3QgAAQGMA+XdCAAAAyVL5d0IAAMAupfl3QgAAgJT3+XdCAABA+kn6d0IAAABgnPp3QgAAwMXu+ndCAACAK0H7d0IAAECRk/t3QgAAAPfl+3dCAADAXDj8d0IAAIDCivx3QgAAQCjd/HdCAAAAji/9d0IAAMDzgf13QgAAgFnU/XdCAABAvyb+d0IAAAAlef53QgAAwIrL/ndCAACA8B3/d0IAAEBWcP93QgAAALzC/3dCAADAIRUAeEIAAICHZwB4QgAAQO25AHhCAAAAUwwBeEIAAMC4XgF4QgAAgB6xAXhCAABAhAMCeEIAAADqVQJ4QgAAwE+oAnhCAACAtfoCeEIAAEAbTQN4QgAAAIGfA3hCAADA5vEDeEIAAIBMRAR4QgAAQLKWBHhCAAAAGOkEeEIAAMB9OwV4QgAAgOONBXhCAABASeAFeEIAAACvMgZ4QgAAwBSFBnhCAACAetcGeEIAAEDgKQd4QgAAAEZ8B3hCAADAq84HeEIAAIARIQh4QgAAQHdzCHhCAAAA3cUIeEIAAMBCGAl4QgAAgKhqCXhCAABADr0JeEIAAAB0Dwp4QgAAwNlhCnhCAACAP7QKeEIAAEClBgt4QgAAAAtZC3hCAADAcKsLeEIAAIDW/Qt4QgAAQDxQDHhCAAAAoqIMeEIAAMAH9Qx4QgAAgG1HDXhCAABA05kNeEIAAAA57A14QgAAwJ4+DnhCAACABJEOeEIAAEBq4w54QgAAANA1D3hCAADANYgPeEIAAICb2g94QgAAQAEtEHhCAAAAZ38QeEIAAMDM0RB4QgAAgDIkEXhCAABAmHYReEIAAAD+yBF4QgAAwGMbEnhCAACAyW0SeEIAAEAvwBJ4QgAAAJUSE3hCAADA+mQTeEIAAIBgtxN4QgAAQMYJFHhCAAAALFwUeEIAAMCRrhR4QgAAgPcAFXhCAABAXVMVeEIAAADDpRV4QgAAwCj4FXhCAACAjkoWeEIAAED0nBZ4QgAAAFrvFnhCAADAv0EXeEIAAIAllBd4QgAAQIvmF3hCAAAA8TgYeEIAAMBWixh4QgAAgLzdGHhCAABAIjAZeEIAAACIghl4QgAAwO3UGXhCAACAUycaeEIAAEC5eRp4QgAAAB/MGnhCAADAhB4beEIAAIDqcBt4QgAAQFDDG3hCAAAAthUceEIAAMAbaBx4QgAAgIG6HHhCAABA5wwdeEIAAABNXx14QgAAwLKxHXhCAACAGAQeeEIAAEB+Vh54QgAAAOSoHnhCAADASfseeEIAAICvTR94QgAAQBWgH3hCAAAAe/IfeEIAAMDgRCB4QgAAgEaXIHhCAABArOkgeEIAAAASPCF4QgAAwHeOIXhCAACA3eAheEIAAEBDMyJ4QgAAAKmFInhCAADADtgieEIAAIB0KiN4QgAAQNp8I3hCAAAAQM8jeEIAAMClISR4QgAAgAt0JHhCAABAccYkeEIAAADXGCV4QgAAwDxrJXhCAACAor0leEIAAEAIECZ4QgAAAG5iJnhCAADA07QmeEIAAIA5Byd4QgAAQJ9ZJ3hCAAAABawneEIAAMBq/id4QgAAgNBQKHhCAABANqMoeEIAAACc9Sh4QgAAwAFIKXhCAACAZ5opeEIAAEDN7Cl4QgAAADM/KnhCAADAmJEqeEIAAID+4yp4QgAAQGQ2K3hCAAAAyogreEIAAMAv2yt4QgAAgJUtLHhCAABA+38seEIAAABh0ix4QgAAwMYkLXhCAACALHcteEIAAECSyS14QgAAAPgbLnhCAADAXW4ueEIAAIDDwC54QgAAQCkTL3hCAAAAj2UveEIAAMD0ty94QgAAgFoKMHhCAABAwFwweEIAAAAmrzB4QgAAwIsBMXhCAACA8VMxeEIAAEBXpjF4QgAAAL34MXhCAADAIksyeEIAAICInTJ4QgAAQO7vMnhCAAAAVEIzeEIAAMC5lDN4QgAAgB/nM3hCAABAhTk0eEIAAADrizR4QgAAwFDeNHhCAACAtjA1eEIAAEAcgzV4QgAAAILVNXhCAADA5yc2eEIAAIBNejZ4QgAAQLPMNnhCAAAAGR83eEIAAMB+cTd4QgAAgOTDN3hCAABAShY4eEIAAACwaDh4QgAAwBW7OHhCAACAew05eEIAAEDhXzl4QgAAAEeyOXhCAADArAQ6eEIAAIASVzp4QgAAQHipOnhCAAAA3vs6eEIAAMBDTjt4QgAAgKmgO3hCAABAD/M7eEIAAAB1RTx4QgAAwNqXPHhCAACAQOo8eEIAAECmPD14QgAAAAyPPXhCAADAceE9eEIAAIDXMz54QgAAQD2GPnhCAAAAo9g+eEIAAMAIKz94QgAAgG59P3hCAABA1M8/eEIAAAA6IkB4QgAAwJ90QHhCAACABcdAeEIAAEBrGUF4QgAAANFrQXhCAADANr5BeEIAAICcEEJ4QgAAQAJjQnhCAAAAaLVCeEIAAMDNB0N4QgAAgDNaQ3hCAABAmaxDeEIAAAD//kN4QgAAwGRRRHhCAACAyqNEeEIAAEAw9kR4QgAAAJZIRXhCAADA+5pFeEIAAIBh7UV4QgAAQMc/RnhCAAAALZJGeEIAAMCS5EZ4QgAAgPg2R3hCAABAXolHeEIAAADE20d4QgAAwCkuSHhCAACAj4BIeEIAAED10kh4QgAAAFslSXhCAADAwHdJeEIAAIAmykl4QgAAQIwcSnhCAAAA8m5KeEIAAMBXwUp4QgAAgL0TS3hCAABAI2ZLeEIAAACJuEt4QgAAwO4KTHhCAACAVF1MeEIAAEC6r0x4QgAAACACTXhCAADAhVRNeEIAAIDrpk14QgAAQFH5TXhCAAAAt0tOeEIAAMAcnk54QgAAgILwTnhCAABA6EJPeEIAAABOlU94QgAAwLPnT3hCAACAGTpQeEIAAEB/jFB4QgAAAOXeUHhCAADASjFReEIAAICwg1F4QgAAQBbWUXhCAAAAfChSeEIAAMDhelJ4QgAAgEfNUnhCAABArR9TeEIAAAATclN4QgAAwHjEU3hCAACA3hZUeEIAAEBEaVR4QgAAAKq7VHhCAADADw5VeEIAAIB1YFV4QgAAQNuyVXhCAAAAQQVWeEIAAMCmV1Z4QgAAgAyqVnhC\",\"dtype\":\"float64\",\"order\":\"little\",\"shape\":[354]},\"Holders\":[4,4,5,5,5,5,277,277,280,280,280,280,338,362,368,369,374,375,375,375,375,375,376,377,380,380,382,382,383,383,384,384,384,384,384,385,386,386,386,386,387,387,388,388,388,386,386,386,387,387,387,387,387,388,389,389,390,391,391,391,393,393,394,395,395,395,395,395,394,394,394,394,394,394,394,394,394,394,394,394,394,394,394,395,396,395,395,396,396,398,398,397,397,397,397,399,398,398,398,397,397,397,397,397,397,405,405,405,405,407,407,407,409,409,409,409,411,414,415,417,429,428,429,429,429,429,430,429,427,426,426,427,435,438,438,438,438,438,437,445,451,451,451,451,451,451,451,451,451,451,451,452,457,458,457,457,457,457,457,457,457,459,464,464,463,462,462,462,462,462,462,463,463,463,463,464,470,473,473,473,473,473,472,477,477,477,477,475,475,475,475,475,475,476,477,477,488,488,488,488,488,488,488,488,487,487,487,487,487,496,496,496,497,497,497,496,496,496,498,497,498,498,498,499,499,499,499,499,499,498,498,497,497,497,497,497,497,498,498,497,497,497,497,497,498,498,498,498,498,498,498,499,499,499,499,499,499,513,513,513,513,513,513,514,513,512,512,512,512,512,512,512,512,512,512,512,512,513,520,520,522,522,520,520,524,523,523,525,525,526,525,525,525,525,525,525,525,525,524,524,524,524,524,524,524,526,526,527,528,528,528,528,528,531,531,530,530,530,530,531,531,531,531,531,531,531,531,531,531,531,531,531,531,530,531,531,531,530,530,530,530,530,530,530,530,530,530,530,530,529,529,529,529,529]},\"selected\":{\"id\":\"1457\"},\"selection_policy\":{\"id\":\"1482\"}},\"id\":\"1456\",\"type\":\"ColumnDataSource\"},{\"attributes\":{},\"id\":\"1467\",\"type\":\"AllLabels\"},{\"attributes\":{\"end\":1672531200000.0,\"reset_end\":1672531200000.0,\"reset_start\":1642032000000.0,\"start\":1642032000000.0,\"tags\":[[[\"Date\",\"Date\",null]]]},\"id\":\"1423\",\"type\":\"Range1d\"},{\"attributes\":{\"days\":[1,15]},\"id\":\"1491\",\"type\":\"DaysTicker\"},{\"attributes\":{\"line_color\":\"#30a2da\",\"line_width\":2,\"x\":{\"field\":\"Date\"},\"y\":{\"field\":\"Holders\"}},\"id\":\"1464\",\"type\":\"Line\"},{\"attributes\":{\"below\":[{\"id\":\"1435\"}],\"center\":[{\"id\":\"1438\"},{\"id\":\"1442\"}],\"height\":300,\"left\":[{\"id\":\"1439\"}],\"margin\":[5,5,5,5],\"min_border_bottom\":10,\"min_border_left\":10,\"min_border_right\":10,\"min_border_top\":10,\"renderers\":[{\"id\":\"1462\"}],\"sizing_mode\":\"fixed\",\"title\":{\"id\":\"1427\"},\"toolbar\":{\"id\":\"1449\"},\"width\":700,\"x_range\":{\"id\":\"1423\"},\"x_scale\":{\"id\":\"1431\"},\"y_range\":{\"id\":\"1424\"},\"y_scale\":{\"id\":\"1433\"}},\"id\":\"1426\",\"subtype\":\"Figure\",\"type\":\"Plot\"},{\"attributes\":{\"base\":24,\"mantissas\":[1,2,4,6,8,12],\"max_interval\":43200000.0,\"min_interval\":3600000.0,\"num_minor_ticks\":0},\"id\":\"1487\",\"type\":\"AdaptiveTicker\"},{\"attributes\":{},\"id\":\"1496\",\"type\":\"YearsTicker\"},{\"attributes\":{\"children\":[{\"id\":\"1426\"}],\"height\":300,\"margin\":[0,0,0,0],\"name\":\"Row01169\",\"sizing_mode\":\"fixed\",\"tags\":[\"embedded\"],\"width\":700},\"id\":\"1422\",\"type\":\"Row\"},{\"attributes\":{\"line_color\":\"#30a2da\",\"line_width\":2,\"x\":{\"field\":\"Date\"},\"y\":{\"field\":\"Holders\"}},\"id\":\"1459\",\"type\":\"Line\"},{\"attributes\":{},\"id\":\"1431\",\"type\":\"LinearScale\"},{\"attributes\":{\"active_drag\":{\"id\":\"1444\"},\"active_scroll\":{\"id\":\"1445\"},\"tools\":[{\"id\":\"1425\"},{\"id\":\"1443\"},{\"id\":\"1444\"},{\"id\":\"1445\"},{\"id\":\"1446\"},{\"id\":\"1447\"}]},\"id\":\"1449\",\"type\":\"Toolbar\"},{\"attributes\":{},\"id\":\"1466\",\"type\":\"DatetimeTickFormatter\"},{\"attributes\":{},\"id\":\"1444\",\"type\":\"PanTool\"},{\"attributes\":{\"months\":[0,6]},\"id\":\"1495\",\"type\":\"MonthsTicker\"},{\"attributes\":{\"axis\":{\"id\":\"1439\"},\"coordinates\":null,\"dimension\":1,\"grid_line_color\":null,\"group\":null,\"ticker\":null},\"id\":\"1442\",\"type\":\"Grid\"},{\"attributes\":{\"months\":[0,1,2,3,4,5,6,7,8,9,10,11]},\"id\":\"1492\",\"type\":\"MonthsTicker\"},{\"attributes\":{},\"id\":\"1440\",\"type\":\"BasicTicker\"},{\"attributes\":{},\"id\":\"1445\",\"type\":\"WheelZoomTool\"},{\"attributes\":{\"line_alpha\":0.2,\"line_color\":\"#30a2da\",\"line_width\":2,\"x\":{\"field\":\"Date\"},\"y\":{\"field\":\"Holders\"}},\"id\":\"1461\",\"type\":\"Line\"},{\"attributes\":{\"end\":583.7,\"reset_end\":583.7,\"reset_start\":-48.7,\"start\":-48.7,\"tags\":[[[\"Holders\",\"Holders\",null]]]},\"id\":\"1424\",\"type\":\"Range1d\"},{\"attributes\":{},\"id\":\"1443\",\"type\":\"SaveTool\"},{\"attributes\":{\"base\":60,\"mantissas\":[1,2,5,10,15,20,30],\"max_interval\":1800000.0,\"min_interval\":1000.0,\"num_minor_ticks\":0},\"id\":\"1486\",\"type\":\"AdaptiveTicker\"},{\"attributes\":{\"line_alpha\":0.1,\"line_color\":\"#30a2da\",\"line_width\":2,\"x\":{\"field\":\"Date\"},\"y\":{\"field\":\"Holders\"}},\"id\":\"1460\",\"type\":\"Line\"},{\"attributes\":{\"days\":[1,8,15,22]},\"id\":\"1490\",\"type\":\"DaysTicker\"},{\"attributes\":{\"overlay\":{\"id\":\"1448\"}},\"id\":\"1446\",\"type\":\"BoxZoomTool\"},{\"attributes\":{},\"id\":\"1469\",\"type\":\"BasicTickFormatter\"},{\"attributes\":{\"coordinates\":null,\"data_source\":{\"id\":\"1456\"},\"glyph\":{\"id\":\"1459\"},\"group\":null,\"hover_glyph\":null,\"muted_glyph\":{\"id\":\"1461\"},\"nonselection_glyph\":{\"id\":\"1460\"},\"selection_glyph\":{\"id\":\"1464\"},\"view\":{\"id\":\"1463\"}},\"id\":\"1462\",\"type\":\"GlyphRenderer\"},{\"attributes\":{},\"id\":\"1447\",\"type\":\"ResetTool\"},{\"attributes\":{\"num_minor_ticks\":5,\"tickers\":[{\"id\":\"1485\"},{\"id\":\"1486\"},{\"id\":\"1487\"},{\"id\":\"1488\"},{\"id\":\"1489\"},{\"id\":\"1490\"},{\"id\":\"1491\"},{\"id\":\"1492\"},{\"id\":\"1493\"},{\"id\":\"1494\"},{\"id\":\"1495\"},{\"id\":\"1496\"}]},\"id\":\"1436\",\"type\":\"DatetimeTicker\"},{\"attributes\":{\"days\":[1,2,3,4,5,6,7,8,9,10,11,12,13,14,15,16,17,18,19,20,21,22,23,24,25,26,27,28,29,30,31]},\"id\":\"1488\",\"type\":\"DaysTicker\"},{\"attributes\":{\"days\":[1,4,7,10,13,16,19,22,25,28]},\"id\":\"1489\",\"type\":\"DaysTicker\"},{\"attributes\":{},\"id\":\"1482\",\"type\":\"UnionRenderers\"},{\"attributes\":{\"coordinates\":null,\"group\":null,\"text\":\"TEC Holders\",\"text_color\":\"black\",\"text_font_size\":\"12pt\"},\"id\":\"1427\",\"type\":\"Title\"},{\"attributes\":{\"bottom_units\":\"screen\",\"coordinates\":null,\"fill_alpha\":0.5,\"fill_color\":\"lightgrey\",\"group\":null,\"left_units\":\"screen\",\"level\":\"overlay\",\"line_alpha\":1.0,\"line_color\":\"black\",\"line_dash\":[4,4],\"line_width\":2,\"right_units\":\"screen\",\"syncable\":false,\"top_units\":\"screen\"},\"id\":\"1448\",\"type\":\"BoxAnnotation\"},{\"attributes\":{},\"id\":\"1457\",\"type\":\"Selection\"},{\"attributes\":{\"callback\":null,\"formatters\":{\"@{Date}\":\"datetime\"},\"renderers\":[{\"id\":\"1462\"}],\"tags\":[\"hv_created\"],\"tooltips\":[[\"Date\",\"@{Date}{%F %T}\"],[\"Holders\",\"@{Holders}\"]]},\"id\":\"1425\",\"type\":\"HoverTool\"},{\"attributes\":{\"axis_label\":\"Holders\",\"coordinates\":null,\"formatter\":{\"id\":\"1469\"},\"group\":null,\"major_label_policy\":{\"id\":\"1470\"},\"ticker\":{\"id\":\"1440\"}},\"id\":\"1439\",\"type\":\"LinearAxis\"},{\"attributes\":{\"axis\":{\"id\":\"1435\"},\"coordinates\":null,\"grid_line_color\":null,\"group\":null,\"ticker\":null},\"id\":\"1438\",\"type\":\"Grid\"},{\"attributes\":{\"months\":[0,2,4,6,8,10]},\"id\":\"1493\",\"type\":\"MonthsTicker\"},{\"attributes\":{\"axis_label\":\"Date\",\"coordinates\":null,\"formatter\":{\"id\":\"1466\"},\"group\":null,\"major_label_policy\":{\"id\":\"1467\"},\"ticker\":{\"id\":\"1436\"}},\"id\":\"1435\",\"type\":\"DatetimeAxis\"},{\"attributes\":{},\"id\":\"1433\",\"type\":\"LinearScale\"},{\"attributes\":{\"mantissas\":[1,2,5],\"max_interval\":500.0,\"num_minor_ticks\":0},\"id\":\"1485\",\"type\":\"AdaptiveTicker\"}],\"root_ids\":[\"1422\"]},\"title\":\"Bokeh Application\",\"version\":\"2.4.3\"}};\n",
       "    var render_items = [{\"docid\":\"a953a070-9ba7-42f3-9f44-fb424846483c\",\"root_ids\":[\"1422\"],\"roots\":{\"1422\":\"8c1918d2-9358-4876-b9ab-462efedb3bbc\"}}];\n",
       "    root.Bokeh.embed.embed_items_notebook(docs_json, render_items);\n",
       "    for (const render_item of render_items) {\n",
       "      for (const root_id of render_item.root_ids) {\n",
       "\tconst id_el = document.getElementById(root_id)\n",
       "\tif (id_el.children.length && (id_el.children[0].className === 'bk-root')) {\n",
       "\t  const root_el = id_el.children[0]\n",
       "\t  root_el.id = root_el.id + '-rendered'\n",
       "\t}\n",
       "      }\n",
       "    }\n",
       "  }\n",
       "  if (root.Bokeh !== undefined && root.Bokeh.Panel !== undefined) {\n",
       "    embed_document(root);\n",
       "  } else {\n",
       "    var attempts = 0;\n",
       "    var timer = setInterval(function(root) {\n",
       "      if (root.Bokeh !== undefined && root.Bokeh.Panel !== undefined) {\n",
       "        clearInterval(timer);\n",
       "        embed_document(root);\n",
       "      } else if (document.readyState == \"complete\") {\n",
       "        attempts++;\n",
       "        if (attempts > 200) {\n",
       "          clearInterval(timer);\n",
       "          console.log(\"Bokeh: ERROR: Unable to run BokehJS code because BokehJS library is missing\");\n",
       "        }\n",
       "      }\n",
       "    }, 25, root)\n",
       "  }\n",
       "})(window);</script>"
      ],
      "text/plain": [
       ":Curve   [Date]   (Holders)"
      ]
     },
     "execution_count": null,
     "metadata": {
      "application/vnd.holoviews_exec.v0+json": {
       "id": "1422"
      }
     },
     "output_type": "execute_result"
    }
   ],
   "source": [
    "holders_over_time.hvplot.line(x='Date', y='Holders', title=\"TEC Holders\")"
   ]
  },
  {
   "cell_type": "code",
   "execution_count": null,
   "id": "26ddd303-70ca-4053-81bf-06c44ae3e68b",
   "metadata": {},
   "outputs": [
    {
     "data": {
      "text/html": [
       "<div>\n",
       "<style scoped>\n",
       "    .dataframe tbody tr th:only-of-type {\n",
       "        vertical-align: middle;\n",
       "    }\n",
       "\n",
       "    .dataframe tbody tr th {\n",
       "        vertical-align: top;\n",
       "    }\n",
       "\n",
       "    .dataframe thead th {\n",
       "        text-align: right;\n",
       "    }\n",
       "</style>\n",
       "<table border=\"1\" class=\"dataframe\">\n",
       "  <thead>\n",
       "    <tr style=\"text-align: right;\">\n",
       "      <th></th>\n",
       "      <th>date</th>\n",
       "      <th>action</th>\n",
       "      <th>sum(tribute)</th>\n",
       "      <th>tribute_total</th>\n",
       "    </tr>\n",
       "  </thead>\n",
       "  <tbody>\n",
       "    <tr>\n",
       "      <th>0</th>\n",
       "      <td>2022-04-01 00:00:00+00:00</td>\n",
       "      <td>Sell</td>\n",
       "      <td>364.927505</td>\n",
       "      <td>96097.104858</td>\n",
       "    </tr>\n",
       "    <tr>\n",
       "      <th>1</th>\n",
       "      <td>2022-05-01 00:00:00+00:00</td>\n",
       "      <td>Buy</td>\n",
       "      <td>502.690920</td>\n",
       "      <td>96097.104858</td>\n",
       "    </tr>\n",
       "    <tr>\n",
       "      <th>2</th>\n",
       "      <td>2022-05-01 00:00:00+00:00</td>\n",
       "      <td>Sell</td>\n",
       "      <td>27525.756009</td>\n",
       "      <td>96097.104858</td>\n",
       "    </tr>\n",
       "    <tr>\n",
       "      <th>3</th>\n",
       "      <td>2022-06-01 00:00:00+00:00</td>\n",
       "      <td>Buy</td>\n",
       "      <td>18.424300</td>\n",
       "      <td>96097.104858</td>\n",
       "    </tr>\n",
       "    <tr>\n",
       "      <th>4</th>\n",
       "      <td>2022-06-01 00:00:00+00:00</td>\n",
       "      <td>Sell</td>\n",
       "      <td>9637.008165</td>\n",
       "      <td>96097.104858</td>\n",
       "    </tr>\n",
       "    <tr>\n",
       "      <th>5</th>\n",
       "      <td>2022-07-01 00:00:00+00:00</td>\n",
       "      <td>Buy</td>\n",
       "      <td>46.280000</td>\n",
       "      <td>96097.104858</td>\n",
       "    </tr>\n",
       "    <tr>\n",
       "      <th>6</th>\n",
       "      <td>2022-07-01 00:00:00+00:00</td>\n",
       "      <td>Sell</td>\n",
       "      <td>875.231330</td>\n",
       "      <td>96097.104858</td>\n",
       "    </tr>\n",
       "    <tr>\n",
       "      <th>7</th>\n",
       "      <td>2022-08-01 00:00:00+00:00</td>\n",
       "      <td>Buy</td>\n",
       "      <td>84.000440</td>\n",
       "      <td>96097.104858</td>\n",
       "    </tr>\n",
       "    <tr>\n",
       "      <th>8</th>\n",
       "      <td>2022-08-01 00:00:00+00:00</td>\n",
       "      <td>Sell</td>\n",
       "      <td>3578.698760</td>\n",
       "      <td>96097.104858</td>\n",
       "    </tr>\n",
       "    <tr>\n",
       "      <th>9</th>\n",
       "      <td>2022-09-01 00:00:00+00:00</td>\n",
       "      <td>Buy</td>\n",
       "      <td>440.034000</td>\n",
       "      <td>96097.104858</td>\n",
       "    </tr>\n",
       "    <tr>\n",
       "      <th>10</th>\n",
       "      <td>2022-09-01 00:00:00+00:00</td>\n",
       "      <td>Sell</td>\n",
       "      <td>6524.963118</td>\n",
       "      <td>96097.104858</td>\n",
       "    </tr>\n",
       "    <tr>\n",
       "      <th>11</th>\n",
       "      <td>2022-10-01 00:00:00+00:00</td>\n",
       "      <td>Buy</td>\n",
       "      <td>0.448273</td>\n",
       "      <td>96097.104858</td>\n",
       "    </tr>\n",
       "    <tr>\n",
       "      <th>12</th>\n",
       "      <td>2022-10-01 00:00:00+00:00</td>\n",
       "      <td>Sell</td>\n",
       "      <td>7265.726778</td>\n",
       "      <td>96097.104858</td>\n",
       "    </tr>\n",
       "    <tr>\n",
       "      <th>13</th>\n",
       "      <td>2022-11-01 00:00:00+00:00</td>\n",
       "      <td>Buy</td>\n",
       "      <td>42.080000</td>\n",
       "      <td>96097.104858</td>\n",
       "    </tr>\n",
       "    <tr>\n",
       "      <th>14</th>\n",
       "      <td>2022-11-01 00:00:00+00:00</td>\n",
       "      <td>Sell</td>\n",
       "      <td>7948.406669</td>\n",
       "      <td>96097.104858</td>\n",
       "    </tr>\n",
       "    <tr>\n",
       "      <th>15</th>\n",
       "      <td>2022-12-01 00:00:00+00:00</td>\n",
       "      <td>Buy</td>\n",
       "      <td>1.260000</td>\n",
       "      <td>96097.104858</td>\n",
       "    </tr>\n",
       "    <tr>\n",
       "      <th>16</th>\n",
       "      <td>2022-12-01 00:00:00+00:00</td>\n",
       "      <td>Sell</td>\n",
       "      <td>6767.473366</td>\n",
       "      <td>96097.104858</td>\n",
       "    </tr>\n",
       "    <tr>\n",
       "      <th>17</th>\n",
       "      <td>2023-01-01 00:00:00+00:00</td>\n",
       "      <td>Buy</td>\n",
       "      <td>0.310000</td>\n",
       "      <td>96097.104858</td>\n",
       "    </tr>\n",
       "    <tr>\n",
       "      <th>18</th>\n",
       "      <td>2023-01-01 00:00:00+00:00</td>\n",
       "      <td>Sell</td>\n",
       "      <td>3886.310413</td>\n",
       "      <td>96097.104858</td>\n",
       "    </tr>\n",
       "    <tr>\n",
       "      <th>19</th>\n",
       "      <td>2023-02-01 00:00:00+00:00</td>\n",
       "      <td>Buy</td>\n",
       "      <td>0.100000</td>\n",
       "      <td>96097.104858</td>\n",
       "    </tr>\n",
       "    <tr>\n",
       "      <th>20</th>\n",
       "      <td>2023-02-01 00:00:00+00:00</td>\n",
       "      <td>Sell</td>\n",
       "      <td>4413.471438</td>\n",
       "      <td>96097.104858</td>\n",
       "    </tr>\n",
       "    <tr>\n",
       "      <th>21</th>\n",
       "      <td>2023-03-01 00:00:00+00:00</td>\n",
       "      <td>Buy</td>\n",
       "      <td>3.100000</td>\n",
       "      <td>96097.104858</td>\n",
       "    </tr>\n",
       "    <tr>\n",
       "      <th>22</th>\n",
       "      <td>2023-03-01 00:00:00+00:00</td>\n",
       "      <td>Sell</td>\n",
       "      <td>13877.419531</td>\n",
       "      <td>96097.104858</td>\n",
       "    </tr>\n",
       "    <tr>\n",
       "      <th>23</th>\n",
       "      <td>2023-04-01 00:00:00+00:00</td>\n",
       "      <td>Buy</td>\n",
       "      <td>460.600000</td>\n",
       "      <td>96097.104858</td>\n",
       "    </tr>\n",
       "    <tr>\n",
       "      <th>24</th>\n",
       "      <td>2023-04-01 00:00:00+00:00</td>\n",
       "      <td>Sell</td>\n",
       "      <td>1832.383842</td>\n",
       "      <td>96097.104858</td>\n",
       "    </tr>\n",
       "  </tbody>\n",
       "</table>\n",
       "</div>"
      ],
      "text/plain": [
       "                        date action  sum(tribute)  tribute_total\n",
       "0  2022-04-01 00:00:00+00:00   Sell    364.927505   96097.104858\n",
       "1  2022-05-01 00:00:00+00:00    Buy    502.690920   96097.104858\n",
       "2  2022-05-01 00:00:00+00:00   Sell  27525.756009   96097.104858\n",
       "3  2022-06-01 00:00:00+00:00    Buy     18.424300   96097.104858\n",
       "4  2022-06-01 00:00:00+00:00   Sell   9637.008165   96097.104858\n",
       "5  2022-07-01 00:00:00+00:00    Buy     46.280000   96097.104858\n",
       "6  2022-07-01 00:00:00+00:00   Sell    875.231330   96097.104858\n",
       "7  2022-08-01 00:00:00+00:00    Buy     84.000440   96097.104858\n",
       "8  2022-08-01 00:00:00+00:00   Sell   3578.698760   96097.104858\n",
       "9  2022-09-01 00:00:00+00:00    Buy    440.034000   96097.104858\n",
       "10 2022-09-01 00:00:00+00:00   Sell   6524.963118   96097.104858\n",
       "11 2022-10-01 00:00:00+00:00    Buy      0.448273   96097.104858\n",
       "12 2022-10-01 00:00:00+00:00   Sell   7265.726778   96097.104858\n",
       "13 2022-11-01 00:00:00+00:00    Buy     42.080000   96097.104858\n",
       "14 2022-11-01 00:00:00+00:00   Sell   7948.406669   96097.104858\n",
       "15 2022-12-01 00:00:00+00:00    Buy      1.260000   96097.104858\n",
       "16 2022-12-01 00:00:00+00:00   Sell   6767.473366   96097.104858\n",
       "17 2023-01-01 00:00:00+00:00    Buy      0.310000   96097.104858\n",
       "18 2023-01-01 00:00:00+00:00   Sell   3886.310413   96097.104858\n",
       "19 2023-02-01 00:00:00+00:00    Buy      0.100000   96097.104858\n",
       "20 2023-02-01 00:00:00+00:00   Sell   4413.471438   96097.104858\n",
       "21 2023-03-01 00:00:00+00:00    Buy      3.100000   96097.104858\n",
       "22 2023-03-01 00:00:00+00:00   Sell  13877.419531   96097.104858\n",
       "23 2023-04-01 00:00:00+00:00    Buy    460.600000   96097.104858\n",
       "24 2023-04-01 00:00:00+00:00   Sell   1832.383842   96097.104858"
      ]
     },
     "execution_count": null,
     "metadata": {},
     "output_type": "execute_result"
    }
   ],
   "source": [
    "abc_tributes = tec.abc_tributes.tribute_distribution()\n",
    "abc_tributes['date'] = pd.to_datetime(abc_tributes['date'])\n",
    "abc_tributes"
   ]
  },
  {
   "cell_type": "code",
   "execution_count": null,
   "id": "0e3591e4-99a1-4f33-a16b-6c9b6f3a6e7e",
   "metadata": {},
   "outputs": [
    {
     "data": {},
     "metadata": {},
     "output_type": "display_data"
    },
    {
     "data": {
      "application/vnd.holoviews_exec.v0+json": "",
      "text/html": [
       "<div id='1608'>\n",
       "  <div class=\"bk-root\" id=\"4f194dc6-7681-459c-8c2f-c99acde75791\" data-root-id=\"1608\"></div>\n",
       "</div>\n",
       "<script type=\"application/javascript\">(function(root) {\n",
       "  function embed_document(root) {\n",
       "    var docs_json = {\"7aee112f-6ec7-4e1e-9f06-4fcc0c0f5a46\":{\"defs\":[{\"extends\":null,\"module\":null,\"name\":\"ReactiveHTML1\",\"overrides\":[],\"properties\":[]},{\"extends\":null,\"module\":null,\"name\":\"FlexBox1\",\"overrides\":[],\"properties\":[{\"default\":\"flex-start\",\"kind\":null,\"name\":\"align_content\"},{\"default\":\"flex-start\",\"kind\":null,\"name\":\"align_items\"},{\"default\":\"row\",\"kind\":null,\"name\":\"flex_direction\"},{\"default\":\"wrap\",\"kind\":null,\"name\":\"flex_wrap\"},{\"default\":\"flex-start\",\"kind\":null,\"name\":\"justify_content\"}]},{\"extends\":null,\"module\":null,\"name\":\"GridStack1\",\"overrides\":[],\"properties\":[{\"default\":\"warn\",\"kind\":null,\"name\":\"mode\"},{\"default\":null,\"kind\":null,\"name\":\"ncols\"},{\"default\":null,\"kind\":null,\"name\":\"nrows\"},{\"default\":true,\"kind\":null,\"name\":\"allow_resize\"},{\"default\":true,\"kind\":null,\"name\":\"allow_drag\"},{\"default\":[],\"kind\":null,\"name\":\"state\"}]},{\"extends\":null,\"module\":null,\"name\":\"click1\",\"overrides\":[],\"properties\":[{\"default\":\"\",\"kind\":null,\"name\":\"terminal_output\"},{\"default\":\"\",\"kind\":null,\"name\":\"debug_name\"},{\"default\":0,\"kind\":null,\"name\":\"clears\"}]},{\"extends\":null,\"module\":null,\"name\":\"NotificationAreaBase1\",\"overrides\":[],\"properties\":[{\"default\":\"bottom-right\",\"kind\":null,\"name\":\"position\"},{\"default\":0,\"kind\":null,\"name\":\"_clear\"}]},{\"extends\":null,\"module\":null,\"name\":\"NotificationArea1\",\"overrides\":[],\"properties\":[{\"default\":[],\"kind\":null,\"name\":\"notifications\"},{\"default\":\"bottom-right\",\"kind\":null,\"name\":\"position\"},{\"default\":0,\"kind\":null,\"name\":\"_clear\"},{\"default\":[{\"background\":\"#ffc107\",\"icon\":{\"className\":\"fas fa-exclamation-triangle\",\"color\":\"white\",\"tagName\":\"i\"},\"type\":\"warning\"},{\"background\":\"#007bff\",\"icon\":{\"className\":\"fas fa-info-circle\",\"color\":\"white\",\"tagName\":\"i\"},\"type\":\"info\"}],\"kind\":null,\"name\":\"types\"}]},{\"extends\":null,\"module\":null,\"name\":\"Notification\",\"overrides\":[],\"properties\":[{\"default\":null,\"kind\":null,\"name\":\"background\"},{\"default\":3000,\"kind\":null,\"name\":\"duration\"},{\"default\":null,\"kind\":null,\"name\":\"icon\"},{\"default\":\"\",\"kind\":null,\"name\":\"message\"},{\"default\":null,\"kind\":null,\"name\":\"notification_type\"},{\"default\":false,\"kind\":null,\"name\":\"_destroyed\"}]},{\"extends\":null,\"module\":null,\"name\":\"TemplateActions1\",\"overrides\":[],\"properties\":[{\"default\":0,\"kind\":null,\"name\":\"open_modal\"},{\"default\":0,\"kind\":null,\"name\":\"close_modal\"}]},{\"extends\":null,\"module\":null,\"name\":\"MaterialTemplateActions1\",\"overrides\":[],\"properties\":[{\"default\":0,\"kind\":null,\"name\":\"open_modal\"},{\"default\":0,\"kind\":null,\"name\":\"close_modal\"}]}],\"roots\":{\"references\":[{\"attributes\":{},\"id\":\"1630\",\"type\":\"PanTool\"},{\"attributes\":{\"coordinates\":null,\"group\":null,\"text\":\"Monthly ABC Tributes\",\"text_color\":\"black\",\"text_font_size\":\"12pt\"},\"id\":\"1613\",\"type\":\"Title\"},{\"attributes\":{\"children\":[{\"id\":\"1612\"}],\"height\":300,\"margin\":[0,0,0,0],\"name\":\"Row01297\",\"sizing_mode\":\"fixed\",\"tags\":[\"embedded\"],\"width\":700},\"id\":\"1608\",\"type\":\"Row\"},{\"attributes\":{\"axis\":{\"id\":\"1621\"},\"coordinates\":null,\"grid_line_color\":null,\"group\":null,\"ticker\":null},\"id\":\"1624\",\"type\":\"Grid\"},{\"attributes\":{},\"id\":\"1668\",\"type\":\"UnionRenderers\"},{\"attributes\":{\"axis_label\":\"date\",\"coordinates\":null,\"formatter\":{\"id\":\"1652\"},\"group\":null,\"major_label_policy\":{\"id\":\"1653\"},\"ticker\":{\"id\":\"1622\"}},\"id\":\"1621\",\"type\":\"DatetimeAxis\"},{\"attributes\":{\"axis_label\":\"sum(tribute)\",\"coordinates\":null,\"formatter\":{\"id\":\"1655\"},\"group\":null,\"major_label_policy\":{\"id\":\"1656\"},\"ticker\":{\"id\":\"1626\"}},\"id\":\"1625\",\"type\":\"LinearAxis\"},{\"attributes\":{\"num_minor_ticks\":5,\"tickers\":[{\"id\":\"1671\"},{\"id\":\"1672\"},{\"id\":\"1673\"},{\"id\":\"1674\"},{\"id\":\"1675\"},{\"id\":\"1676\"},{\"id\":\"1677\"},{\"id\":\"1678\"},{\"id\":\"1679\"},{\"id\":\"1680\"},{\"id\":\"1681\"},{\"id\":\"1682\"}]},\"id\":\"1622\",\"type\":\"DatetimeTicker\"},{\"attributes\":{\"axis\":{\"id\":\"1625\"},\"coordinates\":null,\"dimension\":1,\"grid_line_color\":null,\"group\":null,\"ticker\":null},\"id\":\"1628\",\"type\":\"Grid\"},{\"attributes\":{},\"id\":\"1626\",\"type\":\"BasicTicker\"},{\"attributes\":{},\"id\":\"1631\",\"type\":\"WheelZoomTool\"},{\"attributes\":{\"line_color\":\"#30a2da\",\"line_width\":2,\"x\":{\"field\":\"date\"},\"y\":{\"field\":\"sum(tribute)\"}},\"id\":\"1650\",\"type\":\"Line\"},{\"attributes\":{},\"id\":\"1629\",\"type\":\"SaveTool\"},{\"attributes\":{},\"id\":\"1656\",\"type\":\"AllLabels\"},{\"attributes\":{\"overlay\":{\"id\":\"1634\"}},\"id\":\"1632\",\"type\":\"BoxZoomTool\"},{\"attributes\":{},\"id\":\"1633\",\"type\":\"ResetTool\"},{\"attributes\":{\"line_color\":\"#30a2da\",\"line_width\":2,\"x\":{\"field\":\"date\"},\"y\":{\"field\":\"sum(tribute)\"}},\"id\":\"1645\",\"type\":\"Line\"},{\"attributes\":{\"data\":{\"date\":{\"__ndarray__\":\"AABAvyb+d0IAAIC1+gJ4QgAAgLX6AnhCAADAq84HeEIAAMCrzgd4QgAA4NTLDHhCAADg1MsMeEIAAAD+yBF4QgAAAP7IEXhCAABA9JwWeEIAAED0nBZ4QgAAgOpwG3hCAACA6nAbeEIAAKATbiB4QgAAoBNuIHhCAADAPGsleEIAAMA8ayV4QgAA4GVoKnhCAADgZWgqeEIAAACPZS94QgAAAI9lL3hCAABAhTk0eEIAAECFOTR4QgAAgHsNOXhCAACAew05eEIAAKCkCj54QgAAoKQKPnhCAADAzQdDeEIAAMDNB0N4QgAAAMTbR3hCAAAAxNtHeEIAAEC6r0x4QgAAQLqvTHhCAABg46xReEIAAGDjrFF4QgAAgAyqVnhCAACADKpWeEIAAKA1p1t4QgAAoDWnW3hCAADAXqRgeEIAAMBepGB4QgAAQO8lZXhCAABA7yVleEIAAMB/p2l4QgAAwH+naXhCAADgqKRueEIAAOCopG54QgAAANKhc3hCAAAA0qFzeEIAAADSoXN4Qg==\",\"dtype\":\"float64\",\"order\":\"little\",\"shape\":[50]},\"sum(tribute)\":{\"__ndarray__\":\"mkrZD9fOdkCaStkP1852QHBCIQIOa39AcEIhAg5rf0BaLnVicOHaQFoudWJw4dpAW7G/7J5sMkBbsb/snmwyQEVYiQuB0sJARViJC4HSwkCkcD0K1yNHQKRwPQrXI0dApEPDw9lZi0CkQ8PD2VmLQA5nfjUHAFVADmd+NQcAVUDONtfDZfWrQM4218Nl9atABoGVQ4uAe0AGgZVDi4B7QAph5472fLlACmHnjvZ8uUDb5SAOumG8QNvlIA66YbxA1pMS5X+w3D/WkxLlf7DcPwrXo3A9CkVACtejcD0KRUAJ53gbaAy/QAnneBtoDL9AKVyPwvUo9D8pXI/C9Sj0P0DaiS55b7pAQNqJLnlvukDXo3A9CtfTP9ejcD0K19M/fJRv7p5crkB8lG/unlyuQJqZmZmZmbk/mpmZmZmZuT+IqCWweD2xQIioJbB4PbFAzczMzMzMCEDNzMzMzMwIQAGEMrO1GstAAYQys7Uay0CamZmZmcl8QJqZmZmZyXxARwDyDYmhnEBHAPINiaGcQA==\",\"dtype\":\"float64\",\"order\":\"little\",\"shape\":[50]},\"sum_left_parenthesis_tribute_right_parenthesis\":{\"__ndarray__\":\"mkrZD9fOdkCaStkP1852QHBCIQIOa39AcEIhAg5rf0BaLnVicOHaQFoudWJw4dpAW7G/7J5sMkBbsb/snmwyQEVYiQuB0sJARViJC4HSwkCkcD0K1yNHQKRwPQrXI0dApEPDw9lZi0CkQ8PD2VmLQA5nfjUHAFVADmd+NQcAVUDONtfDZfWrQM4218Nl9atABoGVQ4uAe0AGgZVDi4B7QAph5472fLlACmHnjvZ8uUDb5SAOumG8QNvlIA66YbxA1pMS5X+w3D/WkxLlf7DcPwrXo3A9CkVACtejcD0KRUAJ53gbaAy/QAnneBtoDL9AKVyPwvUo9D8pXI/C9Sj0P0DaiS55b7pAQNqJLnlvukDXo3A9CtfTP9ejcD0K19M/fJRv7p5crkB8lG/unlyuQJqZmZmZmbk/mpmZmZmZuT+IqCWweD2xQIioJbB4PbFAzczMzMzMCEDNzMzMzMwIQAGEMrO1GstAAYQys7Uay0CamZmZmcl8QJqZmZmZyXxARwDyDYmhnEBHAPINiaGcQA==\",\"dtype\":\"float64\",\"order\":\"little\",\"shape\":[50]}},\"selected\":{\"id\":\"1643\"},\"selection_policy\":{\"id\":\"1668\"}},\"id\":\"1642\",\"type\":\"ColumnDataSource\"},{\"attributes\":{\"line_alpha\":0.2,\"line_color\":\"#30a2da\",\"line_width\":2,\"x\":{\"field\":\"date\"},\"y\":{\"field\":\"sum(tribute)\"}},\"id\":\"1647\",\"type\":\"Line\"},{\"attributes\":{\"bottom_units\":\"screen\",\"coordinates\":null,\"fill_alpha\":0.5,\"fill_color\":\"lightgrey\",\"group\":null,\"left_units\":\"screen\",\"level\":\"overlay\",\"line_alpha\":1.0,\"line_color\":\"black\",\"line_dash\":[4,4],\"line_width\":2,\"right_units\":\"screen\",\"syncable\":false,\"top_units\":\"screen\"},\"id\":\"1634\",\"type\":\"BoxAnnotation\"},{\"attributes\":{},\"id\":\"1653\",\"type\":\"AllLabels\"},{\"attributes\":{\"end\":30278.3216103218,\"reset_end\":30278.3216103218,\"reset_start\":-2752.4656009383457,\"start\":-2752.4656009383457,\"tags\":[[[\"sum(tribute)\",\"sum(tribute)\",null]]]},\"id\":\"1610\",\"type\":\"Range1d\"},{\"attributes\":{\"mantissas\":[1,2,5],\"max_interval\":500.0,\"num_minor_ticks\":0},\"id\":\"1671\",\"type\":\"AdaptiveTicker\"},{\"attributes\":{\"active_drag\":{\"id\":\"1630\"},\"active_scroll\":{\"id\":\"1631\"},\"tools\":[{\"id\":\"1611\"},{\"id\":\"1629\"},{\"id\":\"1630\"},{\"id\":\"1631\"},{\"id\":\"1632\"},{\"id\":\"1633\"}]},\"id\":\"1635\",\"type\":\"Toolbar\"},{\"attributes\":{\"base\":60,\"mantissas\":[1,2,5,10,15,20,30],\"max_interval\":1800000.0,\"min_interval\":1000.0,\"num_minor_ticks\":0},\"id\":\"1672\",\"type\":\"AdaptiveTicker\"},{\"attributes\":{},\"id\":\"1652\",\"type\":\"DatetimeTickFormatter\"},{\"attributes\":{\"source\":{\"id\":\"1642\"}},\"id\":\"1649\",\"type\":\"CDSView\"},{\"attributes\":{\"months\":[0,1,2,3,4,5,6,7,8,9,10,11]},\"id\":\"1678\",\"type\":\"MonthsTicker\"},{\"attributes\":{\"coordinates\":null,\"data_source\":{\"id\":\"1642\"},\"glyph\":{\"id\":\"1645\"},\"group\":null,\"hover_glyph\":null,\"muted_glyph\":{\"id\":\"1647\"},\"nonselection_glyph\":{\"id\":\"1646\"},\"selection_glyph\":{\"id\":\"1650\"},\"view\":{\"id\":\"1649\"}},\"id\":\"1648\",\"type\":\"GlyphRenderer\"},{\"attributes\":{},\"id\":\"1617\",\"type\":\"LinearScale\"},{\"attributes\":{\"days\":[1,8,15,22]},\"id\":\"1676\",\"type\":\"DaysTicker\"},{\"attributes\":{},\"id\":\"1682\",\"type\":\"YearsTicker\"},{\"attributes\":{\"end\":1680307200000.0,\"reset_end\":1680307200000.0,\"reset_start\":1648771200000.0,\"start\":1648771200000.0,\"tags\":[[[\"date\",\"date\",null]]]},\"id\":\"1609\",\"type\":\"Range1d\"},{\"attributes\":{\"base\":24,\"mantissas\":[1,2,4,6,8,12],\"max_interval\":43200000.0,\"min_interval\":3600000.0,\"num_minor_ticks\":0},\"id\":\"1673\",\"type\":\"AdaptiveTicker\"},{\"attributes\":{\"days\":[1,2,3,4,5,6,7,8,9,10,11,12,13,14,15,16,17,18,19,20,21,22,23,24,25,26,27,28,29,30,31]},\"id\":\"1674\",\"type\":\"DaysTicker\"},{\"attributes\":{\"below\":[{\"id\":\"1621\"}],\"center\":[{\"id\":\"1624\"},{\"id\":\"1628\"}],\"height\":300,\"left\":[{\"id\":\"1625\"}],\"margin\":[5,5,5,5],\"min_border_bottom\":10,\"min_border_left\":10,\"min_border_right\":10,\"min_border_top\":10,\"renderers\":[{\"id\":\"1648\"}],\"sizing_mode\":\"fixed\",\"title\":{\"id\":\"1613\"},\"toolbar\":{\"id\":\"1635\"},\"width\":700,\"x_range\":{\"id\":\"1609\"},\"x_scale\":{\"id\":\"1617\"},\"y_range\":{\"id\":\"1610\"},\"y_scale\":{\"id\":\"1619\"}},\"id\":\"1612\",\"subtype\":\"Figure\",\"type\":\"Plot\"},{\"attributes\":{\"days\":[1,4,7,10,13,16,19,22,25,28]},\"id\":\"1675\",\"type\":\"DaysTicker\"},{\"attributes\":{\"line_alpha\":0.1,\"line_color\":\"#30a2da\",\"line_width\":2,\"x\":{\"field\":\"date\"},\"y\":{\"field\":\"sum(tribute)\"}},\"id\":\"1646\",\"type\":\"Line\"},{\"attributes\":{\"callback\":null,\"formatters\":{\"@{date}\":\"datetime\"},\"renderers\":[{\"id\":\"1648\"}],\"tags\":[\"hv_created\"],\"tooltips\":[[\"date\",\"@{date}{%F %T}\"],[\"sum(tribute)\",\"@{sum_left_parenthesis_tribute_right_parenthesis}\"]]},\"id\":\"1611\",\"type\":\"HoverTool\"},{\"attributes\":{\"days\":[1,15]},\"id\":\"1677\",\"type\":\"DaysTicker\"},{\"attributes\":{},\"id\":\"1655\",\"type\":\"BasicTickFormatter\"},{\"attributes\":{\"months\":[0,6]},\"id\":\"1681\",\"type\":\"MonthsTicker\"},{\"attributes\":{},\"id\":\"1619\",\"type\":\"LinearScale\"},{\"attributes\":{\"months\":[0,2,4,6,8,10]},\"id\":\"1679\",\"type\":\"MonthsTicker\"},{\"attributes\":{},\"id\":\"1643\",\"type\":\"Selection\"},{\"attributes\":{\"months\":[0,4,8]},\"id\":\"1680\",\"type\":\"MonthsTicker\"}],\"root_ids\":[\"1608\"]},\"title\":\"Bokeh Application\",\"version\":\"2.4.3\"}};\n",
       "    var render_items = [{\"docid\":\"7aee112f-6ec7-4e1e-9f06-4fcc0c0f5a46\",\"root_ids\":[\"1608\"],\"roots\":{\"1608\":\"4f194dc6-7681-459c-8c2f-c99acde75791\"}}];\n",
       "    root.Bokeh.embed.embed_items_notebook(docs_json, render_items);\n",
       "    for (const render_item of render_items) {\n",
       "      for (const root_id of render_item.root_ids) {\n",
       "\tconst id_el = document.getElementById(root_id)\n",
       "\tif (id_el.children.length && (id_el.children[0].className === 'bk-root')) {\n",
       "\t  const root_el = id_el.children[0]\n",
       "\t  root_el.id = root_el.id + '-rendered'\n",
       "\t}\n",
       "      }\n",
       "    }\n",
       "  }\n",
       "  if (root.Bokeh !== undefined && root.Bokeh.Panel !== undefined) {\n",
       "    embed_document(root);\n",
       "  } else {\n",
       "    var attempts = 0;\n",
       "    var timer = setInterval(function(root) {\n",
       "      if (root.Bokeh !== undefined && root.Bokeh.Panel !== undefined) {\n",
       "        clearInterval(timer);\n",
       "        embed_document(root);\n",
       "      } else if (document.readyState == \"complete\") {\n",
       "        attempts++;\n",
       "        if (attempts > 200) {\n",
       "          clearInterval(timer);\n",
       "          console.log(\"Bokeh: ERROR: Unable to run BokehJS code because BokehJS library is missing\");\n",
       "        }\n",
       "      }\n",
       "    }, 25, root)\n",
       "  }\n",
       "})(window);</script>"
      ],
      "text/plain": [
       ":Curve   [date]   (sum(tribute))"
      ]
     },
     "execution_count": null,
     "metadata": {
      "application/vnd.holoviews_exec.v0+json": {
       "id": "1608"
      }
     },
     "output_type": "execute_result"
    }
   ],
   "source": [
    "monthly_tribute_view = abc_tributes.hvplot.step(x='date', y='sum(tribute)', title='Monthly ABC Tributes', label=\"Monthly\")\n",
    "monthly_tribute_view"
   ]
  },
  {
   "cell_type": "code",
   "execution_count": null,
   "id": "1d42d316-8a11-4574-b149-6d14e15e3a44",
   "metadata": {},
   "outputs": [],
   "source": [
    "abc_tributes['cummulative'] = abc_tributes['sum(tribute)'].cumsum()"
   ]
  },
  {
   "cell_type": "code",
   "execution_count": null,
   "id": "da63c684-0b35-4f68-8fc9-d38317786bd5",
   "metadata": {},
   "outputs": [
    {
     "data": {},
     "metadata": {},
     "output_type": "display_data"
    },
    {
     "data": {
      "application/vnd.holoviews_exec.v0+json": "",
      "text/html": [
       "<div id='1794'>\n",
       "  <div class=\"bk-root\" id=\"221f6ef3-69e5-4056-9085-3245743635dc\" data-root-id=\"1794\"></div>\n",
       "</div>\n",
       "<script type=\"application/javascript\">(function(root) {\n",
       "  function embed_document(root) {\n",
       "    var docs_json = {\"0591cc39-2e75-4d75-9805-f6c50ec562e6\":{\"defs\":[{\"extends\":null,\"module\":null,\"name\":\"ReactiveHTML1\",\"overrides\":[],\"properties\":[]},{\"extends\":null,\"module\":null,\"name\":\"FlexBox1\",\"overrides\":[],\"properties\":[{\"default\":\"flex-start\",\"kind\":null,\"name\":\"align_content\"},{\"default\":\"flex-start\",\"kind\":null,\"name\":\"align_items\"},{\"default\":\"row\",\"kind\":null,\"name\":\"flex_direction\"},{\"default\":\"wrap\",\"kind\":null,\"name\":\"flex_wrap\"},{\"default\":\"flex-start\",\"kind\":null,\"name\":\"justify_content\"}]},{\"extends\":null,\"module\":null,\"name\":\"GridStack1\",\"overrides\":[],\"properties\":[{\"default\":\"warn\",\"kind\":null,\"name\":\"mode\"},{\"default\":null,\"kind\":null,\"name\":\"ncols\"},{\"default\":null,\"kind\":null,\"name\":\"nrows\"},{\"default\":true,\"kind\":null,\"name\":\"allow_resize\"},{\"default\":true,\"kind\":null,\"name\":\"allow_drag\"},{\"default\":[],\"kind\":null,\"name\":\"state\"}]},{\"extends\":null,\"module\":null,\"name\":\"click1\",\"overrides\":[],\"properties\":[{\"default\":\"\",\"kind\":null,\"name\":\"terminal_output\"},{\"default\":\"\",\"kind\":null,\"name\":\"debug_name\"},{\"default\":0,\"kind\":null,\"name\":\"clears\"}]},{\"extends\":null,\"module\":null,\"name\":\"NotificationAreaBase1\",\"overrides\":[],\"properties\":[{\"default\":\"bottom-right\",\"kind\":null,\"name\":\"position\"},{\"default\":0,\"kind\":null,\"name\":\"_clear\"}]},{\"extends\":null,\"module\":null,\"name\":\"NotificationArea1\",\"overrides\":[],\"properties\":[{\"default\":[],\"kind\":null,\"name\":\"notifications\"},{\"default\":\"bottom-right\",\"kind\":null,\"name\":\"position\"},{\"default\":0,\"kind\":null,\"name\":\"_clear\"},{\"default\":[{\"background\":\"#ffc107\",\"icon\":{\"className\":\"fas fa-exclamation-triangle\",\"color\":\"white\",\"tagName\":\"i\"},\"type\":\"warning\"},{\"background\":\"#007bff\",\"icon\":{\"className\":\"fas fa-info-circle\",\"color\":\"white\",\"tagName\":\"i\"},\"type\":\"info\"}],\"kind\":null,\"name\":\"types\"}]},{\"extends\":null,\"module\":null,\"name\":\"Notification\",\"overrides\":[],\"properties\":[{\"default\":null,\"kind\":null,\"name\":\"background\"},{\"default\":3000,\"kind\":null,\"name\":\"duration\"},{\"default\":null,\"kind\":null,\"name\":\"icon\"},{\"default\":\"\",\"kind\":null,\"name\":\"message\"},{\"default\":null,\"kind\":null,\"name\":\"notification_type\"},{\"default\":false,\"kind\":null,\"name\":\"_destroyed\"}]},{\"extends\":null,\"module\":null,\"name\":\"TemplateActions1\",\"overrides\":[],\"properties\":[{\"default\":0,\"kind\":null,\"name\":\"open_modal\"},{\"default\":0,\"kind\":null,\"name\":\"close_modal\"}]},{\"extends\":null,\"module\":null,\"name\":\"MaterialTemplateActions1\",\"overrides\":[],\"properties\":[{\"default\":0,\"kind\":null,\"name\":\"open_modal\"},{\"default\":0,\"kind\":null,\"name\":\"close_modal\"}]}],\"roots\":{\"references\":[{\"attributes\":{},\"id\":\"1819\",\"type\":\"ResetTool\"},{\"attributes\":{\"line_alpha\":0.1,\"line_color\":\"#30a2da\",\"line_width\":2,\"x\":{\"field\":\"date\"},\"y\":{\"field\":\"cummulative\"}},\"id\":\"1832\",\"type\":\"Line\"},{\"attributes\":{\"active_drag\":{\"id\":\"1816\"},\"active_scroll\":{\"id\":\"1817\"},\"tools\":[{\"id\":\"1797\"},{\"id\":\"1815\"},{\"id\":\"1816\"},{\"id\":\"1817\"},{\"id\":\"1818\"},{\"id\":\"1819\"}]},\"id\":\"1821\",\"type\":\"Toolbar\"},{\"attributes\":{\"num_minor_ticks\":5,\"tickers\":[{\"id\":\"1857\"},{\"id\":\"1858\"},{\"id\":\"1859\"},{\"id\":\"1860\"},{\"id\":\"1861\"},{\"id\":\"1862\"},{\"id\":\"1863\"},{\"id\":\"1864\"},{\"id\":\"1865\"},{\"id\":\"1866\"},{\"id\":\"1867\"},{\"id\":\"1868\"}]},\"id\":\"1808\",\"type\":\"DatetimeTicker\"},{\"attributes\":{\"callback\":null,\"formatters\":{\"@{date}\":\"datetime\"},\"renderers\":[{\"id\":\"1834\"}],\"tags\":[\"hv_created\"],\"tooltips\":[[\"date\",\"@{date}{%F %T}\"],[\"cummulative\",\"@{cummulative}\"]]},\"id\":\"1797\",\"type\":\"HoverTool\"},{\"attributes\":{\"line_color\":\"#30a2da\",\"line_width\":2,\"x\":{\"field\":\"date\"},\"y\":{\"field\":\"cummulative\"}},\"id\":\"1831\",\"type\":\"Line\"},{\"attributes\":{},\"id\":\"1839\",\"type\":\"AllLabels\"},{\"attributes\":{\"data\":{\"cummulative\":{\"__ndarray__\":\"mkrZD9fOdkCaStkP1852QIVG/YjyHItAhUb9iPIci0COGL32V7rbQI4YvfZXuttAekh4HvO+20B6SHge877bQE56HtIZlOJATnoe0hmU4kCqCeHH4pniQKoJ4cfimeJAuRbwLkoH40C5FvAuSgfjQO3VijLKEeNA7dWKMsoR40BaSciOINHkQFpJyI4g0eRAXHRPpSEI5UBcdE+lIQjlQH1gLHfAN+hAfWAsd8A36EDBbzARBsTrQMFvMBEGxOtABlNsz8436EAGU2zPzjfoQLeYjKBIyetAt5iMoEjJ60CYtfuj1arvQJi1+6PVqu9Atzrn9f2q70C3Ouf1/arvQAA73I12fPFAADvcjXZ88UBcyp6De3zxQFzKnoN7fPFAAEcSe2Bv8kAARxJ7YG/yQJrgqxRib/JAmuCrFGJv8kAiO66fOYPzQCI7rp85g/NAvNRHOWuD80C81Ec5a4PzQDwlru/B5vZAPCWu78Hm9kDWvkeJiwP3QNa+R4mLA/dA14Z/rRF290DXhn+tEXb3QA==\",\"dtype\":\"float64\",\"order\":\"little\",\"shape\":[50]},\"date\":{\"__ndarray__\":\"AABAvyb+d0IAAIC1+gJ4QgAAgLX6AnhCAADAq84HeEIAAMCrzgd4QgAA4NTLDHhCAADg1MsMeEIAAAD+yBF4QgAAAP7IEXhCAABA9JwWeEIAAED0nBZ4QgAAgOpwG3hCAACA6nAbeEIAAKATbiB4QgAAoBNuIHhCAADAPGsleEIAAMA8ayV4QgAA4GVoKnhCAADgZWgqeEIAAACPZS94QgAAAI9lL3hCAABAhTk0eEIAAECFOTR4QgAAgHsNOXhCAACAew05eEIAAKCkCj54QgAAoKQKPnhCAADAzQdDeEIAAMDNB0N4QgAAAMTbR3hCAAAAxNtHeEIAAEC6r0x4QgAAQLqvTHhCAABg46xReEIAAGDjrFF4QgAAgAyqVnhCAACADKpWeEIAAKA1p1t4QgAAoDWnW3hCAADAXqRgeEIAAMBepGB4QgAAQO8lZXhCAABA7yVleEIAAMB/p2l4QgAAwH+naXhCAADgqKRueEIAAOCopG54QgAAANKhc3hCAAAA0qFzeEIAAADSoXN4Qg==\",\"dtype\":\"float64\",\"order\":\"little\",\"shape\":[50]}},\"selected\":{\"id\":\"1829\"},\"selection_policy\":{\"id\":\"1854\"}},\"id\":\"1828\",\"type\":\"ColumnDataSource\"},{\"attributes\":{\"end\":1680307200000.0,\"reset_end\":1680307200000.0,\"reset_start\":1648771200000.0,\"start\":1648771200000.0,\"tags\":[[[\"date\",\"date\",null]]]},\"id\":\"1795\",\"type\":\"Range1d\"},{\"attributes\":{\"coordinates\":null,\"group\":null,\"text\":\"Cummulative ABC Tributes\",\"text_color\":\"black\",\"text_font_size\":\"12pt\"},\"id\":\"1799\",\"type\":\"Title\"},{\"attributes\":{},\"id\":\"1842\",\"type\":\"AllLabels\"},{\"attributes\":{\"end\":105670.32259320689,\"reset_end\":105670.32259320689,\"reset_start\":-9208.290229910848,\"start\":-9208.290229910848,\"tags\":[[[\"cummulative\",\"cummulative\",null]]]},\"id\":\"1796\",\"type\":\"Range1d\"},{\"attributes\":{},\"id\":\"1817\",\"type\":\"WheelZoomTool\"},{\"attributes\":{},\"id\":\"1812\",\"type\":\"BasicTicker\"},{\"attributes\":{\"children\":[{\"id\":\"1798\"}],\"height\":300,\"margin\":[0,0,0,0],\"name\":\"Row01438\",\"sizing_mode\":\"fixed\",\"tags\":[\"embedded\"],\"width\":700},\"id\":\"1794\",\"type\":\"Row\"},{\"attributes\":{\"line_alpha\":0.2,\"line_color\":\"#30a2da\",\"line_width\":2,\"x\":{\"field\":\"date\"},\"y\":{\"field\":\"cummulative\"}},\"id\":\"1833\",\"type\":\"Line\"},{\"attributes\":{\"axis_label\":\"date\",\"coordinates\":null,\"formatter\":{\"id\":\"1838\"},\"group\":null,\"major_label_policy\":{\"id\":\"1839\"},\"ticker\":{\"id\":\"1808\"}},\"id\":\"1807\",\"type\":\"DatetimeAxis\"},{\"attributes\":{\"axis\":{\"id\":\"1811\"},\"coordinates\":null,\"dimension\":1,\"grid_line_color\":null,\"group\":null,\"ticker\":null},\"id\":\"1814\",\"type\":\"Grid\"},{\"attributes\":{},\"id\":\"1816\",\"type\":\"PanTool\"},{\"attributes\":{\"coordinates\":null,\"data_source\":{\"id\":\"1828\"},\"glyph\":{\"id\":\"1831\"},\"group\":null,\"hover_glyph\":null,\"muted_glyph\":{\"id\":\"1833\"},\"nonselection_glyph\":{\"id\":\"1832\"},\"selection_glyph\":{\"id\":\"1836\"},\"view\":{\"id\":\"1835\"}},\"id\":\"1834\",\"type\":\"GlyphRenderer\"},{\"attributes\":{\"source\":{\"id\":\"1828\"}},\"id\":\"1835\",\"type\":\"CDSView\"},{\"attributes\":{\"mantissas\":[1,2,5],\"max_interval\":500.0,\"num_minor_ticks\":0},\"id\":\"1857\",\"type\":\"AdaptiveTicker\"},{\"attributes\":{},\"id\":\"1841\",\"type\":\"BasicTickFormatter\"},{\"attributes\":{\"base\":60,\"mantissas\":[1,2,5,10,15,20,30],\"max_interval\":1800000.0,\"min_interval\":1000.0,\"num_minor_ticks\":0},\"id\":\"1858\",\"type\":\"AdaptiveTicker\"},{\"attributes\":{\"axis_label\":\"cummulative\",\"coordinates\":null,\"formatter\":{\"id\":\"1841\"},\"group\":null,\"major_label_policy\":{\"id\":\"1842\"},\"ticker\":{\"id\":\"1812\"}},\"id\":\"1811\",\"type\":\"LinearAxis\"},{\"attributes\":{},\"id\":\"1803\",\"type\":\"LinearScale\"},{\"attributes\":{},\"id\":\"1805\",\"type\":\"LinearScale\"},{\"attributes\":{},\"id\":\"1815\",\"type\":\"SaveTool\"},{\"attributes\":{\"overlay\":{\"id\":\"1820\"}},\"id\":\"1818\",\"type\":\"BoxZoomTool\"},{\"attributes\":{\"days\":[1,8,15,22]},\"id\":\"1862\",\"type\":\"DaysTicker\"},{\"attributes\":{\"months\":[0,1,2,3,4,5,6,7,8,9,10,11]},\"id\":\"1864\",\"type\":\"MonthsTicker\"},{\"attributes\":{},\"id\":\"1868\",\"type\":\"YearsTicker\"},{\"attributes\":{\"base\":24,\"mantissas\":[1,2,4,6,8,12],\"max_interval\":43200000.0,\"min_interval\":3600000.0,\"num_minor_ticks\":0},\"id\":\"1859\",\"type\":\"AdaptiveTicker\"},{\"attributes\":{\"line_color\":\"#30a2da\",\"line_width\":2,\"x\":{\"field\":\"date\"},\"y\":{\"field\":\"cummulative\"}},\"id\":\"1836\",\"type\":\"Line\"},{\"attributes\":{},\"id\":\"1838\",\"type\":\"DatetimeTickFormatter\"},{\"attributes\":{},\"id\":\"1829\",\"type\":\"Selection\"},{\"attributes\":{\"bottom_units\":\"screen\",\"coordinates\":null,\"fill_alpha\":0.5,\"fill_color\":\"lightgrey\",\"group\":null,\"left_units\":\"screen\",\"level\":\"overlay\",\"line_alpha\":1.0,\"line_color\":\"black\",\"line_dash\":[4,4],\"line_width\":2,\"right_units\":\"screen\",\"syncable\":false,\"top_units\":\"screen\"},\"id\":\"1820\",\"type\":\"BoxAnnotation\"},{\"attributes\":{\"days\":[1,2,3,4,5,6,7,8,9,10,11,12,13,14,15,16,17,18,19,20,21,22,23,24,25,26,27,28,29,30,31]},\"id\":\"1860\",\"type\":\"DaysTicker\"},{\"attributes\":{\"days\":[1,4,7,10,13,16,19,22,25,28]},\"id\":\"1861\",\"type\":\"DaysTicker\"},{\"attributes\":{\"days\":[1,15]},\"id\":\"1863\",\"type\":\"DaysTicker\"},{\"attributes\":{\"below\":[{\"id\":\"1807\"}],\"center\":[{\"id\":\"1810\"},{\"id\":\"1814\"}],\"height\":300,\"left\":[{\"id\":\"1811\"}],\"margin\":[5,5,5,5],\"min_border_bottom\":10,\"min_border_left\":10,\"min_border_right\":10,\"min_border_top\":10,\"renderers\":[{\"id\":\"1834\"}],\"sizing_mode\":\"fixed\",\"title\":{\"id\":\"1799\"},\"toolbar\":{\"id\":\"1821\"},\"width\":700,\"x_range\":{\"id\":\"1795\"},\"x_scale\":{\"id\":\"1803\"},\"y_range\":{\"id\":\"1796\"},\"y_scale\":{\"id\":\"1805\"}},\"id\":\"1798\",\"subtype\":\"Figure\",\"type\":\"Plot\"},{\"attributes\":{\"months\":[0,6]},\"id\":\"1867\",\"type\":\"MonthsTicker\"},{\"attributes\":{\"axis\":{\"id\":\"1807\"},\"coordinates\":null,\"grid_line_color\":null,\"group\":null,\"ticker\":null},\"id\":\"1810\",\"type\":\"Grid\"},{\"attributes\":{\"months\":[0,2,4,6,8,10]},\"id\":\"1865\",\"type\":\"MonthsTicker\"},{\"attributes\":{},\"id\":\"1854\",\"type\":\"UnionRenderers\"},{\"attributes\":{\"months\":[0,4,8]},\"id\":\"1866\",\"type\":\"MonthsTicker\"}],\"root_ids\":[\"1794\"]},\"title\":\"Bokeh Application\",\"version\":\"2.4.3\"}};\n",
       "    var render_items = [{\"docid\":\"0591cc39-2e75-4d75-9805-f6c50ec562e6\",\"root_ids\":[\"1794\"],\"roots\":{\"1794\":\"221f6ef3-69e5-4056-9085-3245743635dc\"}}];\n",
       "    root.Bokeh.embed.embed_items_notebook(docs_json, render_items);\n",
       "    for (const render_item of render_items) {\n",
       "      for (const root_id of render_item.root_ids) {\n",
       "\tconst id_el = document.getElementById(root_id)\n",
       "\tif (id_el.children.length && (id_el.children[0].className === 'bk-root')) {\n",
       "\t  const root_el = id_el.children[0]\n",
       "\t  root_el.id = root_el.id + '-rendered'\n",
       "\t}\n",
       "      }\n",
       "    }\n",
       "  }\n",
       "  if (root.Bokeh !== undefined && root.Bokeh.Panel !== undefined) {\n",
       "    embed_document(root);\n",
       "  } else {\n",
       "    var attempts = 0;\n",
       "    var timer = setInterval(function(root) {\n",
       "      if (root.Bokeh !== undefined && root.Bokeh.Panel !== undefined) {\n",
       "        clearInterval(timer);\n",
       "        embed_document(root);\n",
       "      } else if (document.readyState == \"complete\") {\n",
       "        attempts++;\n",
       "        if (attempts > 200) {\n",
       "          clearInterval(timer);\n",
       "          console.log(\"Bokeh: ERROR: Unable to run BokehJS code because BokehJS library is missing\");\n",
       "        }\n",
       "      }\n",
       "    }, 25, root)\n",
       "  }\n",
       "})(window);</script>"
      ],
      "text/plain": [
       ":Curve   [date]   (cummulative)"
      ]
     },
     "execution_count": null,
     "metadata": {
      "application/vnd.holoviews_exec.v0+json": {
       "id": "1794"
      }
     },
     "output_type": "execute_result"
    }
   ],
   "source": [
    "cummulative_tribute_view = abc_tributes.hvplot.step(x='date', y='cummulative', title='Cummulative ABC Tributes', label=\"Cummulative\")\n",
    "cummulative_tribute_view"
   ]
  },
  {
   "cell_type": "code",
   "execution_count": null,
   "id": "59ea97d8-b0b3-4ea1-b5ae-4b7818159a6c",
   "metadata": {},
   "outputs": [
    {
     "data": {},
     "metadata": {},
     "output_type": "display_data"
    },
    {
     "data": {
      "application/vnd.holoviews_exec.v0+json": "",
      "text/html": [
       "<div id='2238'>\n",
       "  <div class=\"bk-root\" id=\"e8375c3f-b7bf-49bb-83e9-d8b3b14c4d7a\" data-root-id=\"2238\"></div>\n",
       "</div>\n",
       "<script type=\"application/javascript\">(function(root) {\n",
       "  function embed_document(root) {\n",
       "    var docs_json = {\"ea7cbb2a-8316-4d5d-9676-27a4e9c47443\":{\"defs\":[{\"extends\":null,\"module\":null,\"name\":\"ReactiveHTML1\",\"overrides\":[],\"properties\":[]},{\"extends\":null,\"module\":null,\"name\":\"FlexBox1\",\"overrides\":[],\"properties\":[{\"default\":\"flex-start\",\"kind\":null,\"name\":\"align_content\"},{\"default\":\"flex-start\",\"kind\":null,\"name\":\"align_items\"},{\"default\":\"row\",\"kind\":null,\"name\":\"flex_direction\"},{\"default\":\"wrap\",\"kind\":null,\"name\":\"flex_wrap\"},{\"default\":\"flex-start\",\"kind\":null,\"name\":\"justify_content\"}]},{\"extends\":null,\"module\":null,\"name\":\"GridStack1\",\"overrides\":[],\"properties\":[{\"default\":\"warn\",\"kind\":null,\"name\":\"mode\"},{\"default\":null,\"kind\":null,\"name\":\"ncols\"},{\"default\":null,\"kind\":null,\"name\":\"nrows\"},{\"default\":true,\"kind\":null,\"name\":\"allow_resize\"},{\"default\":true,\"kind\":null,\"name\":\"allow_drag\"},{\"default\":[],\"kind\":null,\"name\":\"state\"}]},{\"extends\":null,\"module\":null,\"name\":\"click1\",\"overrides\":[],\"properties\":[{\"default\":\"\",\"kind\":null,\"name\":\"terminal_output\"},{\"default\":\"\",\"kind\":null,\"name\":\"debug_name\"},{\"default\":0,\"kind\":null,\"name\":\"clears\"}]},{\"extends\":null,\"module\":null,\"name\":\"NotificationAreaBase1\",\"overrides\":[],\"properties\":[{\"default\":\"bottom-right\",\"kind\":null,\"name\":\"position\"},{\"default\":0,\"kind\":null,\"name\":\"_clear\"}]},{\"extends\":null,\"module\":null,\"name\":\"NotificationArea1\",\"overrides\":[],\"properties\":[{\"default\":[],\"kind\":null,\"name\":\"notifications\"},{\"default\":\"bottom-right\",\"kind\":null,\"name\":\"position\"},{\"default\":0,\"kind\":null,\"name\":\"_clear\"},{\"default\":[{\"background\":\"#ffc107\",\"icon\":{\"className\":\"fas fa-exclamation-triangle\",\"color\":\"white\",\"tagName\":\"i\"},\"type\":\"warning\"},{\"background\":\"#007bff\",\"icon\":{\"className\":\"fas fa-info-circle\",\"color\":\"white\",\"tagName\":\"i\"},\"type\":\"info\"}],\"kind\":null,\"name\":\"types\"}]},{\"extends\":null,\"module\":null,\"name\":\"Notification\",\"overrides\":[],\"properties\":[{\"default\":null,\"kind\":null,\"name\":\"background\"},{\"default\":3000,\"kind\":null,\"name\":\"duration\"},{\"default\":null,\"kind\":null,\"name\":\"icon\"},{\"default\":\"\",\"kind\":null,\"name\":\"message\"},{\"default\":null,\"kind\":null,\"name\":\"notification_type\"},{\"default\":false,\"kind\":null,\"name\":\"_destroyed\"}]},{\"extends\":null,\"module\":null,\"name\":\"TemplateActions1\",\"overrides\":[],\"properties\":[{\"default\":0,\"kind\":null,\"name\":\"open_modal\"},{\"default\":0,\"kind\":null,\"name\":\"close_modal\"}]},{\"extends\":null,\"module\":null,\"name\":\"MaterialTemplateActions1\",\"overrides\":[],\"properties\":[{\"default\":0,\"kind\":null,\"name\":\"open_modal\"},{\"default\":0,\"kind\":null,\"name\":\"close_modal\"}]}],\"roots\":{\"references\":[{\"attributes\":{},\"id\":\"2295\",\"type\":\"UnionRenderers\"},{\"attributes\":{},\"id\":\"2278\",\"type\":\"BasicTickFormatter\"},{\"attributes\":{\"line_color\":\"#30a2da\",\"line_width\":2,\"x\":{\"field\":\"date\"},\"y\":{\"field\":\"sum(tribute)\"}},\"id\":\"2283\",\"type\":\"Line\"},{\"attributes\":{\"label\":{\"value\":\"Cummulative\"},\"renderers\":[{\"id\":\"2319\"}]},\"id\":\"2345\",\"type\":\"LegendItem\"},{\"attributes\":{\"callback\":null,\"formatters\":{\"@{date}\":\"datetime\"},\"renderers\":[{\"id\":\"2286\"}],\"tags\":[\"hv_created\"],\"tooltips\":[[\"date\",\"@{date}{%F %T}\"],[\"sum(tribute)\",\"@{sum_left_parenthesis_tribute_right_parenthesis}\"]]},\"id\":\"2241\",\"type\":\"HoverTool\"},{\"attributes\":{\"data\":{\"date\":{\"__ndarray__\":\"AABAvyb+d0IAAIC1+gJ4QgAAgLX6AnhCAADAq84HeEIAAMCrzgd4QgAA4NTLDHhCAADg1MsMeEIAAAD+yBF4QgAAAP7IEXhCAABA9JwWeEIAAED0nBZ4QgAAgOpwG3hCAACA6nAbeEIAAKATbiB4QgAAoBNuIHhCAADAPGsleEIAAMA8ayV4QgAA4GVoKnhCAADgZWgqeEIAAACPZS94QgAAAI9lL3hCAABAhTk0eEIAAECFOTR4QgAAgHsNOXhCAACAew05eEIAAKCkCj54QgAAoKQKPnhCAADAzQdDeEIAAMDNB0N4QgAAAMTbR3hCAAAAxNtHeEIAAEC6r0x4QgAAQLqvTHhCAABg46xReEIAAGDjrFF4QgAAgAyqVnhCAACADKpWeEIAAKA1p1t4QgAAoDWnW3hCAADAXqRgeEIAAMBepGB4QgAAQO8lZXhCAABA7yVleEIAAMB/p2l4QgAAwH+naXhCAADgqKRueEIAAOCopG54QgAAANKhc3hCAAAA0qFzeEIAAADSoXN4Qg==\",\"dtype\":\"float64\",\"order\":\"little\",\"shape\":[50]},\"sum(tribute)\":{\"__ndarray__\":\"mkrZD9fOdkCaStkP1852QHBCIQIOa39AcEIhAg5rf0BaLnVicOHaQFoudWJw4dpAW7G/7J5sMkBbsb/snmwyQEVYiQuB0sJARViJC4HSwkCkcD0K1yNHQKRwPQrXI0dApEPDw9lZi0CkQ8PD2VmLQA5nfjUHAFVADmd+NQcAVUDONtfDZfWrQM4218Nl9atABoGVQ4uAe0AGgZVDi4B7QAph5472fLlACmHnjvZ8uUDb5SAOumG8QNvlIA66YbxA1pMS5X+w3D/WkxLlf7DcPwrXo3A9CkVACtejcD0KRUAJ53gbaAy/QAnneBtoDL9AKVyPwvUo9D8pXI/C9Sj0P0DaiS55b7pAQNqJLnlvukDXo3A9CtfTP9ejcD0K19M/fJRv7p5crkB8lG/unlyuQJqZmZmZmbk/mpmZmZmZuT+IqCWweD2xQIioJbB4PbFAzczMzMzMCEDNzMzMzMwIQAGEMrO1GstAAYQys7Uay0CamZmZmcl8QJqZmZmZyXxARwDyDYmhnEBHAPINiaGcQA==\",\"dtype\":\"float64\",\"order\":\"little\",\"shape\":[50]},\"sum_left_parenthesis_tribute_right_parenthesis\":{\"__ndarray__\":\"mkrZD9fOdkCaStkP1852QHBCIQIOa39AcEIhAg5rf0BaLnVicOHaQFoudWJw4dpAW7G/7J5sMkBbsb/snmwyQEVYiQuB0sJARViJC4HSwkCkcD0K1yNHQKRwPQrXI0dApEPDw9lZi0CkQ8PD2VmLQA5nfjUHAFVADmd+NQcAVUDONtfDZfWrQM4218Nl9atABoGVQ4uAe0AGgZVDi4B7QAph5472fLlACmHnjvZ8uUDb5SAOumG8QNvlIA66YbxA1pMS5X+w3D/WkxLlf7DcPwrXo3A9CkVACtejcD0KRUAJ53gbaAy/QAnneBtoDL9AKVyPwvUo9D8pXI/C9Sj0P0DaiS55b7pAQNqJLnlvukDXo3A9CtfTP9ejcD0K19M/fJRv7p5crkB8lG/unlyuQJqZmZmZmbk/mpmZmZmZuT+IqCWweD2xQIioJbB4PbFAzczMzMzMCEDNzMzMzMwIQAGEMrO1GstAAYQys7Uay0CamZmZmcl8QJqZmZmZyXxARwDyDYmhnEBHAPINiaGcQA==\",\"dtype\":\"float64\",\"order\":\"little\",\"shape\":[50]}},\"selected\":{\"id\":\"2281\"},\"selection_policy\":{\"id\":\"2295\"}},\"id\":\"2280\",\"type\":\"ColumnDataSource\"},{\"attributes\":{\"axis_label\":\"sum(tribute)\",\"coordinates\":null,\"formatter\":{\"id\":\"2278\"},\"group\":null,\"major_label_policy\":{\"id\":\"2279\"},\"ticker\":{\"id\":\"2257\"}},\"id\":\"2256\",\"type\":\"LinearAxis\"},{\"attributes\":{\"end\":105706.80534374178,\"reset_end\":105706.80534374178,\"reset_start\":-9609.600485794708,\"start\":-9609.600485794708,\"tags\":[[[\"sum(tribute)\",\"sum(tribute)\",null]]]},\"id\":\"2240\",\"type\":\"Range1d\"},{\"attributes\":{\"line_alpha\":0.2,\"line_color\":\"#30a2da\",\"line_width\":2,\"x\":{\"field\":\"date\"},\"y\":{\"field\":\"sum(tribute)\"}},\"id\":\"2285\",\"type\":\"Line\"},{\"attributes\":{},\"id\":\"2330\",\"type\":\"UnionRenderers\"},{\"attributes\":{\"children\":[{\"id\":\"2243\"}],\"height\":300,\"margin\":[0,0,0,0],\"name\":\"Row01633\",\"sizing_mode\":\"fixed\",\"tags\":[\"embedded\"],\"width\":700},\"id\":\"2238\",\"type\":\"Row\"},{\"attributes\":{},\"id\":\"2279\",\"type\":\"AllLabels\"},{\"attributes\":{\"label\":{\"value\":\"Monthly\"},\"renderers\":[{\"id\":\"2286\"}]},\"id\":\"2311\",\"type\":\"LegendItem\"},{\"attributes\":{\"coordinates\":null,\"group\":null,\"text\":\"ABC Tributes\",\"text_color\":\"black\",\"text_font_size\":\"12pt\"},\"id\":\"2244\",\"type\":\"Title\"},{\"attributes\":{\"line_color\":\"#fc4f30\",\"line_width\":2,\"x\":{\"field\":\"date\"},\"y\":{\"field\":\"cummulative\"}},\"id\":\"2346\",\"type\":\"Line\"},{\"attributes\":{},\"id\":\"2261\",\"type\":\"PanTool\"},{\"attributes\":{\"line_color\":\"#30a2da\",\"line_width\":2,\"x\":{\"field\":\"date\"},\"y\":{\"field\":\"sum(tribute)\"}},\"id\":\"2312\",\"type\":\"Line\"},{\"attributes\":{\"line_alpha\":0.1,\"line_color\":\"#30a2da\",\"line_width\":2,\"x\":{\"field\":\"date\"},\"y\":{\"field\":\"sum(tribute)\"}},\"id\":\"2284\",\"type\":\"Line\"},{\"attributes\":{},\"id\":\"2276\",\"type\":\"AllLabels\"},{\"attributes\":{\"axis_label\":\"date\",\"coordinates\":null,\"formatter\":{\"id\":\"2275\"},\"group\":null,\"major_label_policy\":{\"id\":\"2276\"},\"ticker\":{\"id\":\"2253\"}},\"id\":\"2252\",\"type\":\"DatetimeAxis\"},{\"attributes\":{},\"id\":\"2281\",\"type\":\"Selection\"},{\"attributes\":{\"end\":1680307200000.0,\"reset_end\":1680307200000.0,\"reset_start\":1648771200000.0,\"start\":1648771200000.0,\"tags\":[[[\"date\",\"date\",null]]]},\"id\":\"2239\",\"type\":\"Range1d\"},{\"attributes\":{},\"id\":\"2250\",\"type\":\"LinearScale\"},{\"attributes\":{\"num_minor_ticks\":5,\"tickers\":[{\"id\":\"2298\"},{\"id\":\"2299\"},{\"id\":\"2300\"},{\"id\":\"2301\"},{\"id\":\"2302\"},{\"id\":\"2303\"},{\"id\":\"2304\"},{\"id\":\"2305\"},{\"id\":\"2306\"},{\"id\":\"2307\"},{\"id\":\"2308\"},{\"id\":\"2309\"}]},\"id\":\"2253\",\"type\":\"DatetimeTicker\"},{\"attributes\":{\"axis\":{\"id\":\"2252\"},\"coordinates\":null,\"grid_line_color\":null,\"group\":null,\"ticker\":null},\"id\":\"2255\",\"type\":\"Grid\"},{\"attributes\":{\"below\":[{\"id\":\"2252\"}],\"center\":[{\"id\":\"2255\"},{\"id\":\"2259\"},{\"id\":\"2310\"}],\"height\":300,\"left\":[{\"id\":\"2256\"}],\"margin\":[5,5,5,5],\"min_border_bottom\":10,\"min_border_left\":10,\"min_border_right\":10,\"min_border_top\":10,\"renderers\":[{\"id\":\"2286\"},{\"id\":\"2319\"}],\"sizing_mode\":\"fixed\",\"title\":{\"id\":\"2244\"},\"toolbar\":{\"id\":\"2266\"},\"width\":700,\"x_range\":{\"id\":\"2239\"},\"x_scale\":{\"id\":\"2248\"},\"y_range\":{\"id\":\"2240\"},\"y_scale\":{\"id\":\"2250\"}},\"id\":\"2243\",\"subtype\":\"Figure\",\"type\":\"Plot\"},{\"attributes\":{\"axis\":{\"id\":\"2256\"},\"coordinates\":null,\"dimension\":1,\"grid_line_color\":null,\"group\":null,\"ticker\":null},\"id\":\"2259\",\"type\":\"Grid\"},{\"attributes\":{\"line_alpha\":0.1,\"line_color\":\"#fc4f30\",\"line_width\":2,\"x\":{\"field\":\"date\"},\"y\":{\"field\":\"cummulative\"}},\"id\":\"2317\",\"type\":\"Line\"},{\"attributes\":{\"data\":{\"cummulative\":{\"__ndarray__\":\"mkrZD9fOdkCaStkP1852QIVG/YjyHItAhUb9iPIci0COGL32V7rbQI4YvfZXuttAekh4HvO+20B6SHge877bQE56HtIZlOJATnoe0hmU4kCqCeHH4pniQKoJ4cfimeJAuRbwLkoH40C5FvAuSgfjQO3VijLKEeNA7dWKMsoR40BaSciOINHkQFpJyI4g0eRAXHRPpSEI5UBcdE+lIQjlQH1gLHfAN+hAfWAsd8A36EDBbzARBsTrQMFvMBEGxOtABlNsz8436EAGU2zPzjfoQLeYjKBIyetAt5iMoEjJ60CYtfuj1arvQJi1+6PVqu9Atzrn9f2q70C3Ouf1/arvQAA73I12fPFAADvcjXZ88UBcyp6De3zxQFzKnoN7fPFAAEcSe2Bv8kAARxJ7YG/yQJrgqxRib/JAmuCrFGJv8kAiO66fOYPzQCI7rp85g/NAvNRHOWuD80C81Ec5a4PzQDwlru/B5vZAPCWu78Hm9kDWvkeJiwP3QNa+R4mLA/dA14Z/rRF290DXhn+tEXb3QA==\",\"dtype\":\"float64\",\"order\":\"little\",\"shape\":[50]},\"date\":{\"__ndarray__\":\"AABAvyb+d0IAAIC1+gJ4QgAAgLX6AnhCAADAq84HeEIAAMCrzgd4QgAA4NTLDHhCAADg1MsMeEIAAAD+yBF4QgAAAP7IEXhCAABA9JwWeEIAAED0nBZ4QgAAgOpwG3hCAACA6nAbeEIAAKATbiB4QgAAoBNuIHhCAADAPGsleEIAAMA8ayV4QgAA4GVoKnhCAADgZWgqeEIAAACPZS94QgAAAI9lL3hCAABAhTk0eEIAAECFOTR4QgAAgHsNOXhCAACAew05eEIAAKCkCj54QgAAoKQKPnhCAADAzQdDeEIAAMDNB0N4QgAAAMTbR3hCAAAAxNtHeEIAAEC6r0x4QgAAQLqvTHhCAABg46xReEIAAGDjrFF4QgAAgAyqVnhCAACADKpWeEIAAKA1p1t4QgAAoDWnW3hCAADAXqRgeEIAAMBepGB4QgAAQO8lZXhCAABA7yVleEIAAMB/p2l4QgAAwH+naXhCAADgqKRueEIAAOCopG54QgAAANKhc3hCAAAA0qFzeEIAAADSoXN4Qg==\",\"dtype\":\"float64\",\"order\":\"little\",\"shape\":[50]}},\"selected\":{\"id\":\"2314\"},\"selection_policy\":{\"id\":\"2330\"}},\"id\":\"2313\",\"type\":\"ColumnDataSource\"},{\"attributes\":{},\"id\":\"2257\",\"type\":\"BasicTicker\"},{\"attributes\":{\"mantissas\":[1,2,5],\"max_interval\":500.0,\"num_minor_ticks\":0},\"id\":\"2298\",\"type\":\"AdaptiveTicker\"},{\"attributes\":{\"line_alpha\":0.2,\"line_color\":\"#fc4f30\",\"line_width\":2,\"x\":{\"field\":\"date\"},\"y\":{\"field\":\"cummulative\"}},\"id\":\"2318\",\"type\":\"Line\"},{\"attributes\":{\"source\":{\"id\":\"2280\"}},\"id\":\"2287\",\"type\":\"CDSView\"},{\"attributes\":{\"coordinates\":null,\"data_source\":{\"id\":\"2313\"},\"glyph\":{\"id\":\"2316\"},\"group\":null,\"hover_glyph\":null,\"muted_glyph\":{\"id\":\"2318\"},\"nonselection_glyph\":{\"id\":\"2317\"},\"selection_glyph\":{\"id\":\"2346\"},\"view\":{\"id\":\"2320\"}},\"id\":\"2319\",\"type\":\"GlyphRenderer\"},{\"attributes\":{},\"id\":\"2262\",\"type\":\"WheelZoomTool\"},{\"attributes\":{\"base\":60,\"mantissas\":[1,2,5,10,15,20,30],\"max_interval\":1800000.0,\"min_interval\":1000.0,\"num_minor_ticks\":0},\"id\":\"2299\",\"type\":\"AdaptiveTicker\"},{\"attributes\":{},\"id\":\"2248\",\"type\":\"LinearScale\"},{\"attributes\":{},\"id\":\"2260\",\"type\":\"SaveTool\"},{\"attributes\":{\"coordinates\":null,\"data_source\":{\"id\":\"2280\"},\"glyph\":{\"id\":\"2283\"},\"group\":null,\"hover_glyph\":null,\"muted_glyph\":{\"id\":\"2285\"},\"nonselection_glyph\":{\"id\":\"2284\"},\"selection_glyph\":{\"id\":\"2312\"},\"view\":{\"id\":\"2287\"}},\"id\":\"2286\",\"type\":\"GlyphRenderer\"},{\"attributes\":{\"months\":[0,1,2,3,4,5,6,7,8,9,10,11]},\"id\":\"2305\",\"type\":\"MonthsTicker\"},{\"attributes\":{\"overlay\":{\"id\":\"2265\"}},\"id\":\"2263\",\"type\":\"BoxZoomTool\"},{\"attributes\":{\"days\":[1,8,15,22]},\"id\":\"2303\",\"type\":\"DaysTicker\"},{\"attributes\":{\"callback\":null,\"formatters\":{\"@{date}\":\"datetime\"},\"renderers\":[{\"id\":\"2319\"}],\"tags\":[\"hv_created\"],\"tooltips\":[[\"date\",\"@{date}{%F %T}\"],[\"cummulative\",\"@{cummulative}\"]]},\"id\":\"2242\",\"type\":\"HoverTool\"},{\"attributes\":{},\"id\":\"2264\",\"type\":\"ResetTool\"},{\"attributes\":{},\"id\":\"2309\",\"type\":\"YearsTicker\"},{\"attributes\":{\"base\":24,\"mantissas\":[1,2,4,6,8,12],\"max_interval\":43200000.0,\"min_interval\":3600000.0,\"num_minor_ticks\":0},\"id\":\"2300\",\"type\":\"AdaptiveTicker\"},{\"attributes\":{\"source\":{\"id\":\"2313\"}},\"id\":\"2320\",\"type\":\"CDSView\"},{\"attributes\":{\"days\":[1,2,3,4,5,6,7,8,9,10,11,12,13,14,15,16,17,18,19,20,21,22,23,24,25,26,27,28,29,30,31]},\"id\":\"2301\",\"type\":\"DaysTicker\"},{\"attributes\":{\"days\":[1,4,7,10,13,16,19,22,25,28]},\"id\":\"2302\",\"type\":\"DaysTicker\"},{\"attributes\":{\"days\":[1,15]},\"id\":\"2304\",\"type\":\"DaysTicker\"},{\"attributes\":{\"active_drag\":{\"id\":\"2261\"},\"active_scroll\":{\"id\":\"2262\"},\"tools\":[{\"id\":\"2241\"},{\"id\":\"2242\"},{\"id\":\"2260\"},{\"id\":\"2261\"},{\"id\":\"2262\"},{\"id\":\"2263\"},{\"id\":\"2264\"}]},\"id\":\"2266\",\"type\":\"Toolbar\"},{\"attributes\":{\"click_policy\":\"mute\",\"coordinates\":null,\"group\":null,\"items\":[{\"id\":\"2311\"},{\"id\":\"2345\"}]},\"id\":\"2310\",\"type\":\"Legend\"},{\"attributes\":{\"bottom_units\":\"screen\",\"coordinates\":null,\"fill_alpha\":0.5,\"fill_color\":\"lightgrey\",\"group\":null,\"left_units\":\"screen\",\"level\":\"overlay\",\"line_alpha\":1.0,\"line_color\":\"black\",\"line_dash\":[4,4],\"line_width\":2,\"right_units\":\"screen\",\"syncable\":false,\"top_units\":\"screen\"},\"id\":\"2265\",\"type\":\"BoxAnnotation\"},{\"attributes\":{\"months\":[0,6]},\"id\":\"2308\",\"type\":\"MonthsTicker\"},{\"attributes\":{\"months\":[0,2,4,6,8,10]},\"id\":\"2306\",\"type\":\"MonthsTicker\"},{\"attributes\":{},\"id\":\"2275\",\"type\":\"DatetimeTickFormatter\"},{\"attributes\":{\"months\":[0,4,8]},\"id\":\"2307\",\"type\":\"MonthsTicker\"},{\"attributes\":{\"line_color\":\"#fc4f30\",\"line_width\":2,\"x\":{\"field\":\"date\"},\"y\":{\"field\":\"cummulative\"}},\"id\":\"2316\",\"type\":\"Line\"},{\"attributes\":{},\"id\":\"2314\",\"type\":\"Selection\"}],\"root_ids\":[\"2238\"]},\"title\":\"Bokeh Application\",\"version\":\"2.4.3\"}};\n",
       "    var render_items = [{\"docid\":\"ea7cbb2a-8316-4d5d-9676-27a4e9c47443\",\"root_ids\":[\"2238\"],\"roots\":{\"2238\":\"e8375c3f-b7bf-49bb-83e9-d8b3b14c4d7a\"}}];\n",
       "    root.Bokeh.embed.embed_items_notebook(docs_json, render_items);\n",
       "    for (const render_item of render_items) {\n",
       "      for (const root_id of render_item.root_ids) {\n",
       "\tconst id_el = document.getElementById(root_id)\n",
       "\tif (id_el.children.length && (id_el.children[0].className === 'bk-root')) {\n",
       "\t  const root_el = id_el.children[0]\n",
       "\t  root_el.id = root_el.id + '-rendered'\n",
       "\t}\n",
       "      }\n",
       "    }\n",
       "  }\n",
       "  if (root.Bokeh !== undefined && root.Bokeh.Panel !== undefined) {\n",
       "    embed_document(root);\n",
       "  } else {\n",
       "    var attempts = 0;\n",
       "    var timer = setInterval(function(root) {\n",
       "      if (root.Bokeh !== undefined && root.Bokeh.Panel !== undefined) {\n",
       "        clearInterval(timer);\n",
       "        embed_document(root);\n",
       "      } else if (document.readyState == \"complete\") {\n",
       "        attempts++;\n",
       "        if (attempts > 200) {\n",
       "          clearInterval(timer);\n",
       "          console.log(\"Bokeh: ERROR: Unable to run BokehJS code because BokehJS library is missing\");\n",
       "        }\n",
       "      }\n",
       "    }, 25, root)\n",
       "  }\n",
       "})(window);</script>"
      ],
      "text/plain": [
       ":Overlay\n",
       "   .Curve.Monthly     :Curve   [date]   (sum(tribute))\n",
       "   .Curve.Cummulative :Curve   [date]   (cummulative)"
      ]
     },
     "execution_count": null,
     "metadata": {
      "application/vnd.holoviews_exec.v0+json": {
       "id": "2238"
      }
     },
     "output_type": "execute_result"
    }
   ],
   "source": [
    "tribute_view = (monthly_tribute_view * cummulative_tribute_view).opts(title=\"ABC Tributes\")\n",
    "tribute_view"
   ]
  },
  {
   "cell_type": "code",
   "execution_count": null,
   "id": "1fcfaf1b-9f06-4387-8495-703a6549ac22",
   "metadata": {},
   "outputs": [],
   "source": []
  }
 ],
 "metadata": {
  "kernelspec": {
   "display_name": "python3",
   "language": "python",
   "name": "python3"
  }
 },
 "nbformat": 4,
 "nbformat_minor": 5
}
