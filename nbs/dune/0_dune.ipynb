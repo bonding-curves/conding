{
 "cells": [
  {
   "cell_type": "code",
   "execution_count": 1,
   "id": "5adce444-4eab-4e8e-b6de-8f16bfb9ab02",
   "metadata": {
    "tags": []
   },
   "outputs": [],
   "source": [
    "#| hide\n",
    "%load_ext autoreload\n",
    "%autoreload 2"
   ]
  },
  {
   "cell_type": "markdown",
   "id": "8581de73-901a-4ced-b7c9-aa3e9a33b908",
   "metadata": {},
   "source": [
    "# Dune Dashboard Base Class\n",
    "\n",
    "> Base class for pulling data from dune"
   ]
  },
  {
   "cell_type": "code",
   "execution_count": 2,
   "id": "a4841607-ca0f-49fb-8242-1750a836b3be",
   "metadata": {
    "tags": []
   },
   "outputs": [],
   "source": [
    "#| default_exp dune.dune"
   ]
  },
  {
   "cell_type": "code",
   "execution_count": 3,
   "id": "2eb05762-e296-493f-9923-fb70430c9abd",
   "metadata": {
    "tags": []
   },
   "outputs": [],
   "source": [
    "#| export\n",
    "import os\n",
    "import dotenv\n",
    "import pandas as pd\n",
    "from dune_client.types import QueryParameter\n",
    "from dune_client.client import DuneClient\n",
    "from dune_client.query import Query\n",
    "import diskcache"
   ]
  },
  {
   "cell_type": "code",
   "execution_count": 4,
   "id": "d8638c69-0d08-4123-b8fa-4d469ce05f06",
   "metadata": {
    "tags": []
   },
   "outputs": [],
   "source": [
    "# | export\n",
    "class DuneWrapper:\n",
    "    \n",
    "    def __init__(self):\n",
    "        dotenv.load_dotenv()\n",
    "        self.dune = DuneClient(os.environ[\"DUNE_API_KEY\"])\n",
    "        self.cache = diskcache.Cache('cache')\n",
    "        \n",
    "    def refresh_into_dataframe(self, query_id, params=[], name=\"Sample Query\", update_cache=False):\n",
    "        params_formatted = []\n",
    "        for parameter in params:          \n",
    "            params_formatted.append(getattr(QueryParameter, parameter[\"type\"] + \"_type\")(name=parameter[\"name\"], value=parameter[\"value\"]))\n",
    "            \n",
    "        query = Query(\n",
    "            name=name,\n",
    "            query_id=query_id,\n",
    "            params=params_formatted\n",
    "        )\n",
    "\n",
    "        cache_key = f'refresh_into_dataframe-{query_id}'\n",
    "        if (cache_key in self.cache) and not update_cache:\n",
    "            df = self.cache[cache_key]\n",
    "        else:\n",
    "            df = self.dune.refresh_into_dataframe(query=query)\n",
    "            self.cache[cache_key] = df\n",
    "        return df\n"
   ]
  },
  {
   "cell_type": "code",
   "execution_count": 5,
   "id": "a18db8a9-07ea-41bb-bd01-d1602c41cc10",
   "metadata": {
    "tags": []
   },
   "outputs": [],
   "source": [
    "dune = DuneWrapper()"
   ]
  },
  {
   "cell_type": "code",
   "execution_count": 6,
   "id": "4de825cc-996a-424a-b294-b37a57b8c29f",
   "metadata": {
    "tags": []
   },
   "outputs": [
    {
     "data": {
      "text/html": [
       "<div>\n",
       "<style scoped>\n",
       "    .dataframe tbody tr th:only-of-type {\n",
       "        vertical-align: middle;\n",
       "    }\n",
       "\n",
       "    .dataframe tbody tr th {\n",
       "        vertical-align: top;\n",
       "    }\n",
       "\n",
       "    .dataframe thead th {\n",
       "        text-align: right;\n",
       "    }\n",
       "</style>\n",
       "<table border=\"1\" class=\"dataframe\">\n",
       "  <thead>\n",
       "    <tr style=\"text-align: right;\">\n",
       "      <th></th>\n",
       "      <th>block_date</th>\n",
       "      <th>avg_mint_price</th>\n",
       "      <th>avg_burn_price</th>\n",
       "      <th>avg_mkt_price</th>\n",
       "    </tr>\n",
       "  </thead>\n",
       "  <tbody>\n",
       "    <tr>\n",
       "      <th>0</th>\n",
       "      <td>2022-01-25T00:00:00Z</td>\n",
       "      <td>1.956345888613234</td>\n",
       "      <td>&lt;nil&gt;</td>\n",
       "      <td>2.3050899888800456</td>\n",
       "    </tr>\n",
       "    <tr>\n",
       "      <th>1</th>\n",
       "      <td>2022-01-26T00:00:00Z</td>\n",
       "      <td>2.893025644547676</td>\n",
       "      <td>&lt;nil&gt;</td>\n",
       "      <td>2.5920101807901506</td>\n",
       "    </tr>\n",
       "    <tr>\n",
       "      <th>2</th>\n",
       "      <td>2022-01-27T00:00:00Z</td>\n",
       "      <td>2.864333966225624</td>\n",
       "      <td>2.2216159017515933</td>\n",
       "      <td>2.5403510974065853</td>\n",
       "    </tr>\n",
       "    <tr>\n",
       "      <th>3</th>\n",
       "      <td>2022-01-28T00:00:00Z</td>\n",
       "      <td>2.8263603268647635</td>\n",
       "      <td>2.24996276540192</td>\n",
       "      <td>2.4776305971040147</td>\n",
       "    </tr>\n",
       "    <tr>\n",
       "      <th>4</th>\n",
       "      <td>2022-01-29T00:00:00Z</td>\n",
       "      <td>2.9437308337890533</td>\n",
       "      <td>&lt;nil&gt;</td>\n",
       "      <td>2.683241567655875</td>\n",
       "    </tr>\n",
       "    <tr>\n",
       "      <th>...</th>\n",
       "      <td>...</td>\n",
       "      <td>...</td>\n",
       "      <td>...</td>\n",
       "      <td>...</td>\n",
       "    </tr>\n",
       "    <tr>\n",
       "      <th>468</th>\n",
       "      <td>2023-05-09T00:00:00Z</td>\n",
       "      <td>0.5622850229364372</td>\n",
       "      <td>0.5622850229364372</td>\n",
       "      <td>0.5258280581358534</td>\n",
       "    </tr>\n",
       "    <tr>\n",
       "      <th>469</th>\n",
       "      <td>2023-05-10T00:00:00Z</td>\n",
       "      <td>0.5608069285035435</td>\n",
       "      <td>0.5608069285035435</td>\n",
       "      <td>0.5321566407096778</td>\n",
       "    </tr>\n",
       "    <tr>\n",
       "      <th>470</th>\n",
       "      <td>2023-05-11T00:00:00Z</td>\n",
       "      <td>0.5596423808136822</td>\n",
       "      <td>0.5596423808136822</td>\n",
       "      <td>0.5216465103908255</td>\n",
       "    </tr>\n",
       "    <tr>\n",
       "      <th>471</th>\n",
       "      <td>2023-05-12T00:00:00Z</td>\n",
       "      <td>0.5540953786399315</td>\n",
       "      <td>0.5540953786399315</td>\n",
       "      <td>0.4488854737838069</td>\n",
       "    </tr>\n",
       "    <tr>\n",
       "      <th>472</th>\n",
       "      <td>2023-05-13T00:00:00Z</td>\n",
       "      <td>0.5486815642541326</td>\n",
       "      <td>0.5486815642541326</td>\n",
       "      <td>0.5252311803074452</td>\n",
       "    </tr>\n",
       "  </tbody>\n",
       "</table>\n",
       "<p>473 rows × 4 columns</p>\n",
       "</div>"
      ],
      "text/plain": [
       "               block_date      avg_mint_price      avg_burn_price  \\\n",
       "0    2022-01-25T00:00:00Z   1.956345888613234               <nil>   \n",
       "1    2022-01-26T00:00:00Z   2.893025644547676               <nil>   \n",
       "2    2022-01-27T00:00:00Z   2.864333966225624  2.2216159017515933   \n",
       "3    2022-01-28T00:00:00Z  2.8263603268647635    2.24996276540192   \n",
       "4    2022-01-29T00:00:00Z  2.9437308337890533               <nil>   \n",
       "..                    ...                 ...                 ...   \n",
       "468  2023-05-09T00:00:00Z  0.5622850229364372  0.5622850229364372   \n",
       "469  2023-05-10T00:00:00Z  0.5608069285035435  0.5608069285035435   \n",
       "470  2023-05-11T00:00:00Z  0.5596423808136822  0.5596423808136822   \n",
       "471  2023-05-12T00:00:00Z  0.5540953786399315  0.5540953786399315   \n",
       "472  2023-05-13T00:00:00Z  0.5486815642541326  0.5486815642541326   \n",
       "\n",
       "          avg_mkt_price  \n",
       "0    2.3050899888800456  \n",
       "1    2.5920101807901506  \n",
       "2    2.5403510974065853  \n",
       "3    2.4776305971040147  \n",
       "4     2.683241567655875  \n",
       "..                  ...  \n",
       "468  0.5258280581358534  \n",
       "469  0.5321566407096778  \n",
       "470  0.5216465103908255  \n",
       "471  0.4488854737838069  \n",
       "472  0.5252311803074452  \n",
       "\n",
       "[473 rows x 4 columns]"
      ]
     },
     "execution_count": 6,
     "metadata": {},
     "output_type": "execute_result"
    }
   ],
   "source": [
    "dune.refresh_into_dataframe(1898885)"
   ]
  },
  {
   "cell_type": "code",
   "execution_count": 8,
   "id": "37558c20-dbad-4bde-bd8c-95965ce60f5d",
   "metadata": {
    "tags": []
   },
   "outputs": [
    {
     "name": "stderr",
     "output_type": "stream",
     "text": [
      "2023-06-26 20:21:23,589 INFO dune_client.base_client waiting for query execution 01H3XDXGJTAT41Y2QMW22KBFR8 to complete: ExecutionState.EXECUTING\n"
     ]
    },
    {
     "data": {
      "text/html": [
       "<div>\n",
       "<style scoped>\n",
       "    .dataframe tbody tr th:only-of-type {\n",
       "        vertical-align: middle;\n",
       "    }\n",
       "\n",
       "    .dataframe tbody tr th {\n",
       "        vertical-align: top;\n",
       "    }\n",
       "\n",
       "    .dataframe thead th {\n",
       "        text-align: right;\n",
       "    }\n",
       "</style>\n",
       "<table border=\"1\" class=\"dataframe\">\n",
       "  <thead>\n",
       "    <tr style=\"text-align: right;\">\n",
       "      <th></th>\n",
       "      <th>total_pool_value</th>\n",
       "      <th>reserve_pool_value</th>\n",
       "      <th>common_pool_value</th>\n",
       "    </tr>\n",
       "  </thead>\n",
       "  <tbody>\n",
       "    <tr>\n",
       "      <th>0</th>\n",
       "      <td>1.026493e+06</td>\n",
       "      <td>418519.660202</td>\n",
       "      <td>607972.869308</td>\n",
       "    </tr>\n",
       "  </tbody>\n",
       "</table>\n",
       "</div>"
      ],
      "text/plain": [
       "   total_pool_value  reserve_pool_value  common_pool_value\n",
       "0      1.026493e+06       418519.660202      607972.869308"
      ]
     },
     "execution_count": 8,
     "metadata": {},
     "output_type": "execute_result"
    }
   ],
   "source": [
    "dune.refresh_into_dataframe(1752257, update_cache=True)"
   ]
  },
  {
   "cell_type": "code",
   "execution_count": 12,
   "id": "9704ba7e-a7d8-474e-9e50-60a90347f817",
   "metadata": {
    "tags": []
   },
   "outputs": [
    {
     "name": "stderr",
     "output_type": "stream",
     "text": [
      "2023-06-26 20:26:14,303 INFO dune_client.base_client waiting for query execution 01H3XE6CFAG1NKGAYQG00WA86P to complete: ExecutionState.EXECUTING\n"
     ]
    },
    {
     "data": {
      "text/html": [
       "<div>\n",
       "<style scoped>\n",
       "    .dataframe tbody tr th:only-of-type {\n",
       "        vertical-align: middle;\n",
       "    }\n",
       "\n",
       "    .dataframe tbody tr th {\n",
       "        vertical-align: top;\n",
       "    }\n",
       "\n",
       "    .dataframe thead th {\n",
       "        text-align: right;\n",
       "    }\n",
       "</style>\n",
       "<table border=\"1\" class=\"dataframe\">\n",
       "  <thead>\n",
       "    <tr style=\"text-align: right;\">\n",
       "      <th></th>\n",
       "      <th>total_pool_value</th>\n",
       "      <th>reserve_pool_value</th>\n",
       "      <th>common_pool_value</th>\n",
       "    </tr>\n",
       "  </thead>\n",
       "  <tbody>\n",
       "    <tr>\n",
       "      <th>0</th>\n",
       "      <td>598970.662378</td>\n",
       "      <td>204683.097109</td>\n",
       "      <td>394287.56527</td>\n",
       "    </tr>\n",
       "  </tbody>\n",
       "</table>\n",
       "</div>"
      ],
      "text/plain": [
       "   total_pool_value  reserve_pool_value  common_pool_value\n",
       "0     598970.662378       204683.097109       394287.56527"
      ]
     },
     "execution_count": 12,
     "metadata": {},
     "output_type": "execute_result"
    }
   ],
   "source": [
    "dune.refresh_into_dataframe(1752257, update_cache=True, params=[{\n",
    "    \"type\": \"date\",\n",
    "    \"name\": \"2. End Date\",\n",
    "    \"value\": \"2055-05-04 00:00:00\",\n",
    "}])"
   ]
  },
  {
   "cell_type": "code",
   "execution_count": null,
   "id": "23a006ae-8185-4928-9aa1-c9ddbe0a0ff1",
   "metadata": {},
   "outputs": [],
   "source": [
    "#| hide\n",
    "import nbdev; nbdev.nbdev_export()"
   ]
  }
 ],
 "metadata": {
  "kernelspec": {
   "display_name": "Python 3 (ipykernel)",
   "language": "python",
   "name": "python3"
  },
  "language_info": {
   "codemirror_mode": {
    "name": "ipython",
    "version": 3
   },
   "file_extension": ".py",
   "mimetype": "text/x-python",
   "name": "python",
   "nbconvert_exporter": "python",
   "pygments_lexer": "ipython3",
   "version": "3.10.6"
  }
 },
 "nbformat": 4,
 "nbformat_minor": 5
}
