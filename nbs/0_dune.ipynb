{
 "cells": [
  {
   "cell_type": "code",
   "execution_count": 42,
   "id": "5adce444-4eab-4e8e-b6de-8f16bfb9ab02",
   "metadata": {},
   "outputs": [
    {
     "name": "stdout",
     "output_type": "stream",
     "text": [
      "The autoreload extension is already loaded. To reload it, use:\n",
      "  %reload_ext autoreload\n"
     ]
    }
   ],
   "source": [
    "%load_ext autoreload\n",
    "%autoreload 2"
   ]
  },
  {
   "cell_type": "markdown",
   "id": "8581de73-901a-4ced-b7c9-aa3e9a33b908",
   "metadata": {},
   "source": [
    "# Dune Dashboard Base Class\n",
    "\n",
    "> Base class for pulling data from dune"
   ]
  },
  {
   "cell_type": "code",
   "execution_count": 43,
   "id": "a4841607-ca0f-49fb-8242-1750a836b3be",
   "metadata": {},
   "outputs": [],
   "source": [
    "#| default_exp dune"
   ]
  },
  {
   "cell_type": "code",
   "execution_count": 44,
   "id": "2eb05762-e296-493f-9923-fb70430c9abd",
   "metadata": {},
   "outputs": [],
   "source": [
    "#| export\n",
    "import os\n",
    "import dotenv\n",
    "import pandas as pd\n",
    "from dune_client.types import QueryParameter\n",
    "from dune_client.client import DuneClient\n",
    "from dune_client.query import Query"
   ]
  },
  {
   "cell_type": "code",
   "execution_count": 45,
   "id": "c9ae3fc1",
   "metadata": {},
   "outputs": [],
   "source": [
    "# dotenv.load_dotenv()\n",
    "# dune = DuneClient(os.environ[\"DUNE_API_KEY\"])\n",
    "# query = Query(\n",
    "#     name=\"Sample Query\",\n",
    "#     query_id=1215383,\n",
    "#     params=[\n",
    "#         QueryParameter.text_type(name=\"TextField\", value=\"Word\"),\n",
    "#         QueryParameter.number_type(name=\"NumberField\", value=3.1415926535),\n",
    "#         QueryParameter.date_type(name=\"DateField\", value=\"2022-05-04 00:00:00\")\n",
    "#     ],\n",
    "# )\n",
    "# print(\"Results available at\", query.url())\n",
    "# results = dune.refresh_into_dataframe(query)\n",
    "# print(results)"
   ]
  },
  {
   "cell_type": "code",
   "execution_count": 47,
   "id": "d8638c69-0d08-4123-b8fa-4d469ce05f06",
   "metadata": {},
   "outputs": [],
   "source": [
    "# | export\n",
    "class DuneClient:\n",
    "\n",
    "    def __init__(self):\n",
    "        # Load username and password from .env file.\n",
    "        dotenv.load_dotenv()\n",
    "        dune = DuneClient(os.environ[\"DUNE_API_KEY\"])\n",
    "\n",
    "    def fetch_query_results(self, name, query_id, params):\n",
    "        params_formatted = []\n",
    "\n",
    "        for parameter in params:\n",
    "            if parameter[\"type\"] == \"text\":\n",
    "                params_formatted.append(QueryParameter.text_type(name=parameter[\"name\"], value=parameter[\"value\"]))\n",
    "            elif parameter[\"type\"] == \"number\":\n",
    "                params_formatted.append(QueryParameter.number_type(name=parameter[\"name\"], value=parameter[\"value\"]))\n",
    "            elif parameter[\"type\"] == \"date\":\n",
    "                params_formatted.append(QueryParameter.date_type(name=parameter[\"name\"], value=parameter[\"value\"]))\n",
    "        \n",
    "        query = Query(\n",
    "            name=name,\n",
    "            query_id=query_id,\n",
    "            params=params_formatted\n",
    "        )\n",
    "        df = dune.refresh_into_dataframe(query)\n",
    "        return df\n"
   ]
  },
  {
   "cell_type": "code",
   "execution_count": null,
   "id": "a18db8a9-07ea-41bb-bd01-d1602c41cc10",
   "metadata": {},
   "outputs": [
    {
     "name": "stderr",
     "output_type": "stream",
     "text": [
      "2023-04-11 19:41:04,935 : WARNING : login     : Login Failed!\n",
      "2023-04-11 19:41:05,022 : ERROR : fetch_auth_token : <!DOCTYPE html>\n",
      "<!--[if lt IE 7]> <html class=\"no-js ie6 oldie\" lang=\"en-US\"> <![endif]-->\n",
      "<!--[if IE 7]>    <html class=\"no-js ie7 oldie\" lang=\"en-US\"> <![endif]-->\n",
      "<!--[if IE 8]>    <html class=\"no-js ie8 oldie\" lang=\"en-US\"> <![endif]-->\n",
      "<!--[if gt IE 8]><!--> <html class=\"no-js\" lang=\"en-US\"> <!--<![endif]-->\n",
      "<head>\n",
      "<title>Attention Required! | Cloudflare</title>\n",
      "<meta charset=\"UTF-8\" />\n",
      "<meta http-equiv=\"Content-Type\" content=\"text/html; charset=UTF-8\" />\n",
      "<meta http-equiv=\"X-UA-Compatible\" content=\"IE=Edge\" />\n",
      "<meta name=\"robots\" content=\"noindex, nofollow\" />\n",
      "<meta name=\"viewport\" content=\"width=device-width,initial-scale=1\" />\n",
      "<link rel=\"stylesheet\" id=\"cf_styles-css\" href=\"/cdn-cgi/styles/cf.errors.css\" />\n",
      "<!--[if lt IE 9]><link rel=\"stylesheet\" id='cf_styles-ie-css' href=\"/cdn-cgi/styles/cf.errors.ie.css\" /><![endif]-->\n",
      "<style>body{margin:0;padding:0}</style>\n",
      "\n",
      "\n",
      "<!--[if gte IE 10]><!-->\n",
      "<script>\n",
      "  if (!navigator.cookieEnabled) {\n",
      "    window.addEventListener('DOMContentLoaded', function () {\n",
      "      var cookieEl = document.getElementById('cookie-alert');\n",
      "      cookieEl.style.display = 'block';\n",
      "    })\n",
      "  }\n",
      "</script>\n",
      "<!--<![endif]-->\n",
      "\n",
      "\n",
      "</head>\n",
      "<body>\n",
      "  <div id=\"cf-wrapper\">\n",
      "    <div class=\"cf-alert cf-alert-error cf-cookie-error\" id=\"cookie-alert\" data-translate=\"enable_cookies\">Please enable cookies.</div>\n",
      "    <div id=\"cf-error-details\" class=\"cf-error-details-wrapper\">\n",
      "      <div class=\"cf-wrapper cf-header cf-error-overview\">\n",
      "        <h1 data-translate=\"block_headline\">Sorry, you have been blocked</h1>\n",
      "        <h2 class=\"cf-subheadline\"><span data-translate=\"unable_to_access\">You are unable to access</span> dune.com</h2>\n",
      "      </div><!-- /.header -->\n",
      "\n",
      "      <div class=\"cf-section cf-highlight\">\n",
      "        <div class=\"cf-wrapper\">\n",
      "          <div class=\"cf-screenshot-container cf-screenshot-full\">\n",
      "            \n",
      "              <span class=\"cf-no-screenshot error\"></span>\n",
      "            \n",
      "          </div>\n",
      "        </div>\n",
      "      </div><!-- /.captcha-container -->\n",
      "\n",
      "      <div class=\"cf-section cf-wrapper\">\n",
      "        <div class=\"cf-columns two\">\n",
      "          <div class=\"cf-column\">\n",
      "            <h2 data-translate=\"blocked_why_headline\">Why have I been blocked?</h2>\n",
      "\n",
      "            <p data-translate=\"blocked_why_detail\">This website is using a security service to protect itself from online attacks. The action you just performed triggered the security solution. There are several actions that could trigger this block including submitting a certain word or phrase, a SQL command or malformed data.</p>\n",
      "          </div>\n",
      "\n",
      "          <div class=\"cf-column\">\n",
      "            <h2 data-translate=\"blocked_resolve_headline\">What can I do to resolve this?</h2>\n",
      "\n",
      "            <p data-translate=\"blocked_resolve_detail\">You can email the site owner to let them know you were blocked. Please include what you were doing when this page came up and the Cloudflare Ray ID found at the bottom of this page.</p>\n",
      "          </div>\n",
      "        </div>\n",
      "      </div><!-- /.section -->\n",
      "\n",
      "      <div class=\"cf-error-footer cf-wrapper w-240 lg:w-full py-10 sm:py-4 sm:px-8 mx-auto text-center sm:text-left border-solid border-0 border-t border-gray-300\">\n",
      "  <p class=\"text-13\">\n",
      "    <span class=\"cf-footer-item sm:block sm:mb-1\">Cloudflare Ray ID: <strong class=\"font-semibold\">7b655cbff907240c</strong></span>\n",
      "    <span class=\"cf-footer-separator sm:hidden\">&bull;</span>\n",
      "    <span id=\"cf-footer-item-ip\" class=\"cf-footer-item hidden sm:block sm:mb-1\">\n",
      "      Your IP:\n",
      "      <button type=\"button\" id=\"cf-footer-ip-reveal\" class=\"cf-footer-ip-reveal-btn\">Click to reveal</button>\n",
      "      <span class=\"hidden\" id=\"cf-footer-ip\">31.49.164.205</span>\n",
      "      <span class=\"cf-footer-separator sm:hidden\">&bull;</span>\n",
      "    </span>\n",
      "    <span class=\"cf-footer-item sm:block sm:mb-1\"><span>Performance &amp; security by</span> <a rel=\"noopener noreferrer\" href=\"https://www.cloudflare.com/5xx-error-landing\" id=\"brand_link\" target=\"_blank\">Cloudflare</a></span>\n",
      "    \n",
      "  </p>\n",
      "  <script>(function(){function d(){var b=a.getElementById(\"cf-footer-item-ip\"),c=a.getElementById(\"cf-footer-ip-reveal\");b&&\"classList\"in b&&(b.classList.remove(\"hidden\"),c.addEventListener(\"click\",function(){c.classList.add(\"hidden\");a.getElementById(\"cf-footer-ip\").classList.remove(\"hidden\")}))}var a=document;document.addEventListener&&a.addEventListener(\"DOMContentLoaded\",d)})();</script>\n",
      "</div><!-- /.error-footer -->\n",
      "\n",
      "\n",
      "    </div><!-- /#cf-error-details -->\n",
      "  </div><!-- /#cf-wrapper -->\n",
      "\n",
      "  <script>\n",
      "  window._cf_translation = {};\n",
      "  \n",
      "  \n",
      "</script>\n",
      "\n",
      "</body>\n",
      "</html>\n",
      "\n"
     ]
    }
   ],
   "source": [
    "dune = DuneClient()"
   ]
  },
  {
   "cell_type": "code",
   "execution_count": null,
   "id": "23a006ae-8185-4928-9aa1-c9ddbe0a0ff1",
   "metadata": {},
   "outputs": [],
   "source": [
    "#| hide\n",
    "import nbdev; nbdev.nbdev_export()"
   ]
  }
 ],
 "metadata": {
  "kernelspec": {
   "display_name": "python3",
   "language": "python",
   "name": "python3"
  },
  "language_info": {
   "codemirror_mode": {
    "name": "ipython",
    "version": 3
   },
   "file_extension": ".py",
   "mimetype": "text/x-python",
   "name": "python",
   "nbconvert_exporter": "python",
   "pygments_lexer": "ipython3",
   "version": "3.9.2"
  }
 },
 "nbformat": 4,
 "nbformat_minor": 5
}
