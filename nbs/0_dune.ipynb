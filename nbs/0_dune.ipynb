{
 "cells": [
  {
   "cell_type": "code",
   "execution_count": 13,
   "id": "5adce444-4eab-4e8e-b6de-8f16bfb9ab02",
   "metadata": {},
   "outputs": [
    {
     "name": "stdout",
     "output_type": "stream",
     "text": [
      "The autoreload extension is already loaded. To reload it, use:\n",
      "  %reload_ext autoreload\n"
     ]
    }
   ],
   "source": [
    "%load_ext autoreload\n",
    "%autoreload 2"
   ]
  },
  {
   "cell_type": "markdown",
   "id": "8581de73-901a-4ced-b7c9-aa3e9a33b908",
   "metadata": {},
   "source": [
    "# Dune Dashboard Base Class\n",
    "\n",
    "> Base class for pulling data from dune"
   ]
  },
  {
   "cell_type": "code",
   "execution_count": 14,
   "id": "a4841607-ca0f-49fb-8242-1750a836b3be",
   "metadata": {},
   "outputs": [],
   "source": [
    "#| default_exp dune"
   ]
  },
  {
   "cell_type": "code",
   "execution_count": 15,
   "id": "2eb05762-e296-493f-9923-fb70430c9abd",
   "metadata": {},
   "outputs": [],
   "source": [
    "#| export\n",
    "import os\n",
    "import dotenv\n",
    "import pandas as pd\n",
    "from dune_client.types import QueryParameter\n",
    "from dune_client.client import DuneClient\n",
    "from dune_client.query import Query"
   ]
  },
  {
   "cell_type": "code",
   "execution_count": 16,
   "id": "c9ae3fc1",
   "metadata": {},
   "outputs": [
    {
     "name": "stdout",
     "output_type": "stream",
     "text": [
      "Results available at https://dune.com/queries/1215383?TextField=Word&NumberField=3.1415926535&DateField=2022-05-04+00%3A00%3A00\n",
      "  text_field  number_field           date_field list_field\n",
      "0       Word      3.141593  2022-05-04T00:00:00   Option 1\n"
     ]
    }
   ],
   "source": [
    "# dotenv.load_dotenv()\n",
    "# dune = DuneClient(os.environ[\"DUNE_API_KEY\"])\n",
    "# query = Query(\n",
    "#     name=\"Sample Query\",\n",
    "#     query_id=1215383,\n",
    "#     params=[\n",
    "#         QueryParameter.text_type(name=\"TextField\", value=\"Word\"),\n",
    "#         QueryParameter.number_type(name=\"NumberField\", value=3.1415926535),\n",
    "#         QueryParameter.date_type(name=\"DateField\", value=\"2022-05-04 00:00:00\")\n",
    "#     ],\n",
    "# )\n",
    "# print(\"Results available at\", query.url())\n",
    "# results = dune.refresh_into_dataframe(query)\n",
    "# print(results)"
   ]
  },
  {
   "cell_type": "code",
   "execution_count": 17,
   "id": "d8638c69-0d08-4123-b8fa-4d469ce05f06",
   "metadata": {},
   "outputs": [],
   "source": [
    "# | export\n",
    "class DuneWrapper:\n",
    "\n",
    "    def fetch_query_results(self, query_id, params, name=\"Sample Query\"):\n",
    "        dotenv.load_dotenv()\n",
    "        dune = DuneClient(os.environ[\"DUNE_API_KEY\"])\n",
    "\n",
    "        params_formatted = []\n",
    "\n",
    "        for parameter in params:          \n",
    "            params_formatted.append(getattr(QueryParameter, parameter[\"type\"] + \"_type\")(name=parameter[\"name\"], value=parameter[\"value\"]))\n",
    "        \n",
    "        if params_formatted:\n",
    "            query = Query(\n",
    "                name=name,\n",
    "                query_id=query_id,\n",
    "                params=params_formatted\n",
    "            )\n",
    "        else:\n",
    "            query = Query(\n",
    "                name=name,\n",
    "                query_id=query_id\n",
    "            )\n",
    "        \n",
    "        df = dune.refresh_into_dataframe(query)\n",
    "        return df\n"
   ]
  },
  {
   "cell_type": "code",
   "execution_count": 18,
   "id": "a18db8a9-07ea-41bb-bd01-d1602c41cc10",
   "metadata": {},
   "outputs": [],
   "source": [
    "dune = DuneWrapper()"
   ]
  },
  {
   "cell_type": "code",
   "execution_count": 19,
   "id": "23a006ae-8185-4928-9aa1-c9ddbe0a0ff1",
   "metadata": {},
   "outputs": [],
   "source": [
    "#| hide\n",
    "import nbdev; nbdev.nbdev_export()"
   ]
  }
 ],
 "metadata": {
  "kernelspec": {
   "display_name": "python3",
   "language": "python",
   "name": "python3"
  },
  "language_info": {
   "codemirror_mode": {
    "name": "ipython",
    "version": 3
   },
   "file_extension": ".py",
   "mimetype": "text/x-python",
   "name": "python",
   "nbconvert_exporter": "python",
   "pygments_lexer": "ipython3",
   "version": "3.9.2"
  }
 },
 "nbformat": 4,
 "nbformat_minor": 5
}
